{
 "nbformat": 4,
 "nbformat_minor": 0,
 "metadata": {
  "colab": {
   "provenance": []
  },
  "kernelspec": {
   "name": "python3",
   "display_name": "Python 3"
  },
  "language_info": {
   "name": "python"
  },
  "accelerator": "GPU",
  "gpuClass": "standard"
 },
 "cells": [
  {
   "cell_type": "markdown",
   "source": [
    "# Imports"
   ],
   "metadata": {
    "id": "zYJsuG58FVTf"
   }
  },
  {
   "cell_type": "code",
   "source": [
    "import torch"
   ],
   "metadata": {
    "id": "giHbUe3nFQZD",
    "executionInfo": {
     "status": "ok",
     "timestamp": 1673966003014,
     "user_tz": -360,
     "elapsed": 3094,
     "user": {
      "displayName": "Alvi Aveen Khan, 180041229",
      "userId": "13747266486304221317"
     }
    }
   },
   "execution_count": null,
   "outputs": []
  },
  {
   "cell_type": "markdown",
   "source": [
    "# Tensor Basics"
   ],
   "metadata": {
    "id": "L1i5yd16FXLe"
   }
  },
  {
   "cell_type": "code",
   "source": [
    "# Everything in pytorch is based on Tensor operations.\n",
    "# A tensor can have different dimensions\n",
    "# so it can be 1d, 2d, or even 3d and higher\n",
    "\n",
    "# scalar, vector, matrix, tensor\n",
    "\n",
    "# torch.empty(size): uninitiallized\n",
    "x = torch.empty(1) # scalar\n",
    "print(x)\n",
    "x = torch.empty(3) # vector, 1D\n",
    "print(x)\n",
    "x = torch.empty(2,3) # matrix, 2D\n",
    "print(x)\n",
    "x = torch.empty(2,2,3) # tensor, 3 dimensions\n",
    "#x = torch.empty(2,2,2,3) # tensor, 4 dimensions\n",
    "print(x)"
   ],
   "metadata": {
    "colab": {
     "base_uri": "https://localhost:8080/"
    },
    "id": "7_5KYlwwFd8_",
    "executionInfo": {
     "status": "ok",
     "timestamp": 1673966003679,
     "user_tz": -360,
     "elapsed": 676,
     "user": {
      "displayName": "Alvi Aveen Khan, 180041229",
      "userId": "13747266486304221317"
     }
    },
    "outputId": "ae88b06e-0c9d-42d2-b0e4-2aed94ea4078"
   },
   "execution_count": null,
   "outputs": []
  },
  {
   "cell_type": "code",
   "source": [
    "# torch.rand(size): random numbers [0, 1]\n",
    "x = torch.rand(5, 3)\n",
    "print(x)"
   ],
   "metadata": {
    "colab": {
     "base_uri": "https://localhost:8080/"
    },
    "id": "evfOGcUzFgNb",
    "executionInfo": {
     "status": "ok",
     "timestamp": 1673966003680,
     "user_tz": -360,
     "elapsed": 81,
     "user": {
      "displayName": "Alvi Aveen Khan, 180041229",
      "userId": "13747266486304221317"
     }
    },
    "outputId": "19c80527-809c-4838-9828-4cf6151b82f2"
   },
   "execution_count": null,
   "outputs": []
  },
  {
   "cell_type": "code",
   "source": [
    "# torch.zeros(size), fill with 0\n",
    "# torch.ones(size), fill with 1\n",
    "x = torch.zeros(5, 3)\n",
    "print(x)"
   ],
   "metadata": {
    "colab": {
     "base_uri": "https://localhost:8080/"
    },
    "id": "yw1Iwp0WFjMp",
    "executionInfo": {
     "status": "ok",
     "timestamp": 1673966003681,
     "user_tz": -360,
     "elapsed": 73,
     "user": {
      "displayName": "Alvi Aveen Khan, 180041229",
      "userId": "13747266486304221317"
     }
    },
    "outputId": "b060c84f-dae5-4b12-8029-0af623943a4a"
   },
   "execution_count": null,
   "outputs": []
  },
  {
   "cell_type": "code",
   "source": [
    "# check size\n",
    "print(x.size())"
   ],
   "metadata": {
    "colab": {
     "base_uri": "https://localhost:8080/"
    },
    "id": "iPhdc-n3FkxX",
    "executionInfo": {
     "status": "ok",
     "timestamp": 1673966003681,
     "user_tz": -360,
     "elapsed": 68,
     "user": {
      "displayName": "Alvi Aveen Khan, 180041229",
      "userId": "13747266486304221317"
     }
    },
    "outputId": "12bead62-913b-4768-9bc2-e111fa936cd6"
   },
   "execution_count": null,
   "outputs": []
  },
  {
   "cell_type": "code",
   "source": [
    "# check data type\n",
    "print(x.dtype)"
   ],
   "metadata": {
    "colab": {
     "base_uri": "https://localhost:8080/"
    },
    "id": "Fj6sER6ZFwiq",
    "executionInfo": {
     "status": "ok",
     "timestamp": 1673966003682,
     "user_tz": -360,
     "elapsed": 64,
     "user": {
      "displayName": "Alvi Aveen Khan, 180041229",
      "userId": "13747266486304221317"
     }
    },
    "outputId": "68965175-4a55-4955-e6a1-f6b36a324e68"
   },
   "execution_count": null,
   "outputs": []
  },
  {
   "cell_type": "code",
   "source": [
    "# specify types, float32 default\n",
    "x = torch.zeros(5, 3, dtype=torch.float16)\n",
    "print(x)\n",
    "\n",
    "# check type\n",
    "print(x.dtype)"
   ],
   "metadata": {
    "colab": {
     "base_uri": "https://localhost:8080/"
    },
    "id": "vV5Z4nQaFz0h",
    "executionInfo": {
     "status": "ok",
     "timestamp": 1673966003683,
     "user_tz": -360,
     "elapsed": 61,
     "user": {
      "displayName": "Alvi Aveen Khan, 180041229",
      "userId": "13747266486304221317"
     }
    },
    "outputId": "34b8083b-5c79-436e-e7f4-1ffe78adc5fd"
   },
   "execution_count": null,
   "outputs": []
  },
  {
   "cell_type": "code",
   "source": [
    "# construct from data\n",
    "x = torch.tensor([5.5, 3])\n",
    "print(x.size())"
   ],
   "metadata": {
    "colab": {
     "base_uri": "https://localhost:8080/"
    },
    "id": "ihAIPX15F4dS",
    "executionInfo": {
     "status": "ok",
     "timestamp": 1673966003683,
     "user_tz": -360,
     "elapsed": 56,
     "user": {
      "displayName": "Alvi Aveen Khan, 180041229",
      "userId": "13747266486304221317"
     }
    },
    "outputId": "eb46bf40-cbbb-4995-f748-b24e23b53154"
   },
   "execution_count": null,
   "outputs": []
  },
  {
   "cell_type": "code",
   "source": [
    "# requires_grad argument\n",
    "# This will tell pytorch that it will need to calculate the gradients for this tensor\n",
    "# later in your optimization steps\n",
    "# i.e. this is a variable in your model that you want to optimize\n",
    "x = torch.tensor([5.5, 3], requires_grad=True)"
   ],
   "metadata": {
    "id": "k3-9fUNXF7-S",
    "executionInfo": {
     "status": "ok",
     "timestamp": 1673966003683,
     "user_tz": -360,
     "elapsed": 50,
     "user": {
      "displayName": "Alvi Aveen Khan, 180041229",
      "userId": "13747266486304221317"
     }
    }
   },
   "execution_count": null,
   "outputs": []
  },
  {
   "cell_type": "code",
   "source": [
    "# Operations\n",
    "y = torch.rand(2, 2)\n",
    "x = torch.rand(2, 2)\n",
    "\n",
    "# elementwise addition\n",
    "z = x + y\n",
    "# torch.add(x,y)\n",
    "\n",
    "# in place addition, everythin with a trailing underscore is an inplace operation\n",
    "# i.e. it will modify the variable\n",
    "# y.add_(x)\n",
    "\n",
    "# substraction\n",
    "z = x - y\n",
    "z = torch.sub(x, y)\n",
    "\n",
    "# multiplication\n",
    "z = x * y\n",
    "z = torch.mul(x,y)\n",
    "\n",
    "# division\n",
    "z = x / y\n",
    "z = torch.div(x,y)"
   ],
   "metadata": {
    "id": "Ss3zyZFSGUpX",
    "executionInfo": {
     "status": "ok",
     "timestamp": 1673966003684,
     "user_tz": -360,
     "elapsed": 50,
     "user": {
      "displayName": "Alvi Aveen Khan, 180041229",
      "userId": "13747266486304221317"
     }
    }
   },
   "execution_count": null,
   "outputs": []
  },
  {
   "cell_type": "code",
   "source": [
    "# Slicing\n",
    "x = torch.rand(5,3)\n",
    "print(x)\n",
    "print(x[:, 0]) # all rows, column 0\n",
    "print(x[1, :]) # row 1, all columns\n",
    "print(x[1,1]) # element at 1, 1"
   ],
   "metadata": {
    "colab": {
     "base_uri": "https://localhost:8080/"
    },
    "id": "pyvD2QatGbMd",
    "executionInfo": {
     "status": "ok",
     "timestamp": 1673966003685,
     "user_tz": -360,
     "elapsed": 50,
     "user": {
      "displayName": "Alvi Aveen Khan, 180041229",
      "userId": "13747266486304221317"
     }
    },
    "outputId": "2a2dbc62-e4e7-4487-c53d-46cc5c72f490"
   },
   "execution_count": null,
   "outputs": []
  },
  {
   "cell_type": "code",
   "source": [
    "# Get the actual value if only 1 element in your tensor\n",
    "print(x[1,1].item())"
   ],
   "metadata": {
    "colab": {
     "base_uri": "https://localhost:8080/"
    },
    "id": "1z6t3tKtGcx6",
    "executionInfo": {
     "status": "ok",
     "timestamp": 1673966003685,
     "user_tz": -360,
     "elapsed": 46,
     "user": {
      "displayName": "Alvi Aveen Khan, 180041229",
      "userId": "13747266486304221317"
     }
    },
    "outputId": "d5aa5297-1b07-404c-b82f-da65c666b096"
   },
   "execution_count": null,
   "outputs": []
  },
  {
   "cell_type": "code",
   "source": [
    "# Reshape with torch.view()\n",
    "x = torch.randn(4, 4)\n",
    "y = x.view(16)\n",
    "z = x.view(-1, 8)  # the size -1 is inferred from other dimensions\n",
    "# if -1 it pytorch will automatically determine the necessary size\n",
    "print(x.size(), y.size(), z.size())"
   ],
   "metadata": {
    "colab": {
     "base_uri": "https://localhost:8080/"
    },
    "id": "5tY0FkXRGgC6",
    "executionInfo": {
     "status": "ok",
     "timestamp": 1673966003686,
     "user_tz": -360,
     "elapsed": 42,
     "user": {
      "displayName": "Alvi Aveen Khan, 180041229",
      "userId": "13747266486304221317"
     }
    },
    "outputId": "e0a6b768-a32d-4318-c613-b0a011f7b3e3"
   },
   "execution_count": null,
   "outputs": []
  },
  {
   "cell_type": "code",
   "source": [
    "# Numpy\n",
    "# Converting a Torch Tensor to a NumPy array and vice versa is very easy\n",
    "a = torch.ones(5)\n",
    "print(a)\n",
    "\n",
    "# torch to numpy with .numpy()\n",
    "b = a.numpy()\n",
    "print(b)\n",
    "print(type(b))"
   ],
   "metadata": {
    "colab": {
     "base_uri": "https://localhost:8080/"
    },
    "id": "GJm4c206GigB",
    "executionInfo": {
     "status": "ok",
     "timestamp": 1673966003687,
     "user_tz": -360,
     "elapsed": 39,
     "user": {
      "displayName": "Alvi Aveen Khan, 180041229",
      "userId": "13747266486304221317"
     }
    },
    "outputId": "773d27d8-5f05-49eb-c203-a6642f9598b8"
   },
   "execution_count": null,
   "outputs": []
  },
  {
   "cell_type": "code",
   "source": [
    "# Carful: If the Tensor is on the CPU (not the GPU),\n",
    "# both objects will share the same memory location, so changing one\n",
    "# will also change the other\n",
    "a.add_(1)\n",
    "print(a)\n",
    "print(b)"
   ],
   "metadata": {
    "colab": {
     "base_uri": "https://localhost:8080/"
    },
    "id": "pCUVkq9QGjhr",
    "executionInfo": {
     "status": "ok",
     "timestamp": 1673966003687,
     "user_tz": -360,
     "elapsed": 34,
     "user": {
      "displayName": "Alvi Aveen Khan, 180041229",
      "userId": "13747266486304221317"
     }
    },
    "outputId": "34b61d03-9f63-475a-ba64-80b2ebe32ae6"
   },
   "execution_count": null,
   "outputs": []
  },
  {
   "cell_type": "code",
   "source": [
    "# numpy to torch with .from_numpy(x)\n",
    "import numpy as np\n",
    "a = np.ones(5)\n",
    "b = torch.from_numpy(a)\n",
    "print(a)\n",
    "print(b)"
   ],
   "metadata": {
    "colab": {
     "base_uri": "https://localhost:8080/"
    },
    "id": "myW5IHzcGl4K",
    "executionInfo": {
     "status": "ok",
     "timestamp": 1673966003688,
     "user_tz": -360,
     "elapsed": 30,
     "user": {
      "displayName": "Alvi Aveen Khan, 180041229",
      "userId": "13747266486304221317"
     }
    },
    "outputId": "abb8d3d4-d6f3-4644-a5db-30e8745860ca"
   },
   "execution_count": null,
   "outputs": []
  },
  {
   "cell_type": "code",
   "source": [
    "# again be careful when modifying\n",
    "a += 1\n",
    "print(a)\n",
    "print(b)"
   ],
   "metadata": {
    "colab": {
     "base_uri": "https://localhost:8080/"
    },
    "id": "54hNsBGbGm1L",
    "executionInfo": {
     "status": "ok",
     "timestamp": 1673966003688,
     "user_tz": -360,
     "elapsed": 25,
     "user": {
      "displayName": "Alvi Aveen Khan, 180041229",
      "userId": "13747266486304221317"
     }
    },
    "outputId": "7b992fe6-3590-4f82-f2b8-7f15891aa851"
   },
   "execution_count": null,
   "outputs": []
  },
  {
   "cell_type": "code",
   "execution_count": null,
   "metadata": {
    "id": "XYHWuxpyA48_",
    "executionInfo": {
     "status": "ok",
     "timestamp": 1673966010044,
     "user_tz": -360,
     "elapsed": 6377,
     "user": {
      "displayName": "Alvi Aveen Khan, 180041229",
      "userId": "13747266486304221317"
     }
    }
   },
   "outputs": [],
   "source": [
    "# by default all tensors are created on the CPU,\n",
    "# but you can also move them to the GPU (only if it's available )\n",
    "if torch.cuda.is_available():\n",
    "    device = torch.device(\"cuda\")          # a CUDA device object\n",
    "    y = torch.ones_like(x, device=device)  # directly create a tensor on GPU\n",
    "    x = x.to(device)                       # or just use strings ``.to(\"cuda\")``\n",
    "    z = x + y\n",
    "    # z = z.numpy() # not possible because numpy cannot handle GPU tenors\n",
    "    # move to CPU again\n",
    "    z.to(\"cpu\")       # ``.to`` can also change dtype together!\n",
    "    # z = z.numpy()"
   ]
  },
  {
   "cell_type": "markdown",
   "source": [
    "# Autograd"
   ],
   "metadata": {
    "id": "UndGNzIaGszb"
   }
  },
  {
   "cell_type": "code",
   "source": [
    "import torch\n",
    "\n",
    "# The autograd package provides automatic differentiation \n",
    "# for all operations on Tensors"
   ],
   "metadata": {
    "id": "Z3qnWB6DGxzS",
    "executionInfo": {
     "status": "ok",
     "timestamp": 1673966010045,
     "user_tz": -360,
     "elapsed": 58,
     "user": {
      "displayName": "Alvi Aveen Khan, 180041229",
      "userId": "13747266486304221317"
     }
    }
   },
   "execution_count": null,
   "outputs": []
  },
  {
   "cell_type": "code",
   "source": [
    "x = torch.randn(3, requires_grad=True)\n",
    "y = x + 2\n",
    "\n",
    "# y was created as a result of an operation, so it has a grad_fn attribute.\n",
    "# grad_fn: references a Function that has created the Tensor\n",
    "print(x) # created by the user -> grad_fn is None\n",
    "print(y)\n",
    "print(y.grad_fn)"
   ],
   "metadata": {
    "colab": {
     "base_uri": "https://localhost:8080/"
    },
    "id": "58RbrzFYG2ou",
    "executionInfo": {
     "status": "ok",
     "timestamp": 1673966010046,
     "user_tz": -360,
     "elapsed": 54,
     "user": {
      "displayName": "Alvi Aveen Khan, 180041229",
      "userId": "13747266486304221317"
     }
    },
    "outputId": "d875d3c1-237f-475a-9d5d-bac596a29528"
   },
   "execution_count": null,
   "outputs": []
  },
  {
   "cell_type": "code",
   "source": [
    "# Do more operations on y\n",
    "z = y * y * 3\n",
    "print(z)\n",
    "z = z.mean()\n",
    "print(z)"
   ],
   "metadata": {
    "colab": {
     "base_uri": "https://localhost:8080/"
    },
    "id": "qlcMhXqaG4lB",
    "executionInfo": {
     "status": "ok",
     "timestamp": 1673966010047,
     "user_tz": -360,
     "elapsed": 52,
     "user": {
      "displayName": "Alvi Aveen Khan, 180041229",
      "userId": "13747266486304221317"
     }
    },
    "outputId": "6478e2c0-44b3-4564-e962-e612520445f7"
   },
   "execution_count": null,
   "outputs": []
  },
  {
   "cell_type": "code",
   "source": [
    "# Let's compute the gradients with backpropagation\n",
    "# When we finish our computation we can call .backward() and have all the gradients computed automatically.\n",
    "# The gradient for this tensor will be accumulated into .grad attribute.\n",
    "# It is the partial derivate of the function w.r.t. the tensor\n",
    "\n",
    "z.backward()\n",
    "print(x.grad) # dz/dx"
   ],
   "metadata": {
    "colab": {
     "base_uri": "https://localhost:8080/"
    },
    "id": "jnguJRG8G7y4",
    "executionInfo": {
     "status": "ok",
     "timestamp": 1673966010047,
     "user_tz": -360,
     "elapsed": 45,
     "user": {
      "displayName": "Alvi Aveen Khan, 180041229",
      "userId": "13747266486304221317"
     }
    },
    "outputId": "dfeb13d1-2950-4ff5-a0bd-60197a7fc9d1"
   },
   "execution_count": null,
   "outputs": []
  },
  {
   "cell_type": "code",
   "source": [
    "# Generally speaking, torch.autograd is an engine for computing vector-Jacobian product\n",
    "# It computes partial derivates while applying the chain rule\n",
    "\n",
    "# -------------\n",
    "# Model with non-scalar output:\n",
    "# If a Tensor is non-scalar (more than 1 elements), we need to specify arguments for backward() \n",
    "# specify a gradient argument that is a tensor of matching shape.\n",
    "# needed for vector-Jacobian product\n",
    "\n",
    "x = torch.randn(3, requires_grad=True)\n",
    "\n",
    "y = x * 2\n",
    "for _ in range(10):\n",
    "    y = y * 2\n",
    "\n",
    "print(y)\n",
    "print(y.shape)\n",
    "\n",
    "v = torch.tensor([0.1, 1.0, 0.0001], dtype=torch.float32)\n",
    "y.backward(v)\n",
    "print(x.grad)"
   ],
   "metadata": {
    "colab": {
     "base_uri": "https://localhost:8080/"
    },
    "id": "5HkQXsyLHDoq",
    "executionInfo": {
     "status": "ok",
     "timestamp": 1673966010048,
     "user_tz": -360,
     "elapsed": 39,
     "user": {
      "displayName": "Alvi Aveen Khan, 180041229",
      "userId": "13747266486304221317"
     }
    },
    "outputId": "581e607a-649d-43c1-bc8f-232bc07c9e48"
   },
   "execution_count": null,
   "outputs": []
  },
  {
   "cell_type": "code",
   "source": [
    "# Stop a tensor from tracking history:\n",
    "# For example during our training loop when we want to update our weights\n",
    "# then this update operation should not be part of the gradient computation\n",
    "# - x.requires_grad_(False)\n",
    "# - x.detach()\n",
    "# - wrap in 'with torch.no_grad():'\n",
    "\n",
    "# .requires_grad_(...) changes an existing flag in-place.\n",
    "a = torch.randn(2, 2)\n",
    "print(a.requires_grad)\n",
    "b = ((a * 3) / (a - 1))\n",
    "print(b.grad_fn)\n",
    "a.requires_grad_(True)\n",
    "print(a.requires_grad)\n",
    "b = (a * a).sum()\n",
    "print(b.grad_fn)\n",
    "\n",
    "# .detach(): get a new Tensor with the same content but no gradient computation:\n",
    "a = torch.randn(2, 2, requires_grad=True)\n",
    "print(a.requires_grad)\n",
    "b = a.detach()\n",
    "print(b.requires_grad)\n",
    "\n",
    "# wrap in 'with torch.no_grad():'\n",
    "a = torch.randn(2, 2, requires_grad=True)\n",
    "print(a.requires_grad)\n",
    "with torch.no_grad():\n",
    "    print((x ** 2).requires_grad)"
   ],
   "metadata": {
    "colab": {
     "base_uri": "https://localhost:8080/"
    },
    "id": "5rmr-TtjHJjE",
    "executionInfo": {
     "status": "ok",
     "timestamp": 1673966010048,
     "user_tz": -360,
     "elapsed": 34,
     "user": {
      "displayName": "Alvi Aveen Khan, 180041229",
      "userId": "13747266486304221317"
     }
    },
    "outputId": "87945f68-3db6-49b9-bb27-50758483b7c0"
   },
   "execution_count": null,
   "outputs": []
  },
  {
   "cell_type": "code",
   "source": [
    "# backward() accumulates the gradient for this tensor into .grad attribute.\n",
    "# !!! We need to be careful during optimization !!!\n",
    "# Use .zero_() to empty the gradients before a new optimization step!\n",
    "weights = torch.ones(4, requires_grad=True)\n",
    "\n",
    "for epoch in range(3):\n",
    "    # just a dummy example\n",
    "    model_output = (weights*3).sum()\n",
    "    model_output.backward()\n",
    "    \n",
    "    print(weights.grad)\n",
    "\n",
    "    # optimize model, i.e. adjust weights...\n",
    "    with torch.no_grad():\n",
    "        weights -= 0.1 * weights.grad\n",
    "\n",
    "    # this is important! It affects the final weights & output\n",
    "    weights.grad.zero_()\n",
    "\n",
    "print(weights)\n",
    "print(model_output)\n",
    "\n",
    "# Optimizer has zero_grad() method\n",
    "# optimizer = torch.optim.SGD([weights], lr=0.1)\n",
    "# During training:\n",
    "# optimizer.step()\n",
    "# optimizer.zero_grad()"
   ],
   "metadata": {
    "colab": {
     "base_uri": "https://localhost:8080/"
    },
    "id": "Z9I78yfrBFfr",
    "outputId": "7460e3a3-7f7c-47ed-e4c4-a7bddc3a2524",
    "executionInfo": {
     "status": "ok",
     "timestamp": 1673966010049,
     "user_tz": -360,
     "elapsed": 31,
     "user": {
      "displayName": "Alvi Aveen Khan, 180041229",
      "userId": "13747266486304221317"
     }
    }
   },
   "execution_count": null,
   "outputs": []
  },
  {
   "cell_type": "markdown",
   "source": [
    "# Backpropagation"
   ],
   "metadata": {
    "id": "C9JqZ52jHSdX"
   }
  },
  {
   "cell_type": "code",
   "source": [
    "x = torch.tensor(1.0)\n",
    "y = torch.tensor(2.0)\n",
    "\n",
    "# This is the parameter we want to optimize -> requires_grad=True\n",
    "w = torch.tensor(1.0, requires_grad=True)"
   ],
   "metadata": {
    "id": "J-EJ7CJkHnFL",
    "executionInfo": {
     "status": "ok",
     "timestamp": 1673966010050,
     "user_tz": -360,
     "elapsed": 25,
     "user": {
      "displayName": "Alvi Aveen Khan, 180041229",
      "userId": "13747266486304221317"
     }
    }
   },
   "execution_count": null,
   "outputs": []
  },
  {
   "cell_type": "code",
   "source": [
    "# forward pass to compute loss\n",
    "y_predicted = w * x\n",
    "loss = (y_predicted - y)**2\n",
    "print(loss)"
   ],
   "metadata": {
    "colab": {
     "base_uri": "https://localhost:8080/"
    },
    "id": "Ftf_LGMsHqci",
    "executionInfo": {
     "status": "ok",
     "timestamp": 1673966010050,
     "user_tz": -360,
     "elapsed": 24,
     "user": {
      "displayName": "Alvi Aveen Khan, 180041229",
      "userId": "13747266486304221317"
     }
    },
    "outputId": "ec2da193-88e5-4ed7-fb14-6296c92ebee0"
   },
   "execution_count": null,
   "outputs": []
  },
  {
   "cell_type": "code",
   "source": [
    "# backward pass to compute gradient dLoss/dw\n",
    "loss.backward()\n",
    "print(w.grad)"
   ],
   "metadata": {
    "colab": {
     "base_uri": "https://localhost:8080/"
    },
    "id": "N-CN3dUtHr9a",
    "executionInfo": {
     "status": "ok",
     "timestamp": 1673966010908,
     "user_tz": -360,
     "elapsed": 877,
     "user": {
      "displayName": "Alvi Aveen Khan, 180041229",
      "userId": "13747266486304221317"
     }
    },
    "outputId": "c096134c-b813-42a5-a764-ae0f52c21436"
   },
   "execution_count": null,
   "outputs": []
  },
  {
   "cell_type": "code",
   "source": [
    "# update weights\n",
    "# next forward and backward pass...\n",
    "\n",
    "# continue optimizing:\n",
    "# update weights, this operation should not be part of the computational graph\n",
    "with torch.no_grad():\n",
    "    w -= 0.01 * w.grad\n",
    "# don't forget to zero the gradients\n",
    "w.grad.zero_()"
   ],
   "metadata": {
    "colab": {
     "base_uri": "https://localhost:8080/"
    },
    "id": "2lyHNXNVBFnQ",
    "outputId": "fd3db43f-d43c-45bf-ba57-193c4b58fe58",
    "executionInfo": {
     "status": "ok",
     "timestamp": 1673966010909,
     "user_tz": -360,
     "elapsed": 83,
     "user": {
      "displayName": "Alvi Aveen Khan, 180041229",
      "userId": "13747266486304221317"
     }
    }
   },
   "execution_count": null,
   "outputs": []
  },
  {
   "cell_type": "markdown",
   "source": [
    "# Gradient Descent (Manual)"
   ],
   "metadata": {
    "id": "hBCv0cGBHwe5"
   }
  },
  {
   "cell_type": "code",
   "source": [
    "import numpy as np \n",
    "\n",
    "# Compute every step manually\n",
    "\n",
    "# Linear regression\n",
    "# f = w * x \n",
    "\n",
    "# here : f = 2 * x\n",
    "X = np.array([1, 2, 3, 4], dtype=np.float32)\n",
    "Y = np.array([2, 4, 6, 8], dtype=np.float32)\n",
    "\n",
    "w = 0.0"
   ],
   "metadata": {
    "id": "yyBc-bF4H_eb",
    "executionInfo": {
     "status": "ok",
     "timestamp": 1673966010910,
     "user_tz": -360,
     "elapsed": 83,
     "user": {
      "displayName": "Alvi Aveen Khan, 180041229",
      "userId": "13747266486304221317"
     }
    }
   },
   "execution_count": null,
   "outputs": []
  },
  {
   "cell_type": "code",
   "source": [
    "# model output\n",
    "def forward(x):\n",
    "    return w * x"
   ],
   "metadata": {
    "id": "hkAS6VrIIBft",
    "executionInfo": {
     "status": "ok",
     "timestamp": 1673966010910,
     "user_tz": -360,
     "elapsed": 82,
     "user": {
      "displayName": "Alvi Aveen Khan, 180041229",
      "userId": "13747266486304221317"
     }
    }
   },
   "execution_count": null,
   "outputs": []
  },
  {
   "cell_type": "code",
   "source": [
    "# loss = MSE\n",
    "def loss(y, y_pred):\n",
    "    return ((y_pred - y)**2).mean()"
   ],
   "metadata": {
    "id": "nicJWg9FIC2h",
    "executionInfo": {
     "status": "ok",
     "timestamp": 1673966010911,
     "user_tz": -360,
     "elapsed": 81,
     "user": {
      "displayName": "Alvi Aveen Khan, 180041229",
      "userId": "13747266486304221317"
     }
    }
   },
   "execution_count": null,
   "outputs": []
  },
  {
   "cell_type": "code",
   "source": [
    "# J = MSE = 1/N * (w*x - y)**2\n",
    "# dJ/dw = 1/N * 2x(w*x - y)\n",
    "def gradient(x, y, y_pred):\n",
    "    return np.mean(2*x*(y_pred - y))"
   ],
   "metadata": {
    "id": "_Xe0LqLyIGKm",
    "executionInfo": {
     "status": "ok",
     "timestamp": 1673966010913,
     "user_tz": -360,
     "elapsed": 82,
     "user": {
      "displayName": "Alvi Aveen Khan, 180041229",
      "userId": "13747266486304221317"
     }
    }
   },
   "execution_count": null,
   "outputs": []
  },
  {
   "cell_type": "code",
   "source": [
    "print(f'Prediction before training: f(5) = {forward(5):.3f}')\n",
    "\n",
    "# Training\n",
    "learning_rate = 0.01\n",
    "n_iters = 20\n",
    "\n",
    "for epoch in range(n_iters):\n",
    "    # predict = forward pass\n",
    "    y_pred = forward(X)\n",
    "\n",
    "    # loss\n",
    "    l = loss(Y, y_pred)\n",
    "    \n",
    "    # calculate gradients\n",
    "    dw = gradient(X, Y, y_pred)\n",
    "\n",
    "    # update weights\n",
    "    w -= learning_rate * dw\n",
    "\n",
    "    if epoch % 2 == 0:\n",
    "        print(f'epoch {epoch+1}: w = {w:.3f}, loss = {l:.8f}')\n",
    "     \n",
    "print(f'Prediction after training: f(5) = {forward(5):.3f}')"
   ],
   "metadata": {
    "colab": {
     "base_uri": "https://localhost:8080/"
    },
    "id": "8fRRmyKGBFsh",
    "outputId": "e78deec2-722b-4ee2-c204-b507481290ca",
    "executionInfo": {
     "status": "ok",
     "timestamp": 1673966010913,
     "user_tz": -360,
     "elapsed": 81,
     "user": {
      "displayName": "Alvi Aveen Khan, 180041229",
      "userId": "13747266486304221317"
     }
    }
   },
   "execution_count": null,
   "outputs": []
  },
  {
   "cell_type": "markdown",
   "source": [
    "# Gradient Descent (Auto)"
   ],
   "metadata": {
    "id": "GYp5iUWGIKTh"
   }
  },
  {
   "cell_type": "code",
   "source": [
    "import torch\n",
    "\n",
    "# Here we replace the manually computed gradient with autograd\n",
    "\n",
    "# Linear regression\n",
    "# f = w * x \n",
    "\n",
    "# here : f = 2 * x\n",
    "X = torch.tensor([1, 2, 3, 4], dtype=torch.float32)\n",
    "Y = torch.tensor([2, 4, 6, 8], dtype=torch.float32)\n",
    "\n",
    "w = torch.tensor(0.0, dtype=torch.float32, requires_grad=True)"
   ],
   "metadata": {
    "id": "sFd4BJ7_ISoW",
    "executionInfo": {
     "status": "ok",
     "timestamp": 1673966010915,
     "user_tz": -360,
     "elapsed": 76,
     "user": {
      "displayName": "Alvi Aveen Khan, 180041229",
      "userId": "13747266486304221317"
     }
    }
   },
   "execution_count": null,
   "outputs": []
  },
  {
   "cell_type": "code",
   "source": [
    "# model output\n",
    "def forward(x):\n",
    "    return w * x"
   ],
   "metadata": {
    "id": "SeR3eaLvIUQi",
    "executionInfo": {
     "status": "ok",
     "timestamp": 1673966010915,
     "user_tz": -360,
     "elapsed": 75,
     "user": {
      "displayName": "Alvi Aveen Khan, 180041229",
      "userId": "13747266486304221317"
     }
    }
   },
   "execution_count": null,
   "outputs": []
  },
  {
   "cell_type": "code",
   "source": [
    "# loss = MSE\n",
    "def loss(y, y_pred):\n",
    "    return ((y_pred - y)**2).mean()"
   ],
   "metadata": {
    "id": "jjcmVA9zIVoj",
    "executionInfo": {
     "status": "ok",
     "timestamp": 1673966010916,
     "user_tz": -360,
     "elapsed": 74,
     "user": {
      "displayName": "Alvi Aveen Khan, 180041229",
      "userId": "13747266486304221317"
     }
    }
   },
   "execution_count": null,
   "outputs": []
  },
  {
   "cell_type": "code",
   "source": [
    "print(f'Prediction before training: f(5) = {forward(5).item():.3f}')\n",
    "\n",
    "# Training\n",
    "learning_rate = 0.01\n",
    "n_iters = 100\n",
    "\n",
    "for epoch in range(n_iters):\n",
    "    # predict = forward pass\n",
    "    y_pred = forward(X)\n",
    "\n",
    "    # loss\n",
    "    l = loss(Y, y_pred)\n",
    "\n",
    "    # calculate gradients = backward pass\n",
    "    l.backward()\n",
    "\n",
    "    # update weights\n",
    "    #w.data = w.data - learning_rate * w.grad\n",
    "    with torch.no_grad():\n",
    "        w -= learning_rate * w.grad\n",
    "    \n",
    "    # zero the gradients after updating\n",
    "    w.grad.zero_()\n",
    "\n",
    "    if epoch % 10 == 0:\n",
    "        print(f'epoch {epoch+1}: w = {w.item():.3f}, loss = {l.item():.8f}')\n",
    "\n",
    "print(f'Prediction after training: f(5) = {forward(5).item():.3f}')"
   ],
   "metadata": {
    "colab": {
     "base_uri": "https://localhost:8080/"
    },
    "id": "Bq5Knuy5BFwt",
    "outputId": "d0f1079d-d10f-4f8f-d5e3-e808fa497ef1",
    "executionInfo": {
     "status": "ok",
     "timestamp": 1673966010917,
     "user_tz": -360,
     "elapsed": 74,
     "user": {
      "displayName": "Alvi Aveen Khan, 180041229",
      "userId": "13747266486304221317"
     }
    }
   },
   "execution_count": null,
   "outputs": []
  },
  {
   "cell_type": "markdown",
   "source": [
    "# Loss and Optimizer"
   ],
   "metadata": {
    "id": "iOoAirpBIZOc"
   }
  },
  {
   "cell_type": "code",
   "source": [
    "# 1) Design model (input, output, forward pass with different layers)\n",
    "# 2) Construct loss and optimizer\n",
    "# 3) Training loop\n",
    "#       - Forward = compute prediction and loss\n",
    "#       - Backward = compute gradients\n",
    "#       - Update weights\n",
    "\n",
    "import torch\n",
    "import torch.nn as nn\n",
    "\n",
    "# Linear regression\n",
    "# f = w * x \n",
    "\n",
    "# here : f = 2 * x\n",
    "\n",
    "# 0) Training samples\n",
    "X = torch.tensor([1, 2, 3, 4], dtype=torch.float32)\n",
    "Y = torch.tensor([2, 4, 6, 8], dtype=torch.float32)\n",
    "\n",
    "# 1) Design Model: Weights to optimize and forward function\n",
    "w = torch.tensor(0.0, dtype=torch.float32, requires_grad=True)"
   ],
   "metadata": {
    "id": "sVIM_IBuIibp",
    "executionInfo": {
     "status": "ok",
     "timestamp": 1673966010918,
     "user_tz": -360,
     "elapsed": 67,
     "user": {
      "displayName": "Alvi Aveen Khan, 180041229",
      "userId": "13747266486304221317"
     }
    }
   },
   "execution_count": null,
   "outputs": []
  },
  {
   "cell_type": "code",
   "source": [
    "def forward(x):\n",
    "    return w * x"
   ],
   "metadata": {
    "id": "fwZWAYlaIj8S",
    "executionInfo": {
     "status": "ok",
     "timestamp": 1673966010919,
     "user_tz": -360,
     "elapsed": 66,
     "user": {
      "displayName": "Alvi Aveen Khan, 180041229",
      "userId": "13747266486304221317"
     }
    }
   },
   "execution_count": null,
   "outputs": []
  },
  {
   "cell_type": "code",
   "source": [
    "print(f'Prediction before training: f(5) = {forward(5).item():.3f}')\n",
    "\n",
    "# 2) Define loss and optimizer\n",
    "learning_rate = 0.01\n",
    "n_iters = 100\n",
    "\n",
    "# callable function\n",
    "loss = nn.MSELoss()\n",
    "\n",
    "optimizer = torch.optim.SGD([w], lr=learning_rate)\n",
    "\n",
    "# 3) Training loop\n",
    "for epoch in range(n_iters):\n",
    "    # predict = forward pass\n",
    "    y_predicted = forward(X)\n",
    "\n",
    "    # loss\n",
    "    l = loss(Y, y_predicted)\n",
    "\n",
    "    # calculate gradients = backward pass\n",
    "    l.backward()\n",
    "\n",
    "    # update weights\n",
    "    optimizer.step()\n",
    "\n",
    "    # zero the gradients after updating\n",
    "    optimizer.zero_grad()\n",
    "\n",
    "    if epoch % 10 == 0:\n",
    "        print('epoch ', epoch+1, ': w = ', w, ' loss = ', l)\n",
    "\n",
    "print(f'Prediction after training: f(5) = {forward(5).item():.3f}')"
   ],
   "metadata": {
    "colab": {
     "base_uri": "https://localhost:8080/"
    },
    "id": "Dmn-oechBF0i",
    "outputId": "61192af2-ed8b-496d-ab19-42ecb270b764",
    "executionInfo": {
     "status": "ok",
     "timestamp": 1673966010920,
     "user_tz": -360,
     "elapsed": 66,
     "user": {
      "displayName": "Alvi Aveen Khan, 180041229",
      "userId": "13747266486304221317"
     }
    }
   },
   "execution_count": null,
   "outputs": []
  },
  {
   "cell_type": "markdown",
   "source": [
    "# Model Loss and Optimizer"
   ],
   "metadata": {
    "id": "kn5s6KxjIoSy"
   }
  },
  {
   "cell_type": "code",
   "source": [
    "# 1) Design model (input, output, forward pass with different layers)\n",
    "# 2) Construct loss and optimizer\n",
    "# 3) Training loop\n",
    "#       - Forward = compute prediction and loss\n",
    "#       - Backward = compute gradients\n",
    "#       - Update weights\n",
    "\n",
    "import torch\n",
    "import torch.nn as nn\n",
    "\n",
    "# Linear regression\n",
    "# f = w * x \n",
    "\n",
    "# here : f = 2 * x\n",
    "\n",
    "# 0) Training samples, watch the shape!\n",
    "X = torch.tensor([[1], [2], [3], [4]], dtype=torch.float32)\n",
    "Y = torch.tensor([[2], [4], [6], [8]], dtype=torch.float32)\n",
    "\n",
    "n_samples, n_features = X.shape\n",
    "print(f'#samples: {n_samples}, #features: {n_features}')\n",
    "# 0) create a test sample\n",
    "X_test = torch.tensor([5], dtype=torch.float32)"
   ],
   "metadata": {
    "colab": {
     "base_uri": "https://localhost:8080/"
    },
    "id": "JAFNcwO0IzNK",
    "executionInfo": {
     "status": "ok",
     "timestamp": 1673966010921,
     "user_tz": -360,
     "elapsed": 56,
     "user": {
      "displayName": "Alvi Aveen Khan, 180041229",
      "userId": "13747266486304221317"
     }
    },
    "outputId": "3a4b691b-9b68-46db-b4d8-29262c6bf3c3"
   },
   "execution_count": null,
   "outputs": []
  },
  {
   "cell_type": "code",
   "source": [
    "# 1) Design Model, the model has to implement the forward pass!\n",
    "# Here we can use a built-in model from PyTorch\n",
    "input_size = n_features\n",
    "output_size = n_features\n",
    "\n",
    "# we can call this model with samples X\n",
    "model = nn.Linear(input_size, output_size)"
   ],
   "metadata": {
    "id": "nsaCfupII29b",
    "executionInfo": {
     "status": "ok",
     "timestamp": 1673966010923,
     "user_tz": -360,
     "elapsed": 50,
     "user": {
      "displayName": "Alvi Aveen Khan, 180041229",
      "userId": "13747266486304221317"
     }
    }
   },
   "execution_count": null,
   "outputs": []
  },
  {
   "cell_type": "code",
   "source": [
    "'''\n",
    "class LinearRegression(nn.Module):\n",
    "    def __init__(self, input_dim, output_dim):\n",
    "        super(LinearRegression, self).__init__()\n",
    "        # define diferent layers\n",
    "        self.lin = nn.Linear(input_dim, output_dim)\n",
    "    def forward(self, x):\n",
    "        return self.lin(x)\n",
    "model = LinearRegression(input_size, output_size)\n",
    "'''\n",
    "\n",
    "print(f'Prediction before training: f(5) = {model(X_test).item():.3f}')\n",
    "\n",
    "# 2) Define loss and optimizer\n",
    "learning_rate = 0.01\n",
    "n_iters = 100\n",
    "\n",
    "loss = nn.MSELoss()\n",
    "optimizer = torch.optim.SGD(model.parameters(), lr=learning_rate)\n",
    "\n",
    "# 3) Training loop\n",
    "for epoch in range(n_iters):\n",
    "    # predict = forward pass with our model\n",
    "    y_predicted = model(X)\n",
    "\n",
    "    # loss\n",
    "    l = loss(Y, y_predicted)\n",
    "\n",
    "    # calculate gradients = backward pass\n",
    "    l.backward()\n",
    "\n",
    "    # update weights\n",
    "    optimizer.step()\n",
    "\n",
    "    # zero the gradients after updating\n",
    "    optimizer.zero_grad()\n",
    "\n",
    "    if epoch % 10 == 0:\n",
    "        [w, b] = model.parameters() # unpack parameters\n",
    "        print('epoch ', epoch+1, ': w = ', w[0][0].item(), ' loss = ', l)\n",
    "\n",
    "print(f'Prediction after training: f(5) = {model(X_test).item():.3f}')"
   ],
   "metadata": {
    "colab": {
     "base_uri": "https://localhost:8080/"
    },
    "id": "uUl3aPoWBF3p",
    "outputId": "ecb77a2a-17a7-471d-fe14-256cdff5edfd",
    "executionInfo": {
     "status": "ok",
     "timestamp": 1673966011470,
     "user_tz": -360,
     "elapsed": 596,
     "user": {
      "displayName": "Alvi Aveen Khan, 180041229",
      "userId": "13747266486304221317"
     }
    }
   },
   "execution_count": null,
   "outputs": []
  },
  {
   "cell_type": "markdown",
   "source": [
    "# Linear Regression"
   ],
   "metadata": {
    "id": "7FXseOX5I6ka"
   }
  },
  {
   "cell_type": "code",
   "source": [
    "import torch\n",
    "import torch.nn as nn\n",
    "import numpy as np\n",
    "from sklearn import datasets\n",
    "import matplotlib.pyplot as plt\n",
    "\n",
    "# 0) Prepare data\n",
    "X_numpy, y_numpy = datasets.make_regression(n_samples=100, n_features=1, noise=20, random_state=4)\n",
    "\n",
    "# cast to float Tensor\n",
    "X = torch.from_numpy(X_numpy.astype(np.float32))\n",
    "y = torch.from_numpy(y_numpy.astype(np.float32))\n",
    "y = y.view(y.shape[0], 1)"
   ],
   "metadata": {
    "id": "xsZVIXVhI_1S",
    "executionInfo": {
     "status": "ok",
     "timestamp": 1673966013481,
     "user_tz": -360,
     "elapsed": 2017,
     "user": {
      "displayName": "Alvi Aveen Khan, 180041229",
      "userId": "13747266486304221317"
     }
    }
   },
   "execution_count": null,
   "outputs": []
  },
  {
   "cell_type": "code",
   "source": [
    "n_samples, n_features = X.shape\n",
    "\n",
    "# 1) Model\n",
    "# Linear model f = wx + b\n",
    "input_size = n_features\n",
    "output_size = 1\n",
    "model = nn.Linear(input_size, output_size)"
   ],
   "metadata": {
    "id": "z4ANnq2OJDQc",
    "executionInfo": {
     "status": "ok",
     "timestamp": 1673966013482,
     "user_tz": -360,
     "elapsed": 11,
     "user": {
      "displayName": "Alvi Aveen Khan, 180041229",
      "userId": "13747266486304221317"
     }
    }
   },
   "execution_count": null,
   "outputs": []
  },
  {
   "cell_type": "code",
   "source": [
    "# 2) Loss and optimizer\n",
    "learning_rate = 0.01\n",
    "\n",
    "criterion = nn.MSELoss()\n",
    "optimizer = torch.optim.SGD(model.parameters(), lr=learning_rate)  \n",
    "\n",
    "# 3) Training loop\n",
    "num_epochs = 100\n",
    "for epoch in range(num_epochs):\n",
    "    # Forward pass and loss\n",
    "    y_predicted = model(X)\n",
    "    loss = criterion(y_predicted, y)\n",
    "    \n",
    "    # Backward pass and update\n",
    "    loss.backward()\n",
    "    optimizer.step()\n",
    "\n",
    "    # zero grad before new step\n",
    "    optimizer.zero_grad()\n",
    "\n",
    "    if (epoch+1) % 10 == 0:\n",
    "        print(f'epoch: {epoch+1}, loss = {loss.item():.4f}')"
   ],
   "metadata": {
    "colab": {
     "base_uri": "https://localhost:8080/"
    },
    "id": "tCOUgI3XBF6-",
    "outputId": "58d6a52d-ac27-4b23-8baf-2091797cafdb",
    "executionInfo": {
     "status": "ok",
     "timestamp": 1673966013484,
     "user_tz": -360,
     "elapsed": 11,
     "user": {
      "displayName": "Alvi Aveen Khan, 180041229",
      "userId": "13747266486304221317"
     }
    }
   },
   "execution_count": null,
   "outputs": []
  },
  {
   "cell_type": "code",
   "source": [
    "# Plot\n",
    "predicted = model(X).detach().numpy()\n",
    "\n",
    "plt.plot(X_numpy, y_numpy, 'ro')\n",
    "plt.plot(X_numpy, predicted, 'b')\n",
    "plt.show()"
   ],
   "metadata": {
    "colab": {
     "base_uri": "https://localhost:8080/",
     "height": 265
    },
    "id": "lA4CC3D1JHBF",
    "executionInfo": {
     "status": "ok",
     "timestamp": 1673966014329,
     "user_tz": -360,
     "elapsed": 853,
     "user": {
      "displayName": "Alvi Aveen Khan, 180041229",
      "userId": "13747266486304221317"
     }
    },
    "outputId": "ea02777e-605d-4783-f852-509adee203bc"
   },
   "execution_count": null,
   "outputs": []
  },
  {
   "cell_type": "markdown",
   "source": [
    "# Logsitic Regression"
   ],
   "metadata": {
    "id": "XoGjOutuJILv"
   }
  },
  {
   "cell_type": "code",
   "source": [
    "import torch\n",
    "import torch.nn as nn\n",
    "import numpy as np\n",
    "from sklearn import datasets\n",
    "from sklearn.preprocessing import StandardScaler\n",
    "from sklearn.model_selection import train_test_split\n",
    "\n",
    "# 0) Prepare data\n",
    "bc = datasets.load_breast_cancer()\n",
    "X, y = bc.data, bc.target\n",
    "\n",
    "n_samples, n_features = X.shape\n",
    "\n",
    "X_train, X_test, y_train, y_test = train_test_split(X, y, test_size=0.2, random_state=1234)\n",
    "\n",
    "# scale\n",
    "sc = StandardScaler()\n",
    "X_train = sc.fit_transform(X_train)\n",
    "X_test = sc.transform(X_test)\n",
    "\n",
    "X_train = torch.from_numpy(X_train.astype(np.float32))\n",
    "X_test = torch.from_numpy(X_test.astype(np.float32))\n",
    "y_train = torch.from_numpy(y_train.astype(np.float32))\n",
    "y_test = torch.from_numpy(y_test.astype(np.float32))\n",
    "\n",
    "y_train = y_train.view(y_train.shape[0], 1)\n",
    "y_test = y_test.view(y_test.shape[0], 1)"
   ],
   "metadata": {
    "id": "K2M1NT_NJNji",
    "executionInfo": {
     "status": "ok",
     "timestamp": 1673966014330,
     "user_tz": -360,
     "elapsed": 34,
     "user": {
      "displayName": "Alvi Aveen Khan, 180041229",
      "userId": "13747266486304221317"
     }
    }
   },
   "execution_count": null,
   "outputs": []
  },
  {
   "cell_type": "code",
   "source": [
    "# 1) Model\n",
    "# Linear model f = wx + b , sigmoid at the end\n",
    "class Model(nn.Module):\n",
    "    def __init__(self, n_input_features):\n",
    "        super(Model, self).__init__()\n",
    "        self.linear = nn.Linear(n_input_features, 1)\n",
    "\n",
    "    def forward(self, x):\n",
    "        y_pred = torch.sigmoid(self.linear(x))\n",
    "        return y_pred\n",
    "\n",
    "model = Model(n_features)"
   ],
   "metadata": {
    "id": "p4V-vwkTJS1t",
    "executionInfo": {
     "status": "ok",
     "timestamp": 1673966014331,
     "user_tz": -360,
     "elapsed": 34,
     "user": {
      "displayName": "Alvi Aveen Khan, 180041229",
      "userId": "13747266486304221317"
     }
    }
   },
   "execution_count": null,
   "outputs": []
  },
  {
   "cell_type": "code",
   "source": [
    "# 2) Loss and optimizer\n",
    "num_epochs = 100\n",
    "learning_rate = 0.01\n",
    "criterion = nn.BCELoss()\n",
    "optimizer = torch.optim.SGD(model.parameters(), lr=learning_rate)\n",
    "\n",
    "# 3) Training loop\n",
    "for epoch in range(num_epochs):\n",
    "    # Forward pass and loss\n",
    "    y_pred = model(X_train)\n",
    "    loss = criterion(y_pred, y_train)\n",
    "\n",
    "    # Backward pass and update\n",
    "    loss.backward()\n",
    "    optimizer.step()\n",
    "\n",
    "    # zero grad before new step\n",
    "    optimizer.zero_grad()\n",
    "\n",
    "    if (epoch+1) % 10 == 0:\n",
    "        print(f'epoch: {epoch+1}, loss = {loss.item():.4f}')\n",
    "\n",
    "\n",
    "with torch.no_grad():\n",
    "    y_predicted = model(X_test)\n",
    "    y_predicted_cls = y_predicted.round()\n",
    "    acc = y_predicted_cls.eq(y_test).sum() / float(y_test.shape[0])\n",
    "    print(f'accuracy: {acc.item():.4f}')"
   ],
   "metadata": {
    "colab": {
     "base_uri": "https://localhost:8080/"
    },
    "id": "8likpAdKBF9x",
    "outputId": "a180c5bd-f061-475a-c9e6-e73ad33ebe36",
    "executionInfo": {
     "status": "ok",
     "timestamp": 1673966014332,
     "user_tz": -360,
     "elapsed": 35,
     "user": {
      "displayName": "Alvi Aveen Khan, 180041229",
      "userId": "13747266486304221317"
     }
    }
   },
   "execution_count": null,
   "outputs": []
  }
 ]
}
