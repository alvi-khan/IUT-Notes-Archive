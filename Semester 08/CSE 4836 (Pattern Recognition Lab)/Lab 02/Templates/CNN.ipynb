{
 "nbformat": 4,
 "nbformat_minor": 0,
 "metadata": {
  "colab": {
   "provenance": []
  },
  "kernelspec": {
   "name": "python3",
   "display_name": "Python 3"
  },
  "language_info": {
   "name": "python"
  },
  "accelerator": "GPU",
  "gpuClass": "standard",
  "widgets": {
   "application/vnd.jupyter.widget-state+json": {
    "a99f734772f64f3ab87ea518fdfce1e9": {
     "model_module": "@jupyter-widgets/controls",
     "model_name": "HBoxModel",
     "model_module_version": "1.5.0",
     "state": {
      "_dom_classes": [],
      "_model_module": "@jupyter-widgets/controls",
      "_model_module_version": "1.5.0",
      "_model_name": "HBoxModel",
      "_view_count": null,
      "_view_module": "@jupyter-widgets/controls",
      "_view_module_version": "1.5.0",
      "_view_name": "HBoxView",
      "box_style": "",
      "children": [
       "IPY_MODEL_1ce001cf07e24a31996e2f22db0efe9c",
       "IPY_MODEL_4e562fcaa41444bab07287b8440b2ea5",
       "IPY_MODEL_d8f29da87d62476594a1086c1517f0d3"
      ],
      "layout": "IPY_MODEL_e80c387cc3eb468db4cc606f6f055b6a"
     }
    },
    "1ce001cf07e24a31996e2f22db0efe9c": {
     "model_module": "@jupyter-widgets/controls",
     "model_name": "HTMLModel",
     "model_module_version": "1.5.0",
     "state": {
      "_dom_classes": [],
      "_model_module": "@jupyter-widgets/controls",
      "_model_module_version": "1.5.0",
      "_model_name": "HTMLModel",
      "_view_count": null,
      "_view_module": "@jupyter-widgets/controls",
      "_view_module_version": "1.5.0",
      "_view_name": "HTMLView",
      "description": "",
      "description_tooltip": null,
      "layout": "IPY_MODEL_30b3d88732b445bba1939063bbb9f781",
      "placeholder": "​",
      "style": "IPY_MODEL_f57241a8ebc44a06bbfdc0a2d6cf937b",
      "value": "100%"
     }
    },
    "4e562fcaa41444bab07287b8440b2ea5": {
     "model_module": "@jupyter-widgets/controls",
     "model_name": "FloatProgressModel",
     "model_module_version": "1.5.0",
     "state": {
      "_dom_classes": [],
      "_model_module": "@jupyter-widgets/controls",
      "_model_module_version": "1.5.0",
      "_model_name": "FloatProgressModel",
      "_view_count": null,
      "_view_module": "@jupyter-widgets/controls",
      "_view_module_version": "1.5.0",
      "_view_name": "ProgressView",
      "bar_style": "success",
      "description": "",
      "description_tooltip": null,
      "layout": "IPY_MODEL_1fdf273841e74932838ada03efbfb3a6",
      "max": 170498071,
      "min": 0,
      "orientation": "horizontal",
      "style": "IPY_MODEL_dc013f990fb148f5886c81433b5f20a1",
      "value": 170498071
     }
    },
    "d8f29da87d62476594a1086c1517f0d3": {
     "model_module": "@jupyter-widgets/controls",
     "model_name": "HTMLModel",
     "model_module_version": "1.5.0",
     "state": {
      "_dom_classes": [],
      "_model_module": "@jupyter-widgets/controls",
      "_model_module_version": "1.5.0",
      "_model_name": "HTMLModel",
      "_view_count": null,
      "_view_module": "@jupyter-widgets/controls",
      "_view_module_version": "1.5.0",
      "_view_name": "HTMLView",
      "description": "",
      "description_tooltip": null,
      "layout": "IPY_MODEL_27e2651d830543cd96f860ffb7fe36fe",
      "placeholder": "​",
      "style": "IPY_MODEL_17b895f66ffe4adf9bbf5e3e5ee8bc37",
      "value": " 170498071/170498071 [00:05&lt;00:00, 32296405.36it/s]"
     }
    },
    "e80c387cc3eb468db4cc606f6f055b6a": {
     "model_module": "@jupyter-widgets/base",
     "model_name": "LayoutModel",
     "model_module_version": "1.2.0",
     "state": {
      "_model_module": "@jupyter-widgets/base",
      "_model_module_version": "1.2.0",
      "_model_name": "LayoutModel",
      "_view_count": null,
      "_view_module": "@jupyter-widgets/base",
      "_view_module_version": "1.2.0",
      "_view_name": "LayoutView",
      "align_content": null,
      "align_items": null,
      "align_self": null,
      "border": null,
      "bottom": null,
      "display": null,
      "flex": null,
      "flex_flow": null,
      "grid_area": null,
      "grid_auto_columns": null,
      "grid_auto_flow": null,
      "grid_auto_rows": null,
      "grid_column": null,
      "grid_gap": null,
      "grid_row": null,
      "grid_template_areas": null,
      "grid_template_columns": null,
      "grid_template_rows": null,
      "height": null,
      "justify_content": null,
      "justify_items": null,
      "left": null,
      "margin": null,
      "max_height": null,
      "max_width": null,
      "min_height": null,
      "min_width": null,
      "object_fit": null,
      "object_position": null,
      "order": null,
      "overflow": null,
      "overflow_x": null,
      "overflow_y": null,
      "padding": null,
      "right": null,
      "top": null,
      "visibility": null,
      "width": null
     }
    },
    "30b3d88732b445bba1939063bbb9f781": {
     "model_module": "@jupyter-widgets/base",
     "model_name": "LayoutModel",
     "model_module_version": "1.2.0",
     "state": {
      "_model_module": "@jupyter-widgets/base",
      "_model_module_version": "1.2.0",
      "_model_name": "LayoutModel",
      "_view_count": null,
      "_view_module": "@jupyter-widgets/base",
      "_view_module_version": "1.2.0",
      "_view_name": "LayoutView",
      "align_content": null,
      "align_items": null,
      "align_self": null,
      "border": null,
      "bottom": null,
      "display": null,
      "flex": null,
      "flex_flow": null,
      "grid_area": null,
      "grid_auto_columns": null,
      "grid_auto_flow": null,
      "grid_auto_rows": null,
      "grid_column": null,
      "grid_gap": null,
      "grid_row": null,
      "grid_template_areas": null,
      "grid_template_columns": null,
      "grid_template_rows": null,
      "height": null,
      "justify_content": null,
      "justify_items": null,
      "left": null,
      "margin": null,
      "max_height": null,
      "max_width": null,
      "min_height": null,
      "min_width": null,
      "object_fit": null,
      "object_position": null,
      "order": null,
      "overflow": null,
      "overflow_x": null,
      "overflow_y": null,
      "padding": null,
      "right": null,
      "top": null,
      "visibility": null,
      "width": null
     }
    },
    "f57241a8ebc44a06bbfdc0a2d6cf937b": {
     "model_module": "@jupyter-widgets/controls",
     "model_name": "DescriptionStyleModel",
     "model_module_version": "1.5.0",
     "state": {
      "_model_module": "@jupyter-widgets/controls",
      "_model_module_version": "1.5.0",
      "_model_name": "DescriptionStyleModel",
      "_view_count": null,
      "_view_module": "@jupyter-widgets/base",
      "_view_module_version": "1.2.0",
      "_view_name": "StyleView",
      "description_width": ""
     }
    },
    "1fdf273841e74932838ada03efbfb3a6": {
     "model_module": "@jupyter-widgets/base",
     "model_name": "LayoutModel",
     "model_module_version": "1.2.0",
     "state": {
      "_model_module": "@jupyter-widgets/base",
      "_model_module_version": "1.2.0",
      "_model_name": "LayoutModel",
      "_view_count": null,
      "_view_module": "@jupyter-widgets/base",
      "_view_module_version": "1.2.0",
      "_view_name": "LayoutView",
      "align_content": null,
      "align_items": null,
      "align_self": null,
      "border": null,
      "bottom": null,
      "display": null,
      "flex": null,
      "flex_flow": null,
      "grid_area": null,
      "grid_auto_columns": null,
      "grid_auto_flow": null,
      "grid_auto_rows": null,
      "grid_column": null,
      "grid_gap": null,
      "grid_row": null,
      "grid_template_areas": null,
      "grid_template_columns": null,
      "grid_template_rows": null,
      "height": null,
      "justify_content": null,
      "justify_items": null,
      "left": null,
      "margin": null,
      "max_height": null,
      "max_width": null,
      "min_height": null,
      "min_width": null,
      "object_fit": null,
      "object_position": null,
      "order": null,
      "overflow": null,
      "overflow_x": null,
      "overflow_y": null,
      "padding": null,
      "right": null,
      "top": null,
      "visibility": null,
      "width": null
     }
    },
    "dc013f990fb148f5886c81433b5f20a1": {
     "model_module": "@jupyter-widgets/controls",
     "model_name": "ProgressStyleModel",
     "model_module_version": "1.5.0",
     "state": {
      "_model_module": "@jupyter-widgets/controls",
      "_model_module_version": "1.5.0",
      "_model_name": "ProgressStyleModel",
      "_view_count": null,
      "_view_module": "@jupyter-widgets/base",
      "_view_module_version": "1.2.0",
      "_view_name": "StyleView",
      "bar_color": null,
      "description_width": ""
     }
    },
    "27e2651d830543cd96f860ffb7fe36fe": {
     "model_module": "@jupyter-widgets/base",
     "model_name": "LayoutModel",
     "model_module_version": "1.2.0",
     "state": {
      "_model_module": "@jupyter-widgets/base",
      "_model_module_version": "1.2.0",
      "_model_name": "LayoutModel",
      "_view_count": null,
      "_view_module": "@jupyter-widgets/base",
      "_view_module_version": "1.2.0",
      "_view_name": "LayoutView",
      "align_content": null,
      "align_items": null,
      "align_self": null,
      "border": null,
      "bottom": null,
      "display": null,
      "flex": null,
      "flex_flow": null,
      "grid_area": null,
      "grid_auto_columns": null,
      "grid_auto_flow": null,
      "grid_auto_rows": null,
      "grid_column": null,
      "grid_gap": null,
      "grid_row": null,
      "grid_template_areas": null,
      "grid_template_columns": null,
      "grid_template_rows": null,
      "height": null,
      "justify_content": null,
      "justify_items": null,
      "left": null,
      "margin": null,
      "max_height": null,
      "max_width": null,
      "min_height": null,
      "min_width": null,
      "object_fit": null,
      "object_position": null,
      "order": null,
      "overflow": null,
      "overflow_x": null,
      "overflow_y": null,
      "padding": null,
      "right": null,
      "top": null,
      "visibility": null,
      "width": null
     }
    },
    "17b895f66ffe4adf9bbf5e3e5ee8bc37": {
     "model_module": "@jupyter-widgets/controls",
     "model_name": "DescriptionStyleModel",
     "model_module_version": "1.5.0",
     "state": {
      "_model_module": "@jupyter-widgets/controls",
      "_model_module_version": "1.5.0",
      "_model_name": "DescriptionStyleModel",
      "_view_count": null,
      "_view_module": "@jupyter-widgets/base",
      "_view_module_version": "1.2.0",
      "_view_name": "StyleView",
      "description_width": ""
     }
    }
   }
  }
 },
 "cells": [
  {
   "cell_type": "code",
   "execution_count": null,
   "outputs": [],
   "source": [
    "import torch\n",
    "import torchvision\n",
    "import torch.nn as nn\n",
    "import torch.nn.functional as F\n",
    "import torchvision.transforms as transforms\n",
    "import matplotlib.pyplot as plt\n",
    "import numpy as np"
   ],
   "metadata": {
    "collapsed": false
   }
  },
  {
   "cell_type": "code",
   "source": [
    "device = torch.device('cuda' if torch.cuda.is_available() else 'cpu')\n",
    "print(device)"
   ],
   "metadata": {
    "id": "6jROckop9BtZ",
    "colab": {
     "base_uri": "https://localhost:8080/"
    },
    "executionInfo": {
     "status": "ok",
     "timestamp": 1674791585843,
     "user_tz": -360,
     "elapsed": 832,
     "user": {
      "displayName": "Sabbir Ahmed, Assistant Prof., CSE",
      "userId": "02647076618617320435"
     }
    },
    "outputId": "6fd55000-a242-4102-9c4a-f18de1284fdc"
   },
   "execution_count": null,
   "outputs": []
  },
  {
   "cell_type": "code",
   "source": [
    "# Hyper params...\n",
    "num_epochs = 5\n",
    "batch_size = 16\n",
    "learning_rate = 0.001"
   ],
   "metadata": {
    "id": "sJtFfAZS9BzB",
    "executionInfo": {
     "status": "ok",
     "timestamp": 1674791631743,
     "user_tz": -360,
     "elapsed": 2,
     "user": {
      "displayName": "Sabbir Ahmed, Assistant Prof., CSE",
      "userId": "02647076618617320435"
     }
    }
   },
   "execution_count": null,
   "outputs": []
  },
  {
   "cell_type": "code",
   "source": [
    "transform = transforms.Compose(\n",
    "    [\n",
    "        transforms.ToTensor(),\n",
    "        transforms.Normalize(\n",
    "            (0.5, 0.5, 0.5), \n",
    "            (0.5, 0.5, 0.5)\n",
    "        )\n",
    "    ]\n",
    ")"
   ],
   "metadata": {
    "id": "EvfryN6S9B1v",
    "executionInfo": {
     "status": "ok",
     "timestamp": 1674791804946,
     "user_tz": -360,
     "elapsed": 2,
     "user": {
      "displayName": "Sabbir Ahmed, Assistant Prof., CSE",
      "userId": "02647076618617320435"
     }
    }
   },
   "execution_count": null,
   "outputs": []
  },
  {
   "cell_type": "code",
   "source": [
    "train_dataset = torchvision.datasets.CIFAR10(\n",
    "    root= '/data',\n",
    "    train = True, \n",
    "    download = True, \n",
    "    transform = transform\n",
    ")"
   ],
   "metadata": {
    "id": "wz9Ir75G9B7r",
    "colab": {
     "base_uri": "https://localhost:8080/",
     "height": 85,
     "referenced_widgets": [
      "a99f734772f64f3ab87ea518fdfce1e9",
      "1ce001cf07e24a31996e2f22db0efe9c",
      "4e562fcaa41444bab07287b8440b2ea5",
      "d8f29da87d62476594a1086c1517f0d3",
      "e80c387cc3eb468db4cc606f6f055b6a",
      "30b3d88732b445bba1939063bbb9f781",
      "f57241a8ebc44a06bbfdc0a2d6cf937b",
      "1fdf273841e74932838ada03efbfb3a6",
      "dc013f990fb148f5886c81433b5f20a1",
      "27e2651d830543cd96f860ffb7fe36fe",
      "17b895f66ffe4adf9bbf5e3e5ee8bc37"
     ]
    },
    "executionInfo": {
     "status": "ok",
     "timestamp": 1674791858726,
     "user_tz": -360,
     "elapsed": 9386,
     "user": {
      "displayName": "Sabbir Ahmed, Assistant Prof., CSE",
      "userId": "02647076618617320435"
     }
    },
    "outputId": "f464f3ae-a74a-4699-d54a-36a9a9590478"
   },
   "execution_count": null,
   "outputs": []
  },
  {
   "cell_type": "code",
   "source": [
    "test_dataset = torchvision.datasets.CIFAR10(\n",
    "    root= '/data',\n",
    "    train = False, \n",
    "    download = True, \n",
    "    transform = transform\n",
    ")"
   ],
   "metadata": {
    "colab": {
     "base_uri": "https://localhost:8080/"
    },
    "id": "4ZIs7_hfX6pK",
    "executionInfo": {
     "status": "ok",
     "timestamp": 1674791872701,
     "user_tz": -360,
     "elapsed": 833,
     "user": {
      "displayName": "Sabbir Ahmed, Assistant Prof., CSE",
      "userId": "02647076618617320435"
     }
    },
    "outputId": "23a22ae2-47fd-41b1-d5e7-118124b2b2c8"
   },
   "execution_count": null,
   "outputs": []
  },
  {
   "cell_type": "code",
   "source": [
    "train_loader = torch.utils.data.DataLoader(\n",
    "    dataset = train_dataset,\n",
    "    batch_size = batch_size,\n",
    "    shuffle = True\n",
    ")\n",
    "test_loader = torch.utils.data.DataLoader(\n",
    "    dataset = test_dataset,\n",
    "    batch_size = batch_size,\n",
    "    shuffle = False \n",
    ")\n",
    "print(len(train_loader))\n",
    "print(len(test_loader))"
   ],
   "metadata": {
    "id": "-cPSkyRJ9B-m",
    "colab": {
     "base_uri": "https://localhost:8080/"
    },
    "executionInfo": {
     "status": "ok",
     "timestamp": 1674792019217,
     "user_tz": -360,
     "elapsed": 3,
     "user": {
      "displayName": "Sabbir Ahmed, Assistant Prof., CSE",
      "userId": "02647076618617320435"
     }
    },
    "outputId": "25e12740-f7cc-4070-e7d1-f2b25297f348"
   },
   "execution_count": null,
   "outputs": []
  },
  {
   "cell_type": "code",
   "source": [
    "classes = [\n",
    "    'plane', 'car', 'bird', 'cat', 'deer',\n",
    "    'dog', 'frog', 'horse', 'ship', 'truck'\n",
    "    ]"
   ],
   "metadata": {
    "id": "vgzAWcGIYQA4",
    "executionInfo": {
     "status": "ok",
     "timestamp": 1674792100358,
     "user_tz": -360,
     "elapsed": 2,
     "user": {
      "displayName": "Sabbir Ahmed, Assistant Prof., CSE",
      "userId": "02647076618617320435"
     }
    }
   },
   "execution_count": null,
   "outputs": []
  },
  {
   "cell_type": "code",
   "source": [
    "def imshow(img):\n",
    "  npimg = img.numpy()\n",
    "  plt.imshow(np.transpose(npimg, (1,2,0)))\n",
    "  plt.show()\n",
    "\n",
    "dataiter = iter(train_loader)\n",
    "images, lables = next(dataiter)\n",
    "\n",
    "imshow(torchvision.utils.make_grid(images))"
   ],
   "metadata": {
    "colab": {
     "base_uri": "https://localhost:8080/",
     "height": 175
    },
    "id": "nlJAEVxTYQDR",
    "executionInfo": {
     "status": "ok",
     "timestamp": 1674792248667,
     "user_tz": -360,
     "elapsed": 884,
     "user": {
      "displayName": "Sabbir Ahmed, Assistant Prof., CSE",
      "userId": "02647076618617320435"
     }
    },
    "outputId": "3824abb1-82c5-48d2-9cd8-08d18003c9df"
   },
   "execution_count": null,
   "outputs": []
  },
  {
   "cell_type": "code",
   "source": [
    "class ConvNet(nn.Module):\n",
    "  def __init__(self):\n",
    "    super(ConvNet, self).__init__()\n",
    "\n",
    "    self.conv1 = nn.Conv2d(3, 6, 5)\n",
    "    self.pool = nn.MaxPool2d(2,2)\n",
    "    self.conv2 = nn.Conv2d(6,16, 5)\n",
    "    # self.pool = nn.MaxPool(2,2)\n",
    "    self.fc1 = nn.Linear(16*5*5, 120)\n",
    "    self.fc2 = nn.Linear(120, 84)\n",
    "    self.fc3 = nn.Linear(84, 10)\n",
    "\n",
    "\n",
    "  def forward(self, x):\n",
    "    x = self.conv1(x) # 28x28x6\n",
    "    x = F.relu(x)\n",
    "    x = self.pool(x)  # 14x14x6\n",
    "    x = self.conv2(x) # 10x10x16\n",
    "    x = F.relu(x)\n",
    "    x = self.pool(x)  # 5x5x16\n",
    "\n",
    "    x = x.view(-1, 16*5*5)  # n, 400\n",
    "    x = F.relu(self.fc1(x))         # 120\n",
    "    x = F.relu(self.fc2(x))         # 84\n",
    "    x = F.relu(self.fc3(x))         # 10\n",
    "\n",
    "    return x"
   ],
   "metadata": {
    "id": "ByOiC4UeYQGs",
    "executionInfo": {
     "status": "ok",
     "timestamp": 1674792944901,
     "user_tz": -360,
     "elapsed": 558,
     "user": {
      "displayName": "Sabbir Ahmed, Assistant Prof., CSE",
      "userId": "02647076618617320435"
     }
    }
   },
   "execution_count": null,
   "outputs": []
  },
  {
   "cell_type": "code",
   "source": [
    "model = ConvNet().to(device)"
   ],
   "metadata": {
    "id": "Ar9OD6UwZcyg",
    "executionInfo": {
     "status": "ok",
     "timestamp": 1674792950984,
     "user_tz": -360,
     "elapsed": 3909,
     "user": {
      "displayName": "Sabbir Ahmed, Assistant Prof., CSE",
      "userId": "02647076618617320435"
     }
    }
   },
   "execution_count": null,
   "outputs": []
  },
  {
   "cell_type": "code",
   "source": [
    "criterion = nn.CrossEntropyLoss()\n",
    "optimizer = torch.optim.Adam(\n",
    "    model.parameters(),\n",
    "    lr = learning_rate\n",
    ")"
   ],
   "metadata": {
    "id": "PYbLJ4_SZc1j",
    "executionInfo": {
     "status": "ok",
     "timestamp": 1674793006165,
     "user_tz": -360,
     "elapsed": 2,
     "user": {
      "displayName": "Sabbir Ahmed, Assistant Prof., CSE",
      "userId": "02647076618617320435"
     }
    }
   },
   "execution_count": null,
   "outputs": []
  },
  {
   "cell_type": "code",
   "source": [
    "n_total_steps = len(train_loader)"
   ],
   "metadata": {
    "id": "XrzVT7waZc49",
    "executionInfo": {
     "status": "ok",
     "timestamp": 1674793027966,
     "user_tz": -360,
     "elapsed": 2,
     "user": {
      "displayName": "Sabbir Ahmed, Assistant Prof., CSE",
      "userId": "02647076618617320435"
     }
    }
   },
   "execution_count": null,
   "outputs": []
  },
  {
   "cell_type": "code",
   "source": [
    "### Training process\n",
    "for epoch in range(num_epochs):\n",
    "  for i, (images, labels) in enumerate(train_loader):\n",
    "\n",
    "    images = images.to(device)\n",
    "    labels = labels.to(device)\n",
    "    # forward pass\n",
    "    outputs = model(images)\n",
    "    loss = criterion(outputs, labels)\n",
    "    # backward\n",
    "    optimizer.zero_grad()\n",
    "    loss.backward()\n",
    "    optimizer.step()\n",
    "\n",
    "    if(i+1)% 500 ==0:\n",
    "      print(f'Epoch {epoch+1}/ {num_epochs}, Step {i+1}/{n_total_steps}, Loss = {loss.item():.4f}')"
   ],
   "metadata": {
    "id": "pXQIdS5D9CBq",
    "colab": {
     "base_uri": "https://localhost:8080/"
    },
    "executionInfo": {
     "status": "ok",
     "timestamp": 1674793377792,
     "user_tz": -360,
     "elapsed": 101412,
     "user": {
      "displayName": "Sabbir Ahmed, Assistant Prof., CSE",
      "userId": "02647076618617320435"
     }
    },
    "outputId": "b2e500e6-c539-4063-9e57-d9d365e6365e"
   },
   "execution_count": null,
   "outputs": []
  },
  {
   "cell_type": "code",
   "source": [
    "# Training is done, time to evaluate the model:\n",
    "with torch.no_grad():\n",
    "    n_correct = 0\n",
    "    n_samples = 0\n",
    "    n_class_correct = [0 for i in range(10)]\n",
    "    n_class_samples = [0 for i in range(10)]\n",
    "    \n",
    "    for images, labels in test_loader:\n",
    "        images = images.to(device)\n",
    "        labels = labels.to(device) \n",
    "        \n",
    "        outputs = model(images).to(device)\n",
    "        # print(outputs.shape)\n",
    "        # print(outputs[0])\n",
    "\n",
    "        # max returns value, index\n",
    "        _, predicted = torch.max(outputs, 1)\n",
    "        # predicted = predicted.to(device)\n",
    "\n",
    "        n_samples += lables.size(0)\n",
    "        n_correct += (predicted == labels).sum().item()\n",
    "\n",
    "        for i in range(batch_size):\n",
    "            label = labels[i]\n",
    "            pred = predicted[i]\n",
    "\n",
    "            if (label == pred):\n",
    "                n_class_correct[label] +=1\n",
    "            n_class_samples[label] +=1\n",
    "\n",
    "        acc = 100 * n_correct / n_samples\n",
    "    print(f'Accuracy of the network: {acc} %')\n",
    "\n",
    "    for i in range(10):\n",
    "        acc = 100.0 * n_class_correct[i] / n_class_samples[i]\n",
    "        print(f'Accuracy of {classes[i]}: {acc} %')"
   ],
   "metadata": {
    "id": "8IHx5cVx9CFP",
    "colab": {
     "base_uri": "https://localhost:8080/"
    },
    "executionInfo": {
     "status": "ok",
     "timestamp": 1674793682553,
     "user_tz": -360,
     "elapsed": 3470,
     "user": {
      "displayName": "Sabbir Ahmed, Assistant Prof., CSE",
      "userId": "02647076618617320435"
     }
    },
    "outputId": "c5df778f-b2e4-449e-c83f-e02c57afe5d4"
   },
   "execution_count": null,
   "outputs": []
  }
 ]
}
