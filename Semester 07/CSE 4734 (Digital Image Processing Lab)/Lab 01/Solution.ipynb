{
  "cells": [
    {
      "cell_type": "code",
      "execution_count": null,
      "metadata": {
        "id": "9XCVdsBNgGxJ"
      },
      "outputs": [],
      "source": [
        "import cv2\n",
        "from matplotlib import pyplot as plt\n",
        "import numpy as np"
      ]
    },
    {
      "cell_type": "markdown",
      "metadata": {
        "id": "lO1vmy6BdF9J"
      },
      "source": [
        "# Task 01 (a)"
      ]
    },
    {
      "cell_type": "code",
      "execution_count": null,
      "metadata": {
        "id": "k9Mzma-vaoHZ"
      },
      "outputs": [],
      "source": [
        "def histogram(image, title):\n",
        "  plt.hist(image.ravel(), bins = 256, range = [0, 256], histtype = 'step')\n",
        "  plt.title(title)\n",
        "  plt.xlabel(\"Intensity Values\")\n",
        "  plt.ylabel(\"Number of Pixels\")\n",
        "  plt.show()"
      ]
    },
    {
      "cell_type": "code",
      "execution_count": null,
      "metadata": {
        "id": "fb1c76zKaz-I"
      },
      "outputs": [],
      "source": [
        "grayscale = plt.imread(\"grayscale.tif\")\n",
        "plt.imshow(grayscale, cmap=\"gray\")\n",
        "plt.show()"
      ]
    },
    {
      "cell_type": "code",
      "execution_count": null,
      "metadata": {},
      "outputs": [],
      "source": [
        "grayscale = plt.imread(\"grayscale.tif\")\n",
        "histogram(grayscale, \"Grayscale Image Histogram\")"
      ]
    },
    {
      "cell_type": "markdown",
      "metadata": {
        "id": "22Z5_ySueeZ9"
      },
      "source": [
        "# Task 01 (b)"
      ]
    },
    {
      "cell_type": "code",
      "execution_count": null,
      "metadata": {
        "id": "QXIYOwsoe0ID"
      },
      "outputs": [],
      "source": [
        "color = plt.imread(\"color.tif\")\n",
        "plt.imshow(color)\n",
        "plt.show()"
      ]
    },
    {
      "cell_type": "code",
      "execution_count": null,
      "metadata": {
        "id": "MPt5UDHze7xl"
      },
      "outputs": [],
      "source": [
        "color = plt.imread(\"color.tif\")\n",
        "red, green, blue = cv2.split(color)\n",
        "\n",
        "zeros = np.zeros(color.shape[:2], dtype=\"uint8\")\n",
        "red = cv2.merge([red, zeros, zeros])\n",
        "green = cv2.merge([zeros, green, zeros])\n",
        "blue = cv2.merge([zeros, zeros, blue])\n",
        "\n",
        "plt.imshow(red)\n",
        "plt.show()\n",
        "plt.imshow(green)\n",
        "plt.show()\n",
        "plt.imshow(blue)\n",
        "plt.show()"
      ]
    },
    {
      "cell_type": "markdown",
      "metadata": {
        "id": "bJFJ9V9Qg55K"
      },
      "source": [
        "# Task 01 (c)"
      ]
    },
    {
      "cell_type": "code",
      "execution_count": null,
      "metadata": {
        "id": "fsyYX6DVfUqu"
      },
      "outputs": [],
      "source": [
        "color = plt.imread(\"color.tif\")\n",
        "red, green, blue = cv2.split(color)\n",
        "\n",
        "histogram(red, \"Red Channel Histogram\")\n",
        "histogram(green, \"Green Channel Histogram\")\n",
        "histogram(blue, \"Blue Channel Histogram\")"
      ]
    },
    {
      "cell_type": "markdown",
      "metadata": {
        "id": "rZ4MrrS8w4JO"
      },
      "source": [
        "Analysis of the three histograms suggests that all three channels have similar values. The histograms are somewhat bell-shaped. The number of pixels at each intensity value begins to rise from roughly the intensity value of 100. A peak of roughly 1200 to 1400 pixels is reached around the intensity value of 150 to 200 range.\n",
        "\n",
        "Only the blue channel shows an anomaly towards the end with roughly 2000 pixels having the intensity value 255."
      ]
    },
    {
      "cell_type": "markdown",
      "metadata": {
        "id": "Lq996GO2kaM6"
      },
      "source": [
        "# Task 02 (a)"
      ]
    },
    {
      "cell_type": "code",
      "execution_count": null,
      "metadata": {
        "id": "AGV19Hc5ycsE"
      },
      "outputs": [],
      "source": [
        "def get_negative(image):\n",
        "  return 255 - image"
      ]
    },
    {
      "cell_type": "code",
      "execution_count": null,
      "metadata": {
        "id": "dipyjPsuhlUf"
      },
      "outputs": [],
      "source": [
        "grayscale = plt.imread(\"grayscale.tif\")\n",
        "plt.imshow(get_negative(grayscale), cmap=\"gray\")\n",
        "plt.show()"
      ]
    },
    {
      "cell_type": "markdown",
      "metadata": {
        "id": "JVxsXL5XynDI"
      },
      "source": [
        "# Task 02 (b)\n",
        "The exact same function created in Task 02 (a) can be used."
      ]
    },
    {
      "cell_type": "code",
      "execution_count": null,
      "metadata": {
        "id": "StxuStEzksWh"
      },
      "outputs": [],
      "source": [
        "color = plt.imread(\"color.tif\")\n",
        "plt.imshow(get_negative(color))\n",
        "plt.show()"
      ]
    }
  ],
  "metadata": {
    "colab": {
      "name": "Lab 01",
      "provenance": []
    },
    "kernelspec": {
      "display_name": "Python 3.10.7 64-bit",
      "language": "python",
      "name": "python3"
    },
    "language_info": {
      "codemirror_mode": {
        "name": "ipython",
        "version": 3
      },
      "file_extension": ".py",
      "mimetype": "text/x-python",
      "name": "python",
      "nbconvert_exporter": "python",
      "pygments_lexer": "ipython3",
      "version": "3.10.7"
    },
    "vscode": {
      "interpreter": {
        "hash": "bea42e1b0e07028483ba0ff26b9b4dc4fa162e9d0ccb6b0507d54b9d42d30653"
      }
    }
  },
  "nbformat": 4,
  "nbformat_minor": 0
}
