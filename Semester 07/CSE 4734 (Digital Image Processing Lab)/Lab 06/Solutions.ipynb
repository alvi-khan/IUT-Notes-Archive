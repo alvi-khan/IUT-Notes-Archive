{
 "cells": [
  {
   "cell_type": "markdown",
   "metadata": {
    "id": "ItsPRBVVio3T"
   },
   "source": [
    "## Imports and Common Functions"
   ]
  },
  {
   "cell_type": "code",
   "execution_count": null,
   "metadata": {
    "id": "REBJ1Dhm-gLF"
   },
   "outputs": [],
   "source": [
    "import cv2\n",
    "from google.colab.patches import cv2_imshow\n",
    "import numpy as np\n",
    "import math\n",
    "import matplotlib.pyplot as plt"
   ]
  },
  {
   "cell_type": "code",
   "execution_count": null,
   "metadata": {
    "id": "l1NDDNk12y4I"
   },
   "outputs": [],
   "source": [
    "def read_image():  \n",
    "  img = cv2.imread('/content/Fig0441(a)(characters_test_pattern).tif')\n",
    "  img = cv2.cvtColor(img, cv2.COLOR_BGR2GRAY)\n",
    "  img = cv2.resize(img, (200, 200))\n",
    "  return img"
   ]
  },
  {
   "cell_type": "code",
   "execution_count": null,
   "metadata": {
    "id": "E_ZQMZZa-nby"
   },
   "outputs": [],
   "source": [
    "def to_fourier(img):\n",
    "  return np.fft.fftshift(np.fft.fft2(img))"
   ]
  },
  {
   "cell_type": "code",
   "execution_count": null,
   "metadata": {
    "id": "FCWtg8kR_juW"
   },
   "outputs": [],
   "source": [
    "def to_spatial(img):\n",
    "  return np.fft.ifft2(np.fft.ifftshift(img))"
   ]
  },
  {
   "cell_type": "code",
   "execution_count": null,
   "metadata": {
    "id": "jQqUFLZh_PSo"
   },
   "outputs": [],
   "source": [
    "def apply_filter(img, filter):\n",
    "  img = to_fourier(img)\n",
    "  img = img * filter\n",
    "  return to_spatial(img).real"
   ]
  },
  {
   "cell_type": "markdown",
   "metadata": {
    "id": "EcG4UrnQi-xG"
   },
   "source": [
    "## Ideal Low Pass Filter"
   ]
  },
  {
   "cell_type": "code",
   "execution_count": null,
   "metadata": {
    "id": "Qo4wwDcC4sqo"
   },
   "outputs": [],
   "source": [
    "def ideal_filter_low(img, cutoff):\n",
    "  m, n = img.shape\n",
    "  kernel = np.zeros((m, n), dtype=float)\n",
    "  center = m // 2, n // 2\n",
    "\n",
    "  for i in range(m):\n",
    "    for j in range(n):\n",
    "      distance = math.sqrt((center[0] - i) ** 2 + (center[1] - j) ** 2)\n",
    "      if distance <= cutoff:\n",
    "        kernel[i][j] = 1\n",
    "  \n",
    "  return kernel"
   ]
  },
  {
   "cell_type": "code",
   "execution_count": null,
   "metadata": {
    "colab": {
     "base_uri": "https://localhost:8080/",
     "height": 217
    },
    "id": "XWbFk3_k5o6R",
    "outputId": "44b117e6-74fb-47c4-b212-05e9a82b66e4"
   },
   "outputs": [],
   "source": [
    "img = read_image()\n",
    "cv2_imshow(img)"
   ]
  },
  {
   "cell_type": "code",
   "execution_count": null,
   "metadata": {
    "colab": {
     "base_uri": "https://localhost:8080/",
     "height": 287
    },
    "id": "5t_XKmet-5D_",
    "outputId": "c0b6d690-43e6-483b-866e-1b77ab6a17a6"
   },
   "outputs": [],
   "source": [
    "filter = ideal_filter_low(img, cutoff=30)\n",
    "plt.imshow(filter, cmap = 'gray')"
   ]
  },
  {
   "cell_type": "code",
   "execution_count": null,
   "metadata": {
    "colab": {
     "base_uri": "https://localhost:8080/",
     "height": 617
    },
    "id": "ScSSLPxT5qIg",
    "outputId": "b58e4cc1-2776-4986-c002-e6eae0f9baa5"
   },
   "outputs": [],
   "source": [
    "result = apply_filter(img, ideal_filter_low(img, cutoff=10))\n",
    "cv2_imshow(result)\n",
    "result = apply_filter(img, ideal_filter_low(img, cutoff=30))\n",
    "cv2_imshow(result)\n",
    "result = apply_filter(img, ideal_filter_low(img, cutoff=50))\n",
    "cv2_imshow(result)"
   ]
  },
  {
   "cell_type": "markdown",
   "metadata": {
    "id": "0dB5HVICjDh_"
   },
   "source": [
    "For the Ideal Low Pass Filter, increasing the cutoff frequency makes the image clearer. The ringing effect also decreases. For very low cutoff frequencies, the ringing effect is so high that it is no longer distinguishable as the ringing effect."
   ]
  },
  {
   "cell_type": "markdown",
   "metadata": {
    "id": "oBnQ7Cq8kZAC"
   },
   "source": [
    "## Butterworth Low Pass Filter"
   ]
  },
  {
   "cell_type": "code",
   "execution_count": null,
   "metadata": {
    "id": "mGbOYL_a6QDZ"
   },
   "outputs": [],
   "source": [
    "def butterworth_filter_low(img, cutoff, order):\n",
    "  m, n = img.shape\n",
    "  kernel = np.zeros((m, n), dtype=float)\n",
    "  center = m // 2, n // 2\n",
    "\n",
    "  for i in range(m):\n",
    "    for j in range(n):\n",
    "      distance = math.sqrt((center[0] - i) ** 2 + (center[1] - j) ** 2 )\n",
    "      kernel[i][j] = 1 / (1 + (distance / cutoff) ** (2 * order))\n",
    "  \n",
    "  return kernel"
   ]
  },
  {
   "cell_type": "code",
   "execution_count": null,
   "metadata": {
    "colab": {
     "base_uri": "https://localhost:8080/",
     "height": 287
    },
    "id": "ctTJGiaBBn1A",
    "outputId": "7f49a25f-17cc-4c25-983b-80f1ede2e07b"
   },
   "outputs": [],
   "source": [
    "img = read_image()\n",
    "filter = butterworth_filter_low(img, cutoff=30, order=2)\n",
    "plt.imshow(filter, cmap = 'gray')"
   ]
  },
  {
   "cell_type": "code",
   "execution_count": null,
   "metadata": {
    "colab": {
     "base_uri": "https://localhost:8080/",
     "height": 617
    },
    "id": "Mz2hNYb2Bt_M",
    "outputId": "38c5521a-4686-432f-8413-3c7d70d65039"
   },
   "outputs": [],
   "source": [
    "result = apply_filter(img, butterworth_filter_low(img, cutoff=30, order=2))\n",
    "cv2_imshow(result)\n",
    "result = apply_filter(img, butterworth_filter_low(img, cutoff=30, order=75))\n",
    "cv2_imshow(result)\n",
    "result = apply_filter(img, butterworth_filter_low(img, cutoff=100, order=2))\n",
    "cv2_imshow(result)"
   ]
  },
  {
   "cell_type": "markdown",
   "metadata": {
    "id": "NRokGys2kKZu"
   },
   "source": [
    "For the Butterworth low pass filter, a low value for the order ensures that there is no ringing effect. We can see that the image simply gets blurrier with lower cutoff frequencies. If we increase the order to a high value, we will see the ringing effect."
   ]
  },
  {
   "cell_type": "markdown",
   "metadata": {
    "id": "FbYnUPeAkWso"
   },
   "source": [
    "## Gaussian Low Pass Filter"
   ]
  },
  {
   "cell_type": "code",
   "execution_count": null,
   "metadata": {
    "id": "Ck6GW2nWBxvn"
   },
   "outputs": [],
   "source": [
    "def gaussian_filter_low(img, cutoff):\n",
    "  m, n = img.shape\n",
    "  kernel = np.zeros((m, n), dtype=float)\n",
    "  center = m // 2, n // 2\n",
    "\n",
    "  for i in range(m):\n",
    "    for j in range(n):\n",
    "      distance = (center[0] - i) ** 2 + (center[1] - j) ** 2\n",
    "      kernel[i][j] = math.exp(-distance / (2 * (cutoff ** 2)))\n",
    "  \n",
    "  return kernel"
   ]
  },
  {
   "cell_type": "code",
   "execution_count": null,
   "metadata": {
    "colab": {
     "base_uri": "https://localhost:8080/",
     "height": 287
    },
    "id": "JlDB6oWJELMZ",
    "outputId": "c26dc756-3391-4b1f-e306-887f650a0c72"
   },
   "outputs": [],
   "source": [
    "img = read_image()\n",
    "filter = gaussian_filter_low(img, cutoff=30)\n",
    "plt.imshow(filter, cmap = 'gray')"
   ]
  },
  {
   "cell_type": "code",
   "execution_count": null,
   "metadata": {
    "colab": {
     "base_uri": "https://localhost:8080/",
     "height": 617
    },
    "id": "QOz_XsTNF29U",
    "outputId": "06ca0f5a-ebe5-428c-ad2f-1a710f792b09"
   },
   "outputs": [],
   "source": [
    "result = apply_filter(img, gaussian_filter_low(img, cutoff=10))\n",
    "cv2_imshow(result)\n",
    "result = apply_filter(img, gaussian_filter_low(img, cutoff=30))\n",
    "cv2_imshow(result)\n",
    "result = apply_filter(img, gaussian_filter_low(img, cutoff=50))\n",
    "cv2_imshow(result)"
   ]
  },
  {
   "cell_type": "markdown",
   "metadata": {
    "id": "97xP6HfckiQm"
   },
   "source": [
    "The Gaussian Low Pass filter removes the order parameter that is present in the Butterworth Low Pass filter. As such, there is no possibility of a ringing effect. We just see the image become increasingly blurry as the cutoff frequency decreases."
   ]
  },
  {
   "cell_type": "markdown",
   "metadata": {
    "id": "RW-4c_38ktuC"
   },
   "source": [
    "## Ideal High Pass Filter"
   ]
  },
  {
   "cell_type": "code",
   "execution_count": null,
   "metadata": {
    "id": "22AwEtvEGGNI"
   },
   "outputs": [],
   "source": [
    "def ideal_filter_high(img, cutoff):\n",
    "  m, n = img.shape\n",
    "  kernel = np.ones((m, n), dtype=float)\n",
    "  center = m // 2, n // 2\n",
    "\n",
    "  for i in range(m):\n",
    "    for j in range(n):\n",
    "      distance = math.sqrt((center[0] - i) ** 2 + (center[1] - j) ** 2)\n",
    "      if distance <= cutoff:\n",
    "        kernel[i][j] = 0\n",
    "  \n",
    "  return kernel"
   ]
  },
  {
   "cell_type": "code",
   "execution_count": null,
   "metadata": {
    "colab": {
     "base_uri": "https://localhost:8080/",
     "height": 287
    },
    "id": "1vmhtIWoHvTK",
    "outputId": "4a9ba924-d443-40a2-e9da-aa0218b36444"
   },
   "outputs": [],
   "source": [
    "img = read_image()\n",
    "filter = ideal_filter_high(img, cutoff=30)\n",
    "plt.imshow(filter, cmap = 'gray')"
   ]
  },
  {
   "cell_type": "code",
   "execution_count": null,
   "metadata": {
    "colab": {
     "base_uri": "https://localhost:8080/",
     "height": 617
    },
    "id": "ChoYADwhH2ib",
    "outputId": "1cbef494-cb45-4653-8470-b52d2d6df03f"
   },
   "outputs": [],
   "source": [
    "result = apply_filter(img, ideal_filter_high(img, cutoff=10))\n",
    "cv2_imshow(result)\n",
    "result = apply_filter(img, ideal_filter_high(img, cutoff=30))\n",
    "cv2_imshow(result)\n",
    "result = apply_filter(img, ideal_filter_high(img, cutoff=50))\n",
    "cv2_imshow(result)"
   ]
  },
  {
   "cell_type": "markdown",
   "metadata": {
    "id": "POWpSpENlANK"
   },
   "source": [
    "Similar to the low pass variant, the Ideal High Pass Filter also shows an increased ringing effect as the cutoff frequency decreases. Since this is a high pass filter, a higher cutoff frequency gives us clearer edges as most of the information from the smooth regions is removed."
   ]
  },
  {
   "cell_type": "markdown",
   "metadata": {
    "id": "6gYHn9FNlPrE"
   },
   "source": [
    "## Butterworth High Pass Filter"
   ]
  },
  {
   "cell_type": "code",
   "execution_count": null,
   "metadata": {
    "id": "fEqGWAmgIFw5"
   },
   "outputs": [],
   "source": [
    "def butterworth_filter_high(img, cutoff, order):\n",
    "  m, n = img.shape\n",
    "  kernel = np.zeros((m, n), dtype=float)\n",
    "  center = m // 2, n // 2\n",
    "\n",
    "  for i in range(m):\n",
    "    for j in range(n):\n",
    "      distance = ((center[0] - i) ** 2 + (center[1] - j) ** 2 ) ** 0.5\n",
    "      kernel[i][j] = 1 / (1 + (cutoff / (distance + 1)) ** (2 * order))\n",
    "  \n",
    "  return kernel"
   ]
  },
  {
   "cell_type": "code",
   "execution_count": null,
   "metadata": {
    "colab": {
     "base_uri": "https://localhost:8080/",
     "height": 287
    },
    "id": "140ZggYAIXwu",
    "outputId": "49c6a51a-6c4f-47f7-942d-f6820f717fdf"
   },
   "outputs": [],
   "source": [
    "img = read_image()\n",
    "filter = butterworth_filter_high(img, cutoff=30, order=2)\n",
    "plt.imshow(filter, cmap = 'gray')"
   ]
  },
  {
   "cell_type": "code",
   "execution_count": null,
   "metadata": {
    "colab": {
     "base_uri": "https://localhost:8080/",
     "height": 617
    },
    "id": "mMCwRw4YIaob",
    "outputId": "ad7cbc99-cc28-4c3a-d976-2df9e2f792d0"
   },
   "outputs": [],
   "source": [
    "result = apply_filter(img, butterworth_filter_high(img, cutoff=30, order=2))\n",
    "cv2_imshow(result)\n",
    "result = apply_filter(img, butterworth_filter_high(img, cutoff=30, order=75))\n",
    "cv2_imshow(result)\n",
    "result = apply_filter(img, butterworth_filter_high(img, cutoff=80, order=2))\n",
    "cv2_imshow(result)"
   ]
  },
  {
   "cell_type": "markdown",
   "metadata": {
    "id": "YdM94zuUldqM"
   },
   "source": [
    "For the Butterworth High Pass Filter, we see more distinctive edges as the cutoff frequency is increased. Having a low value for the order parameter ensures that there is no ringing effect. However, increasing the order introduces the effect."
   ]
  },
  {
   "cell_type": "markdown",
   "metadata": {
    "id": "kOrJfhIMlt2b"
   },
   "source": [
    "## Gaussian High Pass Filter"
   ]
  },
  {
   "cell_type": "code",
   "execution_count": null,
   "metadata": {
    "id": "DMwTXV-jI-W3"
   },
   "outputs": [],
   "source": [
    "def gaussian_filter_high(img, cutoff):\n",
    "  m, n = img.shape\n",
    "  kernel = np.zeros((m, n), dtype=float)\n",
    "  center = m // 2, n // 2\n",
    "\n",
    "  for i in range(m):\n",
    "    for j in range(n):\n",
    "      distance = (center[0] - i) ** 2 + (center[1] - j) ** 2\n",
    "      kernel[i][j] = 1 - math.exp(-distance / (2 * (cutoff ** 2)))\n",
    "  \n",
    "  return kernel"
   ]
  },
  {
   "cell_type": "code",
   "execution_count": null,
   "metadata": {
    "colab": {
     "base_uri": "https://localhost:8080/",
     "height": 287
    },
    "id": "A_VY7fVSJzs1",
    "outputId": "1fc3a99e-df78-4fa8-a3a4-b31b2358576e"
   },
   "outputs": [],
   "source": [
    "img = read_image()\n",
    "filter = gaussian_filter_high(img, cutoff=30)\n",
    "plt.imshow(filter, cmap = 'gray')"
   ]
  },
  {
   "cell_type": "code",
   "execution_count": null,
   "metadata": {
    "colab": {
     "base_uri": "https://localhost:8080/",
     "height": 617
    },
    "id": "57Ue6wYpJ3k_",
    "outputId": "01a66432-a024-4e86-b79c-7880fc8f86bf"
   },
   "outputs": [],
   "source": [
    "result = apply_filter(img, gaussian_filter_high(img, cutoff=10))\n",
    "cv2_imshow(result)\n",
    "result = apply_filter(img, gaussian_filter_high(img, cutoff=30))\n",
    "cv2_imshow(result)\n",
    "result = apply_filter(img, gaussian_filter_high(img, cutoff=50))\n",
    "cv2_imshow(result)"
   ]
  },
  {
   "cell_type": "markdown",
   "metadata": {
    "id": "_CMv7cgSl14X"
   },
   "source": [
    "Since there is no order parameter, the Guassian High Pass Filter cannot cause any ringing effect. The edges simply become more distinctive as the cutoff frequency is increased."
   ]
  }
 ],
 "metadata": {
  "colab": {
   "collapsed_sections": [],
   "provenance": []
  },
  "kernelspec": {
   "display_name": "Python 3 (ipykernel)",
   "language": "python",
   "name": "python3"
  },
  "language_info": {
   "codemirror_mode": {
    "name": "ipython",
    "version": 3
   },
   "file_extension": ".py",
   "mimetype": "text/x-python",
   "name": "python",
   "nbconvert_exporter": "python",
   "pygments_lexer": "ipython3",
   "version": "3.10.7"
  }
 },
 "nbformat": 4,
 "nbformat_minor": 1
}
