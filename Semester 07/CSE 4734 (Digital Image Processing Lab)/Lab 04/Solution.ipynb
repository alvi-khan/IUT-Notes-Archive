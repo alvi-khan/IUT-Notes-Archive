{
 "cells": [
  {
   "cell_type": "code",
   "execution_count": null,
   "metadata": {
    "id": "Ytk57GLFpuMR"
   },
   "outputs": [],
   "source": [
    "import cv2\n",
    "import numpy as np\n",
    "import matplotlib.pyplot as plt\n",
    "from matplotlib.colors import hsv_to_rgb\n",
    "import random"
   ]
  },
  {
   "cell_type": "code",
   "execution_count": null,
   "metadata": {
    "id": "Hrnj6DpFAdYJ"
   },
   "outputs": [],
   "source": [
    "def read_image():\n",
    "    image_rgb = cv2.imread(\"image.tif\", cv2.IMREAD_COLOR)\n",
    "    image_rgb = cv2.cvtColor(image_rgb, cv2.COLOR_BGR2RGB)\n",
    "    image_rgb = cv2.resize(image_rgb, (600, 600))\n",
    "    return image_rgb"
   ]
  },
  {
   "cell_type": "code",
   "execution_count": null,
   "metadata": {
    "id": "ar0hBComqrYA"
   },
   "outputs": [],
   "source": [
    "image_rgb = read_image()\n",
    "plt.imshow(image_rgb)\n",
    "plt.show()"
   ]
  },
  {
   "cell_type": "markdown",
   "metadata": {
    "id": "OGZ1s7EkqBpi"
   },
   "source": [
    "## Task 01: Point Processing\n"
   ]
  },
  {
   "cell_type": "code",
   "execution_count": null,
   "metadata": {
    "id": "fgD9PlUGtWRc"
   },
   "outputs": [],
   "source": [
    "def get_negative_rgb(image):\n",
    "  return 255 - image"
   ]
  },
  {
   "cell_type": "code",
   "execution_count": null,
   "metadata": {
    "id": "Xmdw3xeGtttW"
   },
   "outputs": [],
   "source": [
    "image_rgb = read_image()\n",
    "negative_rgb = get_negative_rgb(image_rgb)\n",
    "plt.imshow(negative_rgb)\n",
    "plt.show()"
   ]
  },
  {
   "cell_type": "code",
   "execution_count": null,
   "metadata": {
    "id": "rLKRz60mx0Wt"
   },
   "outputs": [],
   "source": [
    "def get_negative_hsv(image):\n",
    "  image[:, :, 0] = (image[:, :, 0] + 90) % 180\n",
    "  image[:, :, 2] = 255 - image[:, :, 2]\n",
    "  return image"
   ]
  },
  {
   "cell_type": "code",
   "execution_count": null,
   "metadata": {
    "id": "wvRUI-iMzLf3"
   },
   "outputs": [],
   "source": [
    "image_rgb = read_image()\n",
    "image_hsv = cv2.cvtColor(image_rgb, cv2.COLOR_BGR2HSV)\n",
    "negative_hsv = get_negative_hsv(image_hsv)\n",
    "plt.imshow(cv2.cvtColor(negative_hsv, cv2.COLOR_HSV2BGR))\n",
    "plt.show()"
   ]
  },
  {
   "cell_type": "markdown",
   "metadata": {
    "id": "7zLWnruIAdYf"
   },
   "source": [
    "**What differences are noticed between the RGB-negative and HSV-negative?**\n",
    "\n",
    "The HSV-Negative is noticeably darker than the RGB-Negative."
   ]
  },
  {
   "cell_type": "markdown",
   "metadata": {
    "id": "V_dcrO9JHsEO"
   },
   "source": [
    "## Task 02: Histogram Equalization"
   ]
  },
  {
   "cell_type": "code",
   "execution_count": null,
   "metadata": {
    "id": "QcN-e0yn4zfZ"
   },
   "outputs": [],
   "source": [
    "def normalize(r):\n",
    "    counts, bins = np.histogram(r, 256)\n",
    "    cdf = counts.cumsum()\n",
    "    cdf = (cdf - cdf.min()) * 255 / (cdf.max() - cdf.min())\n",
    "    s = np.interp(r, bins[:-1], cdf)\n",
    "    s = np.array(s, np.int32)\n",
    "    return s"
   ]
  },
  {
   "cell_type": "code",
   "execution_count": null,
   "metadata": {
    "id": "TgGulVJn5l28"
   },
   "outputs": [],
   "source": [
    "def equalize_rgb(image):\n",
    "  image[:, :, 0] = normalize(image[:, :, 0])\n",
    "  image[:, :, 1] = normalize(image[:, :, 1])\n",
    "  image[:, :, 2] = normalize(image[:, :, 2])\n",
    "  return image"
   ]
  },
  {
   "cell_type": "code",
   "execution_count": null,
   "metadata": {
    "id": "cLNkvA1k5wrv"
   },
   "outputs": [],
   "source": [
    "image_rgb = read_image()\n",
    "equalized_rgb = equalize_rgb(image_rgb)\n",
    "plt.imshow(equalized_rgb)\n",
    "plt.show()"
   ]
  },
  {
   "cell_type": "code",
   "execution_count": null,
   "metadata": {
    "id": "P65h717b54vK"
   },
   "outputs": [],
   "source": [
    "def equalize_hsv(image):\n",
    "  image[:, :, 2] = normalize(image[:, :, 2])\n",
    "  return image"
   ]
  },
  {
   "cell_type": "code",
   "execution_count": null,
   "metadata": {
    "id": "4rVVONLW6Xqj"
   },
   "outputs": [],
   "source": [
    "image_rgb = read_image()\n",
    "image_hsv = cv2.cvtColor(image_rgb, cv2.COLOR_BGR2HSV)\n",
    "equalized_hsv = equalize_hsv(image_hsv)\n",
    "plt.imshow(cv2.cvtColor(equalized_hsv, cv2.COLOR_HSV2BGR))\n",
    "plt.show()"
   ]
  },
  {
   "cell_type": "markdown",
   "metadata": {
    "id": "a_qb8X4bMfX8"
   },
   "source": [
    "**Does the HE result become same for both RGB and HSV models?**\n",
    "\n",
    "No it does not.\n",
    "\n",
    "For the RGB image, the color also get modified since intensity is coupled with color under the RGB model.\n",
    "\n",
    "For the HSV image, the colour is not modified. We are able to modify just the intensity wihtout affecting colour, since the colour is not coupled with the intensity. However, there is a slight decrease in the saturation of the image, which can fixed by increasing the saturation by a fixed amount, as shown below."
   ]
  },
  {
   "cell_type": "code",
   "execution_count": null,
   "metadata": {
    "id": "S7bT3lv7AdYh"
   },
   "outputs": [],
   "source": [
    "def fix_saturation(image, increase):\n",
    "    max_vals = np.full(image[:, :, 1].shape, 255)\n",
    "    image[:, :, 1] = np.minimum(image[:, :, 1] + increase, max_vals)\n",
    "    return image"
   ]
  },
  {
   "cell_type": "code",
   "execution_count": null,
   "metadata": {
    "id": "_V7L5Ogp6aGm"
   },
   "outputs": [],
   "source": [
    "image_rgb = read_image()\n",
    "image_hsv = cv2.cvtColor(image_rgb, cv2.COLOR_BGR2HSV)\n",
    "equalized_hsv = equalize_hsv(image_hsv)\n",
    "fixed_hsv = fix_saturation(equalized_hsv, 10)\n",
    "plt.imshow(cv2.cvtColor(fixed_hsv, cv2.COLOR_HSV2BGR))\n",
    "plt.show()"
   ]
  },
  {
   "cell_type": "markdown",
   "metadata": {
    "id": "cRaEslowNlTZ"
   },
   "source": [
    "## Task 03: Linear Filter"
   ]
  },
  {
   "cell_type": "code",
   "execution_count": null,
   "metadata": {
    "id": "ZO38RZOZ89UW"
   },
   "outputs": [],
   "source": [
    "def laplacian_response(inp):\n",
    "    \"\"\" The laplacian filter, as specified below, is applied to the image. \"\"\"\n",
    "    \n",
    "    filtr = np.array([[-1, -1, -1], \n",
    "                     [-1, 8, -1], \n",
    "                     [-1, -1, -1]])\n",
    "    return cv2.filter2D(src=inp, ddepth=-1, kernel=filtr)"
   ]
  },
  {
   "cell_type": "code",
   "execution_count": null,
   "metadata": {
    "id": "fD5a91kV9R5d"
   },
   "outputs": [],
   "source": [
    "def sharpen_rgb(image):\n",
    "  image[:, :, 0] = image[:, :, 0] + laplacian_response(image[:, :, 0])\n",
    "  image[:, :, 1] = image[:, :, 1] + laplacian_response(image[:, :, 1])\n",
    "  image[:, :, 2] = image[:, :, 2] + laplacian_response(image[:, :, 2])\n",
    "  return image"
   ]
  },
  {
   "cell_type": "code",
   "execution_count": null,
   "metadata": {
    "id": "3hnBiWw690lM"
   },
   "outputs": [],
   "source": [
    "image_rgb = read_image()\n",
    "sharpened_rgb = sharpen_rgb(image_rgb)\n",
    "plt.imshow(sharpened_rgb)\n",
    "plt.show()"
   ]
  },
  {
   "cell_type": "code",
   "execution_count": null,
   "metadata": {
    "id": "ak53Cat_97IF"
   },
   "outputs": [],
   "source": [
    "def sharpen_hsv(image):\n",
    "  image[:, :, 2] = image[:, :, 2] + laplacian_response(image[:, :, 2])\n",
    "  return image"
   ]
  },
  {
   "cell_type": "code",
   "execution_count": null,
   "metadata": {
    "id": "U4zo9qBF-hgl"
   },
   "outputs": [],
   "source": [
    "image_rgb = read_image()\n",
    "image_hsv = cv2.cvtColor(image_rgb, cv2.COLOR_BGR2HSV)\n",
    "sharpened_hsv = sharpen_hsv(image_hsv)\n",
    "plt.imshow(cv2.cvtColor(sharpened_hsv, cv2.COLOR_HSV2BGR))\n",
    "plt.show()"
   ]
  },
  {
   "cell_type": "markdown",
   "metadata": {
    "id": "Nx-5Pd4OOJAT"
   },
   "source": [
    "Similar to histogram equalization, there is some colour changes noticeable in the RGB image. This is again due to the intensity being coupled with the colour under this model. The HSV image does not show this issue."
   ]
  },
  {
   "cell_type": "markdown",
   "metadata": {
    "id": "Tt6qu3d6OagA"
   },
   "source": [
    "## Task 04: Non-Linear Filter"
   ]
  },
  {
   "cell_type": "code",
   "execution_count": null,
   "metadata": {
    "id": "EKnQsXF8-k5L"
   },
   "outputs": [],
   "source": [
    "def add_noise(inp):\n",
    "    \"\"\" 1 pixel of the image is replaced with the value 255 and 1 pixel is replaced with the value 0 randomly 1000 * strength times. \"\"\"\n",
    "    \n",
    "    x, y = inp.shape\n",
    "    output = inp.copy()\n",
    "    \n",
    "    for i in range(20 * 1000):\n",
    "        nx = random.randint(0, x - 1)\n",
    "        ny = random.randint(0, y - 1)\n",
    "        output[nx, ny] = 255\n",
    "        nx = random.randint(0, x - 1)\n",
    "        ny = random.randint(0, y - 1)\n",
    "        output[nx, ny] = 0\n",
    "    \n",
    "    return output"
   ]
  },
  {
   "cell_type": "code",
   "execution_count": null,
   "metadata": {
    "id": "72R4gpoJ--Ho"
   },
   "outputs": [],
   "source": [
    "def add_noise_channel_wise(image):\n",
    "  image[:, :, 0] = add_noise(image[:, :, 0])\n",
    "  image[:, :, 1] = add_noise(image[:, :, 1])\n",
    "  image[:, :, 2] = add_noise(image[:, :, 2])\n",
    "  return image"
   ]
  },
  {
   "cell_type": "code",
   "execution_count": null,
   "metadata": {
    "id": "hv2JJEoFAleg"
   },
   "outputs": [],
   "source": [
    "def pad_image(inp, border):\n",
    "    \"\"\" Adds padding of size = border to every edge of the image. \"\"\"\n",
    "    \n",
    "    x, y = inp.shape\n",
    "    out = np.zeros((x + (border * 2), y + (border * 2)), dtype=int)\n",
    "    out[border:-border, border:-border] = inp[:,:]\n",
    "    return out"
   ]
  },
  {
   "cell_type": "code",
   "execution_count": null,
   "metadata": {
    "id": "W4Gjpo4JAgE6"
   },
   "outputs": [],
   "source": [
    "def median_filter(inp, filter_size):\n",
    "    \"\"\" The image is parsed section by section, with the section size specified by the filter size, and the central pixel of each section is replaced with the median value for the section. \"\"\"\n",
    "    \n",
    "    x, y = inp.shape\n",
    "    border = filter_size // 2\n",
    "    padded = pad_image(inp, border)\n",
    "    out = np.zeros([x, y])\n",
    "    \n",
    "    for i in range(border, x + border):\n",
    "        for j in range(border, y + border):\n",
    "            section = padded[i - border : i + border + 1, j - border : j + border + 1]\n",
    "            out[i - border, j - border] = np.median(section)\n",
    "    \n",
    "    return out.astype(np.uint8)"
   ]
  },
  {
   "cell_type": "code",
   "execution_count": null,
   "metadata": {
    "id": "Ecpm9eGLA1JZ"
   },
   "outputs": [],
   "source": [
    "def median_filter_channel_wise(image, filter_size):\n",
    "  image[:, :, 0] = median_filter(image[:, :, 0], filter_size)\n",
    "  image[:, :, 1] = median_filter(image[:, :, 1], filter_size)\n",
    "  image[:, :, 2] = median_filter(image[:, :, 2], filter_size)\n",
    "  return image"
   ]
  },
  {
   "cell_type": "code",
   "execution_count": null,
   "metadata": {
    "id": "mBoKww0JAx9f"
   },
   "outputs": [],
   "source": [
    "image_rgb = read_image()\n",
    "noisy_rgb = add_noise_channel_wise(image_rgb)\n",
    "plt.imshow(noisy_rgb)\n",
    "plt.show()"
   ]
  },
  {
   "cell_type": "code",
   "execution_count": null,
   "metadata": {
    "id": "2IRCWkaZFL9G"
   },
   "outputs": [],
   "source": [
    "filtered_rgb = median_filter_channel_wise(noisy_rgb, 5)\n",
    "plt.imshow(filtered_rgb)\n",
    "plt.show()"
   ]
  },
  {
   "cell_type": "code",
   "execution_count": null,
   "metadata": {
    "id": "0oRSoO_vBY6O"
   },
   "outputs": [],
   "source": [
    "image_rgb = read_image()\n",
    "image_hsv = cv2.cvtColor(image_rgb, cv2.COLOR_BGR2HSV)\n",
    "noisy_hsv = add_noise_channel_wise(image_hsv)\n",
    "plt.imshow(cv2.cvtColor(noisy_hsv, cv2.COLOR_HSV2BGR))\n",
    "plt.show()"
   ]
  },
  {
   "cell_type": "code",
   "execution_count": null,
   "metadata": {
    "id": "uThKOz6xCPST"
   },
   "outputs": [],
   "source": [
    "filtered_hsv = median_filter_channel_wise(noisy_hsv, 5)\n",
    "plt.imshow(cv2.cvtColor(filtered_hsv, cv2.COLOR_HSV2BGR))\n",
    "plt.show()"
   ]
  },
  {
   "cell_type": "markdown",
   "metadata": {},
   "source": [
    "Noise was added to all three channels for both the RGB and the HSV images. The median filter was also applied to all three channels in both cases. As can be seen, the outputs for both the RGB image and the HSV image are comparable."
   ]
  }
 ],
 "metadata": {
  "colab": {
   "collapsed_sections": [],
   "provenance": []
  },
  "kernelspec": {
   "display_name": "Python 3 (ipykernel)",
   "language": "python",
   "name": "python3"
  },
  "language_info": {
   "codemirror_mode": {
    "name": "ipython",
    "version": 3
   },
   "file_extension": ".py",
   "mimetype": "text/x-python",
   "name": "python",
   "nbconvert_exporter": "python",
   "pygments_lexer": "ipython3",
   "version": "3.10.7"
  },
  "vscode": {
   "interpreter": {
    "hash": "bea42e1b0e07028483ba0ff26b9b4dc4fa162e9d0ccb6b0507d54b9d42d30653"
   }
  }
 },
 "nbformat": 4,
 "nbformat_minor": 1
}
