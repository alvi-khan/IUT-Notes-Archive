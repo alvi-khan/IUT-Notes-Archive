{
 "cells": [
  {
   "cell_type": "code",
   "execution_count": null,
   "metadata": {
    "id": "Wh7bbRxvxhrW",
    "pycharm": {
     "name": "#%%\n"
    }
   },
   "outputs": [],
   "source": [
    "import cv2\n",
    "import numpy as np\n",
    "import matplotlib.pyplot as plt\n",
    "import random"
   ]
  },
  {
   "cell_type": "markdown",
   "metadata": {
    "id": "OroWMAVaWU92",
    "pycharm": {
     "name": "#%% md\n"
    }
   },
   "source": [
    "# Utility Methods"
   ]
  },
  {
   "cell_type": "code",
   "execution_count": null,
   "metadata": {
    "id": "hOruDpS7WXrM",
    "pycharm": {
     "name": "#%%\n"
    }
   },
   "outputs": [],
   "source": [
    "def display_images(img_arr):\n",
    "    \"\"\" Displays a horizontal row of grayscale images. \"\"\"\n",
    "    \n",
    "    f, axarr = plt.subplots(nrows=1, ncols=len(img_arr), figsize=(10, 10))\n",
    "    \n",
    "    for i, img in enumerate(img_arr):\n",
    "        plt.sca(axarr[i])\n",
    "        plt.axis('off')\n",
    "        plt.imshow(img_arr[i], cmap='gray')\n",
    "   \n",
    "    plt.show()"
   ]
  },
  {
   "cell_type": "code",
   "execution_count": null,
   "metadata": {
    "id": "KTtRWhQkWyCt",
    "pycharm": {
     "name": "#%%\n"
    }
   },
   "outputs": [],
   "source": [
    "def pad_image(inp, border):\n",
    "    \"\"\" Adds padding of size = border to every edge of the image. \"\"\"\n",
    "    \n",
    "    x, y = inp.shape\n",
    "    out = np.zeros((x + (border * 2), y + (border * 2)), dtype=int)\n",
    "    out[border:-border, border:-border] = inp[:,:]\n",
    "    return out"
   ]
  },
  {
   "cell_type": "code",
   "execution_count": null,
   "metadata": {},
   "outputs": [],
   "source": [
    "def apply_filter(inp, filtr):\n",
    "    \"\"\"Applies a specified filter to an image.\"\"\"\n",
    "    \n",
    "    x, y = inp.shape\n",
    "    border = filtr.shape[0] // 2\n",
    "    padded = pad_image(inp, border)\n",
    "\n",
    "    out = np.zeros([x, y])\n",
    "    for i in range(border, x + border):\n",
    "        for j in range(border, y + border):\n",
    "            section = padded[i - border : i + border + 1, j - border : j + border + 1]\n",
    "            out[i - border, j - border] = np.sum(np.multiply(section, filtr))\n",
    "    \n",
    "    return out.astype(np.uint8)"
   ]
  },
  {
   "cell_type": "markdown",
   "metadata": {
    "id": "WDf5cWGOvrdG",
    "pycharm": {
     "name": "#%% md\n"
    }
   },
   "source": [
    "# Task 01"
   ]
  },
  {
   "cell_type": "code",
   "execution_count": null,
   "metadata": {
    "id": "eY-Gme7Kygar",
    "pycharm": {
     "name": "#%%\n"
    }
   },
   "outputs": [],
   "source": [
    "def box_filter(inp, filter_size):\n",
    "    \"\"\" A filter of the specified size containing the value 1/filter_size is applied. \"\"\"\n",
    "    \n",
    "    filtr = np.ones([filter_size, filter_size], dtype = int) / (filter_size * filter_size)\n",
    "    return apply_filter(inp, filtr)"
   ]
  },
  {
   "cell_type": "code",
   "execution_count": null,
   "metadata": {
    "colab": {
     "base_uri": "https://localhost:8080/",
     "height": 216
    },
    "id": "x5CJoma5viMH",
    "outputId": "b9736a79-becd-4ed6-b284-7003f5e63a83",
    "pycharm": {
     "name": "#%%\n"
    }
   },
   "outputs": [],
   "source": [
    "inp = cv2.imread(\"./Fig0333(a)(test_pattern_blurring_orig).tif\", cv2.IMREAD_GRAYSCALE)\n",
    "filtered_1 = box_filter(inp, filter_size=3)\n",
    "filtered_2 = box_filter(inp, filter_size=7)\n",
    "filtered_3 = box_filter(inp, filter_size=15)\n",
    "display_images([inp, filtered_1, filtered_2, filtered_3])"
   ]
  },
  {
   "cell_type": "markdown",
   "metadata": {},
   "source": [
    "As can be seen, a larger filter size causes the image to become blurrier. Noise is reduced to a larger extent."
   ]
  },
  {
   "cell_type": "code",
   "execution_count": null,
   "metadata": {
    "id": "rXEO48j0_XPF",
    "pycharm": {
     "name": "#%%\n"
    }
   },
   "outputs": [],
   "source": [
    "def weighted_filter(inp, filter_size):\n",
    "    \"\"\" A weighted filter, where the weights are incrementing from the edges of to the center, is applied. \"\"\"\n",
    "    \n",
    "    mid = filter_size // 2\n",
    "    filtr = np.ones([filter_size, filter_size], dtype = int)\n",
    "    \n",
    "    for i in range(mid + 1):\n",
    "        row = np.ones([1, filter_size])\n",
    "        for j in range(mid + 1):\n",
    "            row[0, j] = i + j + 1\n",
    "            row[0, filter_size - j - 1] = i + j + 1\n",
    "        filtr[i] = row\n",
    "        filtr[filter_size - i - 1] = row\n",
    "    \n",
    "    filtr = filtr / np.sum(filtr)\n",
    "    return apply_filter(inp, filtr)"
   ]
  },
  {
   "cell_type": "code",
   "execution_count": null,
   "metadata": {
    "colab": {
     "base_uri": "https://localhost:8080/",
     "height": 216
    },
    "id": "e3BQrw2qDhvu",
    "outputId": "871a2714-2b12-4420-e5f6-b50a55224581",
    "pycharm": {
     "name": "#%%\n"
    }
   },
   "outputs": [],
   "source": [
    "inp = cv2.imread(\"./Fig0333(a)(test_pattern_blurring_orig).tif\", cv2.IMREAD_GRAYSCALE)\n",
    "filtered_1 = weighted_filter(inp, filter_size=3)\n",
    "filtered_2 = weighted_filter(inp, filter_size=7)\n",
    "filtered_3 = weighted_filter(inp, filter_size=15)\n",
    "display_images([inp, filtered_1, filtered_2, filtered_3])"
   ]
  },
  {
   "cell_type": "markdown",
   "metadata": {},
   "source": [
    "The effect of the filter size is similar for weighted filters as it is for box filters. As the filter size increases, the image gets blurried and noise is reduced to a larger extent."
   ]
  },
  {
   "cell_type": "code",
   "execution_count": null,
   "metadata": {},
   "outputs": [],
   "source": [
    "inp = cv2.imread(\"./Fig0333(a)(test_pattern_blurring_orig).tif\", cv2.IMREAD_GRAYSCALE)\n",
    "filtered_1 = box_filter(inp, filter_size=15)\n",
    "filtered_2 = weighted_filter(inp, filter_size=15)\n",
    "display_images([filtered_1, filtered_2])"
   ]
  },
  {
   "cell_type": "markdown",
   "metadata": {},
   "source": [
    "Comparing the effects of a box filter and a weighted average filter side by side shows that a box filter has a stronger smoothing effect for the same filter size."
   ]
  },
  {
   "cell_type": "markdown",
   "metadata": {
    "id": "Mm0NA1UTTNL8",
    "pycharm": {
     "name": "#%% md\n"
    }
   },
   "source": [
    "# Task 02"
   ]
  },
  {
   "cell_type": "code",
   "execution_count": null,
   "metadata": {
    "id": "Y8jvlvLLTUDh",
    "pycharm": {
     "name": "#%%\n"
    }
   },
   "outputs": [],
   "source": [
    "def add_noise(inp, strength):\n",
    "    \"\"\" 1 pixel of the image is replaced with the value 255 and 1 pixel is replaced with the value 0 randomly 1000 * strength times. \"\"\"\n",
    "    \n",
    "    x, y = inp.shape\n",
    "    output = inp.copy()\n",
    "    \n",
    "    for i in range(strength * 1000):\n",
    "        nx = random.randint(0, x - 1)\n",
    "        ny = random.randint(0, y - 1)\n",
    "        output[nx, ny] = 255\n",
    "        nx = random.randint(0, x - 1)\n",
    "        ny = random.randint(0, y - 1)\n",
    "        output[nx, ny] = 0\n",
    "    \n",
    "    return output"
   ]
  },
  {
   "cell_type": "code",
   "execution_count": null,
   "metadata": {
    "id": "LUVaL60RUmEU",
    "pycharm": {
     "name": "#%%\n"
    }
   },
   "outputs": [],
   "source": [
    "def median_filter(inp, filter_size):\n",
    "    \"\"\" The image is parsed section by section, with the section size specified by the filter size, and the central pixel of each section is replaced with the median value for the section. \"\"\"\n",
    "    \n",
    "    x, y = inp.shape\n",
    "    border = filter_size // 2\n",
    "    padded = pad_image(inp, border)\n",
    "    out = np.zeros([x, y])\n",
    "    \n",
    "    for i in range(border, x + border):\n",
    "        for j in range(border, y + border):\n",
    "            section = padded[i - border : i + border + 1, j - border : j + border + 1]\n",
    "            out[i - border, j - border] = np.median(section)\n",
    "    \n",
    "    return out.astype(np.uint8)"
   ]
  },
  {
   "cell_type": "code",
   "execution_count": null,
   "metadata": {
    "colab": {
     "base_uri": "https://localhost:8080/",
     "height": 210
    },
    "id": "ybs-4tv6UeqP",
    "outputId": "6da0ba47-8dcc-49b5-cd58-5c55947a3c17",
    "pycharm": {
     "name": "#%%\n"
    }
   },
   "outputs": [],
   "source": [
    "inp = cv2.imread(\"./Fig0335(a)(ckt_board_saltpep_prob_pt05).tif\", cv2.IMREAD_GRAYSCALE)\n",
    "noisy = add_noise(inp, 20)\n",
    "filtered = median_filter(noisy, 3)\n",
    "display_images([inp, noisy, filtered])"
   ]
  },
  {
   "cell_type": "code",
   "execution_count": null,
   "metadata": {
    "colab": {
     "base_uri": "https://localhost:8080/",
     "height": 210
    },
    "id": "1QSu9SGeV0mM",
    "outputId": "2bf7d1b3-f32f-4f24-8a0b-7d1e0348366d",
    "pycharm": {
     "name": "#%%\n"
    }
   },
   "outputs": [],
   "source": [
    "inp = cv2.imread(\"./Fig0335(a)(ckt_board_saltpep_prob_pt05).tif\", cv2.IMREAD_GRAYSCALE)\n",
    "noisy = add_noise(inp, 50)\n",
    "filtered = median_filter(noisy, 3)\n",
    "display_images([inp, noisy, filtered])"
   ]
  },
  {
   "cell_type": "code",
   "execution_count": null,
   "metadata": {
    "colab": {
     "base_uri": "https://localhost:8080/",
     "height": 210
    },
    "id": "bvc5pXUAbJ0S",
    "outputId": "77b98362-ac7d-4118-85c3-2309b69caa9e",
    "pycharm": {
     "name": "#%%\n"
    }
   },
   "outputs": [],
   "source": [
    "inp = cv2.imread(\"./Fig0335(a)(ckt_board_saltpep_prob_pt05).tif\", cv2.IMREAD_GRAYSCALE)\n",
    "noisy = add_noise(inp, 20)\n",
    "filtered = median_filter(noisy, 7)\n",
    "display_images([inp, noisy, filtered])"
   ]
  },
  {
   "cell_type": "code",
   "execution_count": null,
   "metadata": {
    "colab": {
     "base_uri": "https://localhost:8080/",
     "height": 210
    },
    "id": "Mqga1HFwbLI-",
    "outputId": "83552779-2895-49fc-995f-2676eb818f67",
    "pycharm": {
     "name": "#%%\n"
    }
   },
   "outputs": [],
   "source": [
    "inp = cv2.imread(\"./Fig0335(a)(ckt_board_saltpep_prob_pt05).tif\", cv2.IMREAD_GRAYSCALE)\n",
    "noisy = add_noise(inp, 50)\n",
    "filtered = median_filter(noisy, 7)\n",
    "display_images([inp, noisy, filtered])"
   ]
  },
  {
   "cell_type": "markdown",
   "metadata": {
    "id": "WJttkoQRbSzj",
    "pycharm": {
     "name": "#%%\n"
    }
   },
   "source": [
    "Analysing the above results shows that a median filter is able to reduce noise in an image without making the edges blurrier. However, if the amount of noise is too large, a median filter of a fixed size is unable to remove all the noise. A larger median filter is required in this situation."
   ]
  },
  {
   "cell_type": "markdown",
   "metadata": {},
   "source": [
    "# Task 03"
   ]
  },
  {
   "cell_type": "code",
   "execution_count": null,
   "metadata": {},
   "outputs": [],
   "source": [
    "def laplacian_response(inp):\n",
    "    \"\"\" The laplacian filter, as specified below, is applied to the image. \"\"\"\n",
    "    \n",
    "    filtr = np.array([[-1, -1, -1], \n",
    "                     [-1, 8, -1], \n",
    "                     [-1, -1, -1]])\n",
    "    return cv2.filter2D(src=inp, ddepth=-1, kernel=filtr)"
   ]
  },
  {
   "cell_type": "code",
   "execution_count": null,
   "metadata": {},
   "outputs": [],
   "source": [
    "def equalize(inp):\n",
    "    \"\"\" Histogram equalization is applied to the image. \"\"\"\n",
    "    \n",
    "    counts, bins = np.histogram(inp, 256)\n",
    "    cdf = counts.cumsum()\n",
    "    cdf = (cdf - cdf.min()) * 255 / (cdf.max() - cdf.min())\n",
    "    out = np.interp(inp, bins[:-1], cdf)\n",
    "    out = np.array(out, np.int32)\n",
    "    return out"
   ]
  },
  {
   "cell_type": "code",
   "execution_count": null,
   "metadata": {},
   "outputs": [],
   "source": [
    "inp = cv2.imread(\"./Fig0338(a)(blurry_moon).tif\", cv2.IMREAD_GRAYSCALE)\n",
    "laplacian = laplacian_response(inp)"
   ]
  },
  {
   "cell_type": "code",
   "execution_count": null,
   "metadata": {},
   "outputs": [],
   "source": [
    "c = 1\n",
    "display_images([inp, equalize(laplacian), inp + c * laplacian])"
   ]
  },
  {
   "cell_type": "code",
   "execution_count": null,
   "metadata": {},
   "outputs": [],
   "source": [
    "c = 3\n",
    "display_images([inp, equalize(laplacian), inp + c * laplacian])"
   ]
  },
  {
   "cell_type": "code",
   "execution_count": null,
   "metadata": {},
   "outputs": [],
   "source": [
    "c = 7\n",
    "display_images([inp, equalize(laplacian), inp + c * laplacian])"
   ]
  },
  {
   "cell_type": "markdown",
   "metadata": {},
   "source": [
    "The results above show that increasing the value of c causes increased sharpness in the image. However, increasing it too far causes noise to become more visible."
   ]
  }
 ],
 "metadata": {
  "colab": {
   "collapsed_sections": [],
   "provenance": []
  },
  "kernelspec": {
   "display_name": "Python 3 (ipykernel)",
   "language": "python",
   "name": "python3"
  },
  "language_info": {
   "codemirror_mode": {
    "name": "ipython",
    "version": 3
   },
   "file_extension": ".py",
   "mimetype": "text/x-python",
   "name": "python",
   "nbconvert_exporter": "python",
   "pygments_lexer": "ipython3",
   "version": "3.10.7"
  },
  "vscode": {
   "interpreter": {
    "hash": "bea42e1b0e07028483ba0ff26b9b4dc4fa162e9d0ccb6b0507d54b9d42d30653"
   }
  }
 },
 "nbformat": 4,
 "nbformat_minor": 1
}
