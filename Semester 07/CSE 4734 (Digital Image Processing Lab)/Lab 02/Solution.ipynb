{
 "cells": [
  {
   "cell_type": "markdown",
   "id": "cfabab70",
   "metadata": {
    "pycharm": {
     "name": "#%% md\n"
    }
   },
   "source": [
    "# Task 01"
   ]
  },
  {
   "cell_type": "code",
   "execution_count": null,
   "id": "e9fea581",
   "metadata": {
    "pycharm": {
     "name": "#%%\n"
    }
   },
   "outputs": [],
   "source": [
    "import cv2\n",
    "import numpy as np\n",
    "import matplotlib.pyplot as plt"
   ]
  },
  {
   "cell_type": "markdown",
   "id": "82c99ab7",
   "metadata": {
    "pycharm": {
     "name": "#%% md\n"
    }
   },
   "source": [
    "## Log Transformation"
   ]
  },
  {
   "cell_type": "code",
   "execution_count": null,
   "id": "8c3c1636",
   "metadata": {
    "pycharm": {
     "name": "#%%\n"
    }
   },
   "outputs": [],
   "source": [
    "r = plt.imread(\"image1.tif\")\n",
    "plt.imshow(r, cmap=\"gray\")\n",
    "plt.show()"
   ]
  },
  {
   "cell_type": "code",
   "execution_count": null,
   "id": "aa1ddbec",
   "metadata": {
    "pycharm": {
     "name": "#%%\n"
    }
   },
   "outputs": [],
   "source": [
    "r = plt.imread(\"image1.tif\")\n",
    "l = 0.001\n",
    "s = np.log(l + r)\n",
    "c = (s - s.min()) * 255 / (s.max() - s.min())\n",
    "s = c * s\n",
    "plt.imshow(s, cmap=\"gray\")\n",
    "plt.show()"
   ]
  },
  {
   "cell_type": "markdown",
   "id": "894a0357",
   "metadata": {
    "pycharm": {
     "name": "#%% md\n"
    }
   },
   "source": [
    "## Power-Law Transformation"
   ]
  },
  {
   "cell_type": "code",
   "execution_count": null,
   "id": "f4b64862",
   "metadata": {
    "pycharm": {
     "name": "#%%\n"
    }
   },
   "outputs": [],
   "source": [
    "gamma = 0.5\n",
    "r = plt.imread(\"image1.tif\")\n",
    "s = r ** gamma\n",
    "c = (s - s.min()) * 255 / (s.max() - s.min())\n",
    "s = c * s\n",
    "plt.imshow(s, cmap=\"gray\")\n",
    "plt.show()"
   ]
  },
  {
   "cell_type": "markdown",
   "id": "eb94c5a3",
   "metadata": {
    "pycharm": {
     "name": "#%% md\n"
    }
   },
   "source": [
    "**Which function is suitable for which type of images?**\n",
    "\n",
    "Answer:\n",
    "\n",
    "Both log transformation and power law transformation achieve the same goal, but power law transformation gives us more control by allowing us to tune the gamma value.\n",
    "\n",
    "For images that are too dark, the intensity values of all the pixels can be raised to make it lighter. Lower intensities should be increased to a larger extent than higher intensities. This can be achieved using log transoformation or power law transformation with a gamma value less than 1.\n",
    "\n",
    "The opposite can be done for images that are too bright, meaning the intensity values of all the pixels can be lowered to make it darker. Higher intensity values should be decreased to a larger extent than lower intensities. This can be achieved using inverse log transformation or power law transformation with a gamma value higher than 1."
   ]
  },
  {
   "cell_type": "markdown",
   "id": "44207bd6",
   "metadata": {
    "pycharm": {
     "name": "#%% md\n"
    }
   },
   "source": [
    "**Why is intensity scaling required before display?**\n",
    "\n",
    "Answer:\n",
    "\n",
    "Applying log transformation, inverse log transformation or power law transformation can cause the intensity values to go beyond the range of 0 to 255, which is an invalid range for images. Intensity scaling brings the values back to the correct range."
   ]
  },
  {
   "cell_type": "markdown",
   "id": "8f05dfb3",
   "metadata": {
    "pycharm": {
     "name": "#%% md\n"
    }
   },
   "source": [
    "# Task 02"
   ]
  },
  {
   "cell_type": "code",
   "execution_count": null,
   "id": "a0773e99",
   "metadata": {
    "pycharm": {
     "name": "#%%\n"
    }
   },
   "outputs": [],
   "source": [
    "def normalize(r, plot = False):\n",
    "    counts, bins = np.histogram(r, 256)\n",
    "    cdf = counts.cumsum()\n",
    "    cdf_m = cdf * counts.max() / cdf.max()\n",
    "    \n",
    "    if (plot):\n",
    "        plt.plot(counts)\n",
    "        plt.plot(cdf_m)\n",
    "        plt.show()\n",
    "    \n",
    "    cdf = (cdf - cdf.min()) * 255 / (cdf.max() - cdf.min())\n",
    "    \n",
    "    s = np.interp(r, bins[:-1], cdf)\n",
    "    s = np.array(s, np.int32)\n",
    "    \n",
    "    counts, bins = np.histogram(s, 256)\n",
    "    cdf = counts.cumsum()\n",
    "    cdf_m = cdf * counts.max() / cdf.max()\n",
    "    \n",
    "    if (plot):\n",
    "        plt.plot(counts)\n",
    "        plt.plot(cdf_m)\n",
    "        plt.show()\n",
    "    \n",
    "    return s"
   ]
  },
  {
   "cell_type": "code",
   "execution_count": null,
   "id": "55ee2814",
   "metadata": {
    "pycharm": {
     "name": "#%%\n"
    }
   },
   "outputs": [],
   "source": [
    "r = plt.imread(\"image2.tif\")\n",
    "plt.imshow(r, cmap=\"gray\")\n",
    "plt.show()"
   ]
  },
  {
   "cell_type": "code",
   "execution_count": null,
   "id": "afd7455f",
   "metadata": {
    "pycharm": {
     "name": "#%%\n"
    }
   },
   "outputs": [],
   "source": [
    "r = plt.imread(\"image2.tif\")\n",
    "s = normalize(r, plot = True)\n",
    "plt.imshow(s, cmap=\"gray\")\n",
    "plt.show()"
   ]
  },
  {
   "cell_type": "markdown",
   "id": "a2088645",
   "metadata": {
    "pycharm": {
     "name": "#%% md\n"
    }
   },
   "source": [
    "**Why repeated application of HE doesn't produce any further improvements on output images?**\n",
    "\n",
    "Answer:\n",
    "\n",
    "Once an image has undergone histogram equalization, the CDF for the image is already normalized, meaning the intensity values are equally sperad out over the 0 to 255 range. Normalizing it again will not make any change to the CDF, since it is already equally spread out. As a result, further improvement is not seen.\n",
    "\n",
    "The effect of applying histogram equalization on an already normalized CDF is shown below."
   ]
  },
  {
   "cell_type": "code",
   "execution_count": null,
   "id": "0559b579",
   "metadata": {
    "pycharm": {
     "name": "#%%\n"
    }
   },
   "outputs": [],
   "source": [
    "r = plt.imread(\"image2.tif\")\n",
    "s = normalize(r, plot = False)\n",
    "s = normalize(s, plot = True)"
   ]
  },
  {
   "cell_type": "markdown",
   "id": "9a6a5253",
   "metadata": {
    "pycharm": {
     "name": "#%% md\n"
    }
   },
   "source": [
    "# Task 03"
   ]
  },
  {
   "cell_type": "code",
   "execution_count": null,
   "id": "325024b4",
   "metadata": {
    "pycharm": {
     "name": "#%%\n"
    }
   },
   "outputs": [],
   "source": [
    "r = plt.imread(\"image3.tif\")\n",
    "plt.imshow(r, cmap=\"gray\")\n",
    "plt.show()"
   ]
  },
  {
   "cell_type": "code",
   "execution_count": null,
   "id": "504f8cb6",
   "metadata": {
    "pycharm": {
     "name": "#%%\n"
    }
   },
   "outputs": [],
   "source": [
    "r = plt.imread(\"image3.tif\")\n",
    "r = r.copy()    # workaround for permission error\n",
    "patch_size = 50\n",
    "height, width = r.shape\n",
    "\n",
    "for i in range(0, height // patch_size):\n",
    "    x1 = i * patch_size\n",
    "    x2 = (i + 1) * patch_size\n",
    "    \n",
    "    for j in range(0, width // patch_size):\n",
    "        y1 = j * patch_size\n",
    "        y2 = (j + 1) * patch_size\n",
    "        \n",
    "        r[x1:x2, y1:y2] = normalize(r[x1:x2, y1:y2])\n",
    "\n",
    "plt.imshow(r, cmap=\"gray\")\n",
    "plt.show()"
   ]
  },
  {
   "cell_type": "markdown",
   "id": "5f39594a",
   "metadata": {
    "pycharm": {
     "name": "#%% md\n"
    }
   },
   "source": [
    "**Why do you have annoying side effects at the boundary of local image regions.**\n",
    "\n",
    "Answer:\n",
    "\n",
    "Dividing the image into small regions and applying histogram equalization to each of them results in each region being enhanced individually. However, each region is being transformed slightly differently from the regions surround that one. This results in the final image having noticeable 'blocks'."
   ]
  }
 ],
 "metadata": {
  "kernelspec": {
   "display_name": "Python 3.9.0 64-bit",
   "language": "python",
   "name": "python3"
  },
  "language_info": {
   "codemirror_mode": {
    "name": "ipython",
    "version": 3
   },
   "file_extension": ".py",
   "mimetype": "text/x-python",
   "name": "python",
   "nbconvert_exporter": "python",
   "pygments_lexer": "ipython3",
   "version": "3.10.7"
  },
  "vscode": {
   "interpreter": {
    "hash": "bea42e1b0e07028483ba0ff26b9b4dc4fa162e9d0ccb6b0507d54b9d42d30653"
   }
  }
 },
 "nbformat": 4,
 "nbformat_minor": 5
}
