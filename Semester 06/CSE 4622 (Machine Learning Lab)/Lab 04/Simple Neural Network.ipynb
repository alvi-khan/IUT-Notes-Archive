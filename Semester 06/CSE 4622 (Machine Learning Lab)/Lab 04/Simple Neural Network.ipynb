{
  "nbformat": 4,
  "nbformat_minor": 0,
  "metadata": {
    "colab": {
      "name": "Introduction to Neural Networks.ipynb",
      "provenance": [],
      "collapsed_sections": []
    },
    "kernelspec": {
      "name": "python3",
      "display_name": "Python 3"
    },
    "language_info": {
      "name": "python"
    }
  },
  "cells": [
    {
      "cell_type": "markdown",
      "source": [
        "# Introduction and Dataset Description\n",
        "Since this is an introductory article, the problem that we are going to solve is pretty simple. Suppose we have some information about obesity, smoking habits, and exercise habits of five people. We also know whether these people are diabetic or not. Our dataset looks like this."
      ],
      "metadata": {
        "id": "VVUqg5QIUPH1"
      }
    },
    {
      "cell_type": "code",
      "source": [
        "import pandas as pd\n",
        "import numpy as np\n",
        "\n",
        "!gdown --id -q 1EJmU7Mli1oXLPJfXGrus0HHfVnXM6wpk\n",
        "!unzip -q Data.zip\n",
        "\n",
        "data = pd.read_csv('Data.csv')\n",
        "data.head()"
      ],
      "metadata": {
        "id": "0cGHM4vAXAdu"
      },
      "execution_count": null,
      "outputs": []
    },
    {
      "cell_type": "markdown",
      "source": [
        "In the above table, we have five columns: Person, Smoking, Obesity, Exercise, and Diabetic. Here 1 refers to true and 0 refers to false. For instance, the first person has values of 0, 1, 0 which means that the person doesn't smoke, is obese, and doesn't exercise. The person is also diabetic.\n",
        "\n",
        "It is clearly evident from the dataset that a person's obesity is indicative of him being diabetic. Our task is to create a neural network that is able to predict whether an unknown person is diabetic or not from the given data about his exercise habits, obesity, and smoking habits. This is a type of supervised learning problem where we are given inputs and corresponding correct outputs and our task is to find the mapping between the inputs and the outputs.\n",
        "\n",
        "**Note**: This is just a fictional dataset, in real life, obese people are not necessarily always diabetic."
      ],
      "metadata": {
        "id": "3iJEu5IQZFsx"
      }
    },
    {
      "cell_type": "markdown",
      "source": [
        "# The Solution\n",
        "We will create a very simple neural network with one input layer, one hidden layer (that will contain two hidden units) and one output layer. Before writing any actual code, let's first let's see how our neural network will execute, in theory. For simplicity, we are not considering the bias term.<br>\n",
        "![nn.JPG](data:image/jpeg;base64,/9j/4AAQSkZJRgABAQEAYABgAAD/4QCKRXhpZgAASUkqAAgAAAAEADEBAgAHAAAAPgAAADsBAgASAAAARQAAABICAwACAAAAAgACAGmHBAABAAAAWAAAAAAAAABHb29nbGUAQXNoYWR1bGxhaCBTaGF3b24AAAMAAJAHAAQAAAAwMjIwAqAEAAEAAADWAQAAA6AEAAEAAABGAQAAAAAAAP/bAEMABwUFBgUEBwYFBggHBwgKEQsKCQkKFQ8QDBEYFRoZGBUYFxseJyEbHSUdFxgiLiIlKCkrLCsaIC8zLyoyJyorKv/bAEMBBwgICgkKFAsLFCocGBwqKioqKioqKioqKioqKioqKioqKioqKioqKioqKioqKioqKioqKioqKioqKioqKioqKv/AABEIAUYB1gMBIgACEQEDEQH/xAAfAAABBQEBAQEBAQAAAAAAAAAAAQIDBAUGBwgJCgv/xAC1EAACAQMDAgQDBQUEBAAAAX0BAgMABBEFEiExQQYTUWEHInEUMoGRoQgjQrHBFVLR8CQzYnKCCQoWFxgZGiUmJygpKjQ1Njc4OTpDREVGR0hJSlNUVVZXWFlaY2RlZmdoaWpzdHV2d3h5eoOEhYaHiImKkpOUlZaXmJmaoqOkpaanqKmqsrO0tba3uLm6wsPExcbHyMnK0tPU1dbX2Nna4eLj5OXm5+jp6vHy8/T19vf4+fr/xAAfAQADAQEBAQEBAQEBAAAAAAAAAQIDBAUGBwgJCgv/xAC1EQACAQIEBAMEBwUEBAABAncAAQIDEQQFITEGEkFRB2FxEyIygQgUQpGhscEJIzNS8BVictEKFiQ04SXxFxgZGiYnKCkqNTY3ODk6Q0RFRkdISUpTVFVWV1hZWmNkZWZnaGlqc3R1dnd4eXqCg4SFhoeIiYqSk5SVlpeYmZqio6Slpqeoqaqys7S1tre4ubrCw8TFxsfIycrS09TV1tfY2dri4+Tl5ufo6ery8/T19vf4+fr/2gAMAwEAAhEDEQA/APpGiiigAooooAKKa7pGhaRlRR1LHAFVv7X03fs/tC13f3fOXP8AOk5JbiukW6KajpIgaNldT0KnINOpjCiiigAooooAKKKKACiiigAooooAKKKKACiiigAooooAKKKKACiiigAooooAKKKKACiiigAooooAKKKKACiiigAooooAKKKKACiiigAooooAKKKKACiiigAooooAKKKKACiiigAooooAKKKKACs+a9mubh7XS9haM4luHGUiP90D+JvboO/pS6nPKPJs7RtlxdEqHxny0A+Z/wAOAPcirVtbRWlskEC7Y4xgD/PU+9Q7ydkTu7FSPRbTcJLsNezDnzLk78H2X7q/gBVz7NBs2eTHt/u7BipKKajFbIdkjPk0W0LGS1VrOY/8tLY7Mn3A4b8QaSG9ntbhLXVNmZDiG5QYSQ/3SP4W9uh7elaNRXNvFd2zwXC745Bhh/nvScbaxFa2xLRVDTJ5f31ldtvuLUgFz/y0Q/df8eQfcGr9VF3Vxp3QUUUUxhRRRQAUUUUAFFFFABRRRQAUUUUAFFFFABRRRQAUUUUAFFFFABRRRQAUUUUAFFFFABRRRQAUUUUAFFFFABRRRQAUUUUAFFFFABRRRQAUUUUAFFFFABRRRQAUUUUAFFFFABRRRQBnWY+0axfXJ5EZW2j+gG5iPxbH/Aa0az9H5t7lj1N3Pn8JCB+gFaFRD4bkx2K8+o2Vte21nc3kEV1d7hbQSSqrzbRltik5bA5OOgrB1XxlFHqFnpfhpLPWdTup5oPK+2iOKAwgGXzXVXKldyLt2k5cZx1qn8SLS61fSbDRdJtpzqd5eI9rfpExTTTH8xuGcDCkDICkguW28jdjnNGhm0c+FNVfQdQs4dFgvNI1K1htJp3jkcxt56AKWmR3izvUNnzQTyGxZR33hrXl8Q6Sbk27WtzBPJa3dsW3eTPGxV1DYG5cjIbAypBwM4GvXK+ALO6h0nUr+9tpbRtW1S4vo7eddskcTNiPep5ViiqxU8jdg8giuqoAzr3/AEfVrG6HAkLW0h9mG5f/AB5cf8CrRrP1ni0gYdRd2+PxlUH9Ca0KiOkmiVuwoooqygooooAKKKKACiiigAooooAKKKKACiiigAooooAKKKKACiiigAooooAKKKKACiiigAooooAKKKKACiiigAooooAKKKKACiiigAooooAKKKKACiiigAooooAKKKKACiiigAooooAz9N/dXmoWx6rP5q+6uAc/99Bh+FaFZuon7DeRakM+Wo8q5x2jzkN/wE/ozVpA5GRyKiGnukrsFFFFWUFFFBOBk0AZ2q7pbiwtoyN7z+YcjIAQE5/762j8aqQ6ve2d19i1a0aWTBdJ7UbhIueu3rkcZAz69Ktaeft15LqR/wBUV8q2z3TOWf8A4Ef0UHvVm/skvrcIWMciNvilX70bDoR/h3GRRScdXJaMyab96LFtdQtL3Itp0dl+8mcMv1U8j8asVlQrb6qGg1S2j+222A4xyPR0bqAfbpyO1SfYb22/48b5nX/nldjzB+DcMPxJrRxV7bDUna5o0Vnf2nLb8ajZSwjvLD++j/Qbh+KirlvdW93H5lrNHMn96NgR+lS4talKSehLRRRUlBWfFqok1+fS3i2NHCsyPuzvBODxjjB960K5jxNP/ZGsWOr4+URywSe+VLKPzFaU4qT5TOpJxXMaOk69Hqt9f2yReX9jk2ht2fMGSM9OOVNZ8vjOGPR/totHkd2k8qJH+8iHG9mIwo/PqOtY0gfw5ZWV5zuudPlic/8ATQjev6kiti705LL4dyQsgLw2TckdCRk/rXQ6dNNO2jf/AA5gp1Gmr6pf8MdHbyie2jmUYEiBgPqKkqtpv/IKtf8Arin8hVmuR7nUtgooopDCiiigAooooAKKKKACiiigAooooAKKKKACiiigAooooAKKKKACiiigAooooAKKKKACiiigAooooAKKKKACiiigAooooAKKKKACiiigBCAylWAIIwQe9ZaebonyFXn04fcZRue3HoR1K+hHI+nNatFTKN9eomrjIZoriFZYJFkjYZV0OQfxp9UZdHtJJmmiV7aZjlpLdzGWPvjhvxzTf7Mm6f2tfbf7v7r+ezP60ryW6Fd9i7NNFbwtLPIscajLO5wB+NZrmXWv3aq8Onn77MCr3A/ugdQvqep7cc1PFo9okqzSq9zMpyslw5kKn2zwPwAq9Ss5b7BZvcRVCqFUAADAAHSloorQopahZPPsubRhHeQZMTnow7o3+yf04PapLG9S+t96qY5FOyWJvvRsOqn/ADyMGrNZ1/bSwXH9o2CbplXbNCP+W6Dt/vDsfw78aL3lysh+6+ZGjVS40uzuZfNeLZN/z2iYo/8A30uDU1tcxXlsk9u++NxkH/PQ+1S1F3FlWUkZ32fU7X/j3uku0/553Q2t/wB9qP5qfrR/bCQ8ajBNZHu8g3R/99rkD8cVo0VXMnuieVrZjY5EmjDxOro3IZTkH8aqarpVtrFn9mvFLRhg4wcYIpsmj2hkMtuHtJWOTJbNsJPuBw34g03Gq2vRob+Mf3v3Un5jKk/9800le8WDbtaSH6lpFrqttFBdJlInDrg4wRU95aRXtjLazjMUqFGAOODVdNZtQ4ju/MspCcBbldoJ9A33T+BNXwcjI5FJ80bXGuV3sMhiWCCOJPuooUfQU+iioKCiiigAooooAKKKZLNHCm6aRY19XYAUAPoqourac77V1C1ZvQTLn+dWgQygqQQeQR3pJp7CumLRRRTGFFFFABRRRQAUUUUAFFFFABRRRQAUUUUAFFFFABRRRQAUUUUAFFFFABRRRQAUUUUAFFFFABRRRQAUUUUAFFFFABRRRQAUUUUAFFFFABRRRQBlXKtpF099ApNpKc3USj7h/wCeoH/oQ/Hsc6isroGRgysMgg5BFLWSn/EkuRE3/IOmbEZ/593P8P8Auk9PQ8dCMafGvMz+B+RrUUVTs9Tgvbi7hjDo9pJ5cgfA7ZBGD0qEm9S7paFyis3Tdds9U02a+ty6wwsyvvABG0Zz16Y5qsPFNu8MEkVndyedGJQAqLtB6ZLMAT7An3xVezle1ifaRte5tOiyIVdQykYIIyDVA6NDEd2nyy2LekLfJ/3wcr+QBqxY30Go2aXNqxaN84yMEEHBBHYg1YpXlF2HaMlczvO1S1/10Ed6g/jtzsf/AL4Y4P8A31+FSwatZzyiHzDFOekMymNz9Aev1GauVHPbw3URiuYY5oz1WRQwP4GneL3QrNbMkorO/sp7fnTbya29I3Pmx/k3I/Aij7Zf23/H7Zecn/PW0O78ShwR+G6jlvsw5rbo0aKrWuo2l4xW3nVnX70Z+V1+qnkfiKraiz3l0mmRMVWRPMuXU8rHnG0ehY5H0DVnO8d0PmVroQ3VxqTsmmOIrdTta7I3bj3EY6H/AHjx7GpYtGsY38x4ftEv/PW4Jkb82zj6DAq6iLHGqRqFRRhVAwAPSlqVBby1C3cia2gdNjwxsv8AdKAiqbaNBGS+nM1jLnP7n7hPun3T+WfetGim4xe6HZMo2t9ILj7HqCLFckZQqfkmHque/qvUe45q9Ve+s0vrUxOSjAho5F+9Gw6MPcUzTbt7q1IuFC3ELmKZR0DDuPYjBHsRSTafKxLR2ZboooqygooooAKKKKACiiigAooooAKKKKACiiigAooooAKKKKACiiigAooooAKKKKACiiigAooooAKKKKACiiigAooooAKKKKACiiigAooooAKZNFHPC8UyK8bqVZWGQQe1PooAzLOaTT7pdOvHZ0bP2WdjkuB/Ax/vAfmOeoNYGt3LaLrmpPHx/aFjlMd5Qdo/Rq6u8tIr61aCcHB5DKcMhHRgexB5rCn04ave2ttqr7bzT380MowtwmR8wH4DI7H2IrppyjfmfzOepF25V8jEu0bQbXUNKj4+22kPlAd2JEb/AMxXSX09voekwwQwrNdvGIbeEDmQgY59h3NT6noUOp6jY3cjFWs33ADo3Q4P4iqGreFpdS1g36andWz7QiiF9u0e1PnhO3N8xck4X5fkaWgac2laLBayNukGWc+rE5P860ao6Rp8mm2RhmvLi8YsW8yd97D2z6Vernm7ybvc3irRSCiikZgqlmIAAySe1SULRWadX+0EppMDXh6ebnbCP+B9/wDgINH9ly3fOrXJnU/8u8WUiH1HVvxOPar5LfFoRzX+HUhvrmwv28mG0GpzIcDywNsZ95Oin6HPtVPwktxKb68ldjFLKUiBcuCF44dvmYcdTjqeKuz/AOnTHTLH91aQ/LcyR/KB/wBMlx3PcjoPc8TeH1C+HbHaAP3KnAHQkZNOUkkoGaV53NGub1PxtpmieKzpOtXFpp1sLFbv7dd3SxIWMhQR/NgZ+UnOfwrpK5L+zZH+M39pvZuYY9BEKXRjO1XNwSUDdM4AOOuKzNx/jTxwvhbw2NVsNMn1oNF56m3YLAIhgl2mwVAww2gZZieBjJHVV5W2j6l/wzVLpQ066+3CxeNLMQN5o/enChMZ6YwMdK9UoAKzj/o3iJSOFvICD/voePxKsf8AvmtGsrWLiKzu9MnuJBGi3DKzHoAYn5PtkCpkm7W7omWiuatFNjkSWNZInV0YZDKcg/jTqooKKKKAK2o30em6fNeTI7xwruZYwC2PbJFVtS12z0vTob24LNDMyqmwAk7hnPXpjmrl5brd2M1vIMrLGUP4iuGtEbXrXT9Kl5NnaziUHswJjT/Gt6UIyV5dNzCpOUXZdTrtW1u30hYfOjmmaYsESEAscDJOCR2FZK+OrIyIr6bqcYdgoZ4AACTgfxVU0W4bWta0xpfm+wWJ8zP/AD0J2H/0E1o3yJqXiq1sUUeTYj7TPgdXPCD+Z/Kr5IQfLJev9fcRzykuaL9DoaKKK5TqCiiigAooooAKKKKACiiigAooooAKKKKACiiigAooooAKKKKACiiigAooooAKKoy6xZxzNDG7XEynDRW6GRlPvjp+OKb/AGpJ1/su+2/3tqfy3Z/So54i5kaFFUYtYs5JlhkdreZjhY7hDGWPtng/hmr1UpJ7AmnsFFFFMYUVGbiEXAtzKgmK7xHuG4r6464oW4ha4aBZozMgDNGGG5QehI607MV0SUVVm1Swt9/2i+tovLYK++ZV2kjIByeDipbe5gu4RLazRzxk4DxuGB/EUcrSvYOZXsS1U1Cx+2RKY38q4hO+GYDlG/qD0I7irdFCbTugaTVmVNPvvtcbpMnlXMJ2zRZztPqPVT1Bq3VDULOVpEvbHAvIRgAnAlXujf0PY/jT49Vs30/7ZJKsEYO1/NO0ow6qR657VTjfWJKlbSRcpssscETSTOscajLM5wB+NZ/269veNNtvKjP/AC8XSlR9VT7x/HbTotIiMqzX0j3s6nKtNjah/wBlBwPrjPvRypfEHM38I3+05rzjSbYyr/z8TZSL8O7fgMe9KukCdg+qzNesDkRsNsSn2Tof+BZNaNFHPb4dA5b/ABagAFAAGAOAB2rPv7qWScafYNi5dd0kuMiBP731PYfj0FP1C+a2VIbZRLdz5EMZ6e7N6KO/5dTT7CxWxgK7zLNI2+aZusjev9AOwwKa0XMwer5USWlrFZWqQW67UQdzkk9yT3JPOaq6J8lg1sfvW0zxH6Bsr+alT+NaFZkzf2dq4nPFveYjkPZJRwpP+8Pl+oWsJvVSY9rGnRRRVlBRRRQAVn3H77X7SMdIInmb2Jwq/nlvyq7NLHBC8szhI41LMxPAA71S0qN5BNfzqyS3TAqrDBSMfcX8iSfdjUS1aiS+wSaPCsjS2DvYzMcloMBWP+0h+U/XGfem/a7+y4vrb7TGP+W9oCSPrGef++S1aVFbc766i5V00ILW9tr2MvaTJKAcNtPKn0I6g+xqeql1plrdyCV0KTgYWeJikg/4EOcex4qDGqWXQrqMI7HEcw/9lb/x2jlT2YXa3RpVl6boUGm6pfXsbFmu2DEH+H1x+Jqxa6pa3UvkhzFcAZMEylHH4HqPcZFXKXvRuu4/dlqZek6HDpN3ezwsWN3JvIP8PU4Htyal03S00+e7n8xpZbqUyO7YzjsOOwq/RQ5ye7BRitkFFFFSUFFFFABRRRQAUUUUAFFFFABRRRQAUUUUAFFFFABRRRQAUUUUAFFFFAASFUljgDkk9qyl83Wvn3SQacfuhDte4HqT1VPTHJ+nV+og3t5Dpo/1bDzbnHeMcBf+BH9FatIAAAAYA6AVn8Tt0J3YyGCK2hWK3jWKNRhUQYAp9FFabFDJoIriForiNZY2GGRxkH8KzX83RfnDST6cPvqx3Pbj1B6svqDyPpxWrQRkYPIqZRvqtxNXEBDKGUggjII70tZunD7DeTaaf9UB5trntH0K/wDAT+jLWlRF3QJ3Of13Np4g0bUBkL5ptpPo44/UVk2Fw6eLRqzN+5vriW0yTxtUDYfzQ/nXReItPk1PRJYLfAnBV4iezA5FZt34fuD4Mt7G2Ki8g2SKSeN4OT/M12wnHlSfp8jmnCXM2vX5lXSIYJdNudbuoZJmmupJIxGVDbSdoAJI4wPWrXhVlk1XVpVJjEjoRbscsgwcEnuT6jI46mrccd/o2l2NrY2UV0kcO2QNKUIbjkfKc9+1VbI/YNWudR1Xy4Li6VUitIMyNtHoAMsc98Ck3zc1uu33jS5eW/Tf7jpagur22sYw91MsYY4UHqx9AOpPsKqbtTvvuKNOhP8AE2HmI+n3V/Hd9KntNMtrOQyohknYYaeVi8jf8CPb2HFYcqW7NuZvYg+0ajff8ekIsoT/AMtrlcufpH2/4ER9Kpy6OumXY1WBXvJl5uPNAZ3H95OMBgB0GMjj0reopqo1tsJ009xkE8dzAk0DiSORQysvQin1kyj+xLlrhf8AkHzNmZf+eDn+Mf7J7+h59a1gcjI5FTKNtVsVF30e4VWvr1LG28xwzsxCxxr96Rj0Uf596kubmK0tnnuHCRxjLMapWNvLc3H9o36FJSCIIW/5YIfX/aPf06fVxS3ewpN7Lck0+yeFnurwq95PjzGHRB2RfYfqcmr1FFS227spJJWQVHPBHc27wToHjkUqynuKkopbjMtLqXSf3WpM0lsOI7zGdo9JPQ/7XQ98d9NWV1DIQykZBByDS9etZ50W0Vi1p5lmxOT9mcoD9V+7+lRaUdtSdVsaFRXN1BZwmW6lWJAcZY9T6D1PtVT+zJjw2rXzL6ZjH6hAf1qS30q0tphMIzLOP+W0zGR/wJ6fQUXk9kF2QCKbVpVkuo2hskYMkDjDTEchnHYA9F6+vpWnRRTjGw0rBRRRVDCiiigCG6s7e9i8u7hSVc5AYZwfUeh96p/Yr6z50+686Mf8sLslvyk+8Px3VpUVSk1oS4p6mcmsRI4j1GN7GQnA87Gxj7OPlP04PtWjSOiyIUkUMrDBVhkGs7+yDbfNpNw1n/0yI3wn/gB6f8BIp+6/IXvLzNKis3+057TjVbRo1H/LxBmSP8eNy/iMe9X4Z4rmFZbeVJY26OjAg/iKTi0NSTH0UUVJQUUUUAFFFFABRRRQAUUUUAFFFFABRRRQAUUUUAFFFFABRRRQBn6b+9vdQuT1afyl9lQAY/76LH8a0Kz9H4t7kHqLufP4yEj9CK0KiHwkx2MnXPEVr4fmsP7RhnW1vJxbteqF8m2c/c80lgVDN8oIBG4gEjIrl/Eni3V9R+Guo+IfB4GnW9vBc3C3t9EGeWGJGZZYI8kESFflaTbgfNtbIB2vGfh+98VWNtoqvDFo91L/AMTZjIwmeFeRFGAuPnbAZtwKqDgEnIpf8I3rtz8K9W8L6jc2k15JY3On2d2HYCWNo2SJ5RsGxsEBgu4cZHXAso6jTZnuNJtJpm3SSQI7HGMkqCas1XsIGtdNtreQgvFCiMV6EgAcVYoAz9T/AHV3p9yOqT+U3urgjH/fW0/hWhWfrPNpAB943dvj8JVJ/QGnT6tBHM0Fur3dyvWGAbiv+8ei/iRUxi3JpEXSbuXqp3WqW1rL5JLTXBGRBCu9z+A6D3OBUP2XUL7m+uPssR/5YWrHcf8Aek6/98gfU1ctbO3sovLtYUiXOTtHU+pPc+5rW0VvqF5PYp+Xqd9/rnGnwn+CIh5T9W6L+GfrVm00+2sQ32aIKzffkJLO/wBWPJ/GrNFJybVhqKWoUUUVJQUUUUAIyhlKsAQRggjrWVDJ/Yk62s7YsJDi3lY/6o/882Pp/dP4emdase4jXxBK9qcnTYmxMwOPPcH7oP8AdB6nuRjsa0h2exnPy3H26trF0l7MCLKI5toyP9Yf+epHp/dH4+mNWs2xuJbW4Gm3zlpAM28x/wCWyD1/2h39evrjSone/kOG3mFFFFZlhRRRQAUUUUAFFFFABRRRQAUUUUAFFFFABRRRQAUUUUAFUZtIt3mae3L2lw3JltztLH/aHRvxBq9RTUmthNJ7mb5+pWX/AB9QLexD/lrbDa4+qE8/gfwq1aaha3wb7NMrsv30PDJ9VPI/GrFVrvTrW9KtcRAyL9yVSVdPow5FVeL3JtJbFmis3ytTsv8AUSrfxD+CYhJR9GAwfxA+tS2+rW00wgk321wekFwuxj9OzfgTRyPdahzLZ6F2iiioLCiiigAooooAKKoy6xZxzNDG7XEynDRW6GRlPvjp+OKb/aknX+y77b/e2p/Ldn9KjniLmRoUVRi1izkmWGR2t5mOFjuEMZY+2eD+GavVSknsCaewUUUUxhRRRQAUUUUAZ1kfI1e+tjwJCtzH9GG1v1XP/Aq0aoanBL+6vLRN9xakkIP+WiH7yfjwR7gVatrmK7tknt23xyDKn/Peojo+UlaaEtFFFWUFFFR3FxFaW0k9w2yOMZY0bAZetQNqV1a6fHJ5f3p3bGcBRgA8jqW9R0NPgkudLhEMmnIYF6PYjge5jPI/DdU2mQSnzb27TZPckHYesaD7qfXkk+5NX6KcnbXqZ8t3zdSva6ha3uRbTq7L95OjL9VPI/GrFV7rT7W92m5gV2X7r9GX6MOR+FVvsd/a/wDHleecg/5Y3Y3fk45H47qu0Xsx3kt0aNFZ39rCDjU7aWz9ZCN8X/fY6D/eAq/FLHNGJIXWRGGQyHIP40nFrcaknsOoooqSgooqhqF5KJEsrDBu5RncRkQp3c/0Hc/jTSbdhNpK5HeTSX902nWblFUD7VOp5jU/wKf7xH5Dn0rQhhjt4EhgQRxxqFVVHAArP8+00M2Vjtk/0qQoshwcvjJLknOTUkus2sOuQaU+/wC0TxmRSANoAzweevB/KtGm1aK0/rUzTSd5PUnvrKO+tvKcsjKQ0ci/ejYdGHv/APqqHT72SVntb0Kl5CB5gHRx2dfY/oeKfFqUMurT6eiuZYI1kduNo3dB1znjPSs37bba5eXCaY7Je6a+EmYfIxPVeDypxg/TI6UKLas9vyBySd0btFVbC+W+gJKGKaNtk0LHmNvT+oPcYNWqzaadmaJpq6CiiikMKKKKACiiigAooooAKKKKACiiigAooooAKKKKACiiigAooooAKjuLaG7hMVzEk0Z6q6gipKKNg3M3+z7qz50y7Owf8u9yTIn4N95fzI9qUawsBC6rA9i3TzGO6I/RxwP+BYNaNBAYEEZB4IPer5r/ABIjlt8IisGUMpBBGQQetLWc2jpCxfTJnsXJyVjGY2Puh4/LB96T7feWfGpWhZB/y8WoLr9Sn3h+G760ct/hYc1viNIkKpLHAHJJ7VlL5utfPukg04/dCHa9wPUnqqemOT9Orbm5h1maGys5kmt3HmXLRtkbBwEPpuPb0Vq1wAAABgDoBWLTk7PZD+L0GQwRW0KxW8axRqMKiDAFPooq9ihk0EVxC0VxGssbDDI4yD+FZr+bovzhpJ9OH31Y7ntx6g9WX1B5H04rVoIyMHkVMo31W4mriAhlDKQQRkEd6Ws3Th9hvJtNP+qA821z2j6Ff+An9GWtKiLugTuFFFFUMKKKKACs6Wyntbh7nS9mZDumtnOEkP8AeB/hb36Hv61o0VLimJq5Qj1m0LiO5ZrOY/8ALK5Gwk+xPDfgTVzzo/L3+Yuz+9uGPzpZI0lQpKiup6qwyDVT+xdL8zf/AGbZ7/73kLn+VL30L3hsus2iuY7ZmvJh/wAsrYbzn3I4X8SKbFZT3dwlzqmz92d0NshysZ/vE/xN+g7etX440iQJEioo6KowBTqOVv4gtfcKKKKsoKKKKACqMuj2rSGW3D2kzHJktm2En3HRvxBq9RTUmthNJ7mdnVbTqItQjH9391L/APEsf++akh1e1llEMjNbTngRXC7GP0zw34E1dqpqctrDYu19Gs0ZwoiKBvMY9FA7kmrTUnZolpxV0w1C++xxosSebczHbDDnG8+p9AOpNGn2P2OJmlfzbmY7ppiMb29vQDoB2FZlhoVxb/6Wly1tdOMCLHmxRJ1EYB5x64Iyfwq79uvbXi/si6f89rTLj8U+8Pw3VTStyxZCbvzSRS8YQsdCN1EP3tlKlwn/AAE8/pmsO7kNzc3fiKI5S0vIlRv+majD/wDoRrrfPs9YspoYZ0lV0KOqn5lyO46g/Wqtn4fgtPDj6RuZ43RlZz1O7PNXCooRs97/AIdfyJnTc5XW36nLXOtpZLqN35phl1O7aCObaT5cUYClhjv6e59qs+EdQ0qPxFeWthcbkmjiWD5GG/ap3dRx+NdLp+iW1jpcFkyiZYQcM45JJyTRaaJbWerXF7GOZgoC44TAxx9aqVaDjKNv66dCVSmpJ3/rr1HX9rLHONQsFzcou2SLOBOn936jsfw6GrVpdRXtqk9u25HHcYIPcEdiDxipqy7qN9Lun1C2UtbyHN3Coz/20Ueo7juPcc4L3lbqbv3XfoalFNjkSWNZImDowBVlOQR606sywooooAKKKKACiiigAooooAKKKKACiiigAooooAKKKKACiiigAooqK4uoLSIyXU0cKf3nYAUbhsS0Vnf2lPc8abZSSL/z2uMxJ+GRuP5Y96P7NnuedSvZJB/zxgzFH+h3H8Tj2q+W3xEc19iW41W0t5jDvMs//PGFS7/iB0+pwKi36pd/cjjsIz3kxJJ+QO0fm30q5b20FpEIrWGOFB/CigD9Kloulsgs3uzE0TToUv7+9cvNOZzGJZD82FUA9MAc7ugrbrP0fi3uQeou58/jISP0IrQrOMnJXYQSS0CudbxesGuWun6joup2EV7dNaWl7cCHyZ5ArMAAshkXcqMQWRenbIroq8s0z4Zapb65pF7eW2htc6dq0l7PrKs73uoRsJQFclMpgSL8u9x8owRtGWWep0UUUAZ+p/urvT7kdUn8pvdXBGP++tp/CtCs/WebSAD7xu7fH4SqT+gNaFQviZK3YUUUVZQUUUUAFFFFABRRRQAUUUUAFFFFABRRRQAUUUE4GTwKAGTTR20DzTuI441LMzHgCs+zhkvrpdRvUKBQfssDDmNT/Ew/vH9Bx60yIf23crO3/IOhbMKn/lu4/jP+yO3qefStatH7it1M17zv0CiiiszQrXWnWl4wa4hUyL92RSVdfow5H4Gq/wBl1G1/49LtblB/yyuxz+DqM/mDWjRVKTWhLinqZ39rpBxqUEtkf78g3R/99jgfjir6OkqB42V1YZDKcg06qD6PbBzJaGSylJyXtm2gn1K/dP4g0/dfkL3l5l+is7fqlp9+OO/jHeP93J/3yTtP5j6VLBq1pPMIS5hnP/LGdSjn6A9fqM0cj3Wo+ZdSqP8AiR3OOmmzPx6Wzk/+gE/kfY8a1NkjSaJo5VDo4KsrDIIPas20kfTLpNPuWLQPxaTMc/8AbNj6gdD3HuOX8av1J+B26GpRRVK41SOKc29vHJd3I+9FDj5P94kgL+Jz6Csm0ty27F2is8HWJeQtlbA9AxaUj6420E6xFztsrkDqFLRE/nuqefyFzGhRVK31SOScW9zHJaXB+7FNj5/90gkN+Bz7Vdqk09hpphRRRTGFUtYup7LRrq6tFR5oYy6q4JBxz2I7VdpssaywvG4yrKQRTTs7iaurHP614mew0KyvrONJXutrBGBOE27mPB7CrWp601reabDbBXW7LO7FS2I1XJIwevIrm9Bt21C+GmXIJTS4JoWz6uxA/wDHRRoU0s1zJNNH5jaPYNb7D3cM39FH512OnFX8v12/Q5FUk7ef6b/qX18VXwsYNUkhg+xTyhBEqnfgnGN+7BI9No6Ee9dbXmaaKdP0208TRSwzTs6yeRsGwknhVHY/rkV6WpyoJGMjp6VnXjFW5fP/AIb/AIJpRlJ/F5f1/wAAWiq91fWtkoN1OkZb7qk/M30HU/hVb7ZfXX/HjZ+Un/Pa7yv5IPmP47awUW9TZyS0NGqEmsWwkaK133kynBjtl3YPoW+6v4kU3+yBcc6ncSXn/TM/JF/3wOv/AALNX440hjEcSKiKMBVGAPwp+6vMXvPyKGzVLv8A1kkdhGf4Yv3kn/fRG0fkfrUtvpVpbyiYRmWf/ntMxd/wJ6fQYFXKKOd7LQfKt2FFFFQUFFFFAGdZHyNXvrY8CQrcx/Rhtb9Vz/wKtGqGpwS/ury0TfcWpJCD/loh+8n48Ee4FWra5iu7ZJ7dt8cgyp/z3qI6PlJWmhLRRRVlBRRUdxcRWltJPcNsjjGWNGwFK9/f6tYWo5CM1y49lG1f/HmB/wCA1o1Q0yCU+be3abJ7kg7D1jQfdT68kn3Jq/UR79yV3CiiirKCiiigAooooAKKKKACsfXr+406fTZonxbvciK4XAOVbgHOMjB9K2KyfE9mb3w3eRqPnVN6fVeR/Krp251fYipfldije67cQeM7ezVwLHCxTDA/1jhivOM9h+dRX3iO6tdS1TycSx2/lW9vEcYaZ+5PXjPTPas+GKXUvCeoaztIuJJxdRewjxj9FNRG1a78MJqb+YFm1L7XKUzuEe4jjHPA5rsUILdbafP+ro5HOb2e+vy/rU6zSoNSjJfUrsz7lHy4QBT7AKD+ZNaVcnpqWEHiyBfD0iPbPbuboQMDHnPy5xxu6++K6yuSorP+kdVN3X9MKyrhjrFy9nESLKJttzID/rW/55g+n94/h64ffXEtzc/2dYOUkIBuJl/5YIfT/aPb06+mb1vbxWlukFugSOMYVR2oXuK/UH7zt0HqoRQqgKoGAAOAKWs+LVRJr8+lvFsaOFZkfdneCcHjHGD71DpOvR6rfX9skXl/Y5NobdnzBkjPTjlTS9nK1x88b2NaiuYk8YSGztprPTDcyXU0iRRifblU/iyV7+n61s6RfXWoWRmvbE2Mm8gRmQPkeuQBTlTlFXf6CjUjJ2ReooorM0CiiigAqOe3huoTFcxJNGeqyKGB/A1JVa51Kzs2C3NxGjnpHnLN9FHJpq7egna2pX/syW35028kgHaKX97H+ROR+BAqG7llktXt9YsHaJus1oTIFPZsffUg88A49an/ALQup/8Ajx0+QjtJcnyV/Llv/HRUF6l7FYzXN/fMqRoW8mzQJu/2dxycnpxitb21n/wfw/Uydre7/wAD+vQqWeqXGpSHS4LlWkjGZb2PHzR9sD+FznBB6YJ7it22tYbO3WG2jEaL2Hc+pPc+9VtK01bC1UyKrXTjdNNjLOxOTz1xnp7AVerF2b5rFQTS97cKKKKDQiubWG8gaG5jEkbdj2PqD2PvVO0nmtLsWF7IZdwJt526yAdVb/aH6jnsa0aqalaNeWLJEQkyESQuf4XXkH6dj7E1El9pbktdUW6KgsroXtjDcqpXzUDFT1U9x+B4qeqTurooKKKq3Op2lpII5ZcynkQxgu5+ijJqkm9EJtLcdBY29tcTzwRKkk5BkYDliPWkisrSzNxLHGkfnHfM3TcfU1X8/U7v/j3t0soz/wAtLn53/BFOPzb8KVdHgdg9+8l84OR55yoPsgwo/LPvV2t8TJvf4UZcVroy332jSdO+23AYkSQoNgPr5h4/Ik+1af2bUbv/AI+7pbWM/wDLK15b8XYfyA+taIAAAAwB0Aooc+3+YlDuVrXTrSyYtbwqJG+9IxLO31Y8n8TVmiiobb1ZaSWiCiiikMKKKKACiiigAooooAKzpbKe1uHudL2ZkO6a2c4SQ/3gf4W9+h7+taNFS4piauUI9ZtC4juWazmP/LK5Gwk+xPDfgTVzzo/L3+Yuz+9uGPzpZI0lQpKiup6qwyDVT+xdL8zf/Ztnv/veQuf5UvfQveGy6zaK5jtma8mH/LK2G859yOF/EimxWU93cJc6ps/dndDbIcrGf7xP8TfoO3rV+ONIkCRIqKOiqMAU6jlb+ILX3CiiirKCiiigAooooAKKKKACiiigAoIBBB5BoooAYsMaQ+UiAJjG0DigQxrD5QRfLxjbjin0UARQ2sNvnyYlTPXAqtqF7JEyWtkFe8nB2A9EXu7ew/U8VJf3y2MIIQyzSNshhU8yN6f1J7Cm6fYtbK81y4lu5yDNIOnsq+ijsPx6mriklzMhu75USWNlHY23lIWdiS0kjfekY9WPv/8AqqxRRUttu7KSSVkcx4mn/sjWLHV8fKI5YJPfKllH5iseQP4csrK853XOnyxOf+mhG9f1JFdlqulW2sWf2a8UtGGDjBxgik1LSLXVbaKC6TKROHXBxgiuiFaKSTXr/XzOeVKTba+X9fIx4PDk40/SWtbprWazhIBUKeWA3cEEVc0C/vJ7m/sdQdZZLORQJgoG8MM4OOMj2A+lWNT0uK7dLiS7ntfKUqWinaMY98EVW0+407T4Gh0mOa+ZnLu8Kl97HqTIflz9TU8znF9f017lWUZLp+vyNuis/OrXP3Vt7FPViZX/ACGAD+Jo/saGXm/mnvT3WZ8J/wB8LhT+INZ8qW7NOZvZD5dYso5DEs3nyjrFbqZGH1C5x+NM+06lcf8AHtZJbL/funyf++Fz+rCrsUMcEYjgjSNB0VFAA/AU+i8VsgtJ7sz/AOzJZ/8Aj/v55h3jiPkp/wCO/N+bGrNrY2tkpFpbxw567FAJ+p71PRScpPQailqFZ+r/ADpZwH7s13GCPULl/wD2WtCs/Vfll0+Tsl2v6qy/+zVlP4QlsaFFFFWUeSeB9a13Q/CHhqaRtPfSb7VZLA2wgf7QvmTTBZPN37fvAfLs6Z+bNaeqaLo8PxC0ay8KWEceuxXn9o6pqCZMkdqd+5ZpTln8wkKsbE8DIACCukg8D6bb6DpWkpPdGDS75b6Fi67mkEjPhjtwVyx6AHGOaq6T4CfRL+6udP8AFOtoLy7N3cxulo4mYnkM7QF9uAFA3cAAAigDrqKKKAMvTporSG+WeRIooLt/mdgAobD9T/v0/wDtVrjjTLSS59JX/dxf99Hk/wDAQah0+xtbjUr+9lgSSX7UQjMM7dqIvGehyp5Fa9FNxUe5mlJozvsF3dc6hesqn/lja5jX8W+8fwI+lWrWztrKMpawJEDydq4LH1J7mp6Kpyb0KUUtQoooqSgooooAKKKKACiiigAooooAKKKKACiiigAooooAKKKKACiiigAooooAKKKKACiiigAooooAKKR3WNC7sFVRksTgAVn/ANtW0h/0NJ7wf3reIsv/AH190/galyS3E2kaNFZ/9quvMmmXyD12K36KxNTWupWl65S3mBkUZaJgVdfqpwR+VCnFuwcyLVQ3d1FZWrz3DYRfQZJPYAdyTwBUkkiRRtJKwREBZmY4AA71m2kb6pdJqFyhWCM5tIWGP+2jD1PYdh7njWK6vYUn0W5JYWsrznUNQXFzIu2OPORAn90e57n8OgFaFVbnUrOzYJcXCLIekYOXP0Ucn8qh+33c/wDx46dJjtJdN5S/ly35gU2pS1JTjHQ0KiuLu3tI/Mup44U/vSOFH61T+xX1x/x+agyL/wA87RPLH4sct+WKmt9LsrWTzIbdfN7yvl3P/Amyf1pWit2O8nsiH+1jNxp9ncXP+2V8tPzbGR9AaXydUuf9dcw2a/3bdd7f99sMf+O1oUUcyWyDlb3ZQTRbIOJJ0a6kHIe5YyYPsDwPwAq+BgYHAooqXJvcpRS2CiiikMKKKKACiiigAqpqls91pk0cOPOADxZ/vqQy/qBVuik1dWE9VYhtLlLyziuIs7JFDAHqPY+46VNWUzf2PeuznFhcuWLdoJCec+isec9j9a1aUXfR7gmFFFFUMKiu7mOztJbibOyNSxx1PsPepayg39sXqFDmwtnDbu08gPGPVVPOe5x6VMnbRbibLWlW72umQpOAJmBklx/fYlm/UmrdFFNKysC0VgooopjCiiigAooooAKKKKACiiigAooooAKKKKACiiigAooooAKKKKACiiigAooooAKKKKACiiigAqG7u47K2aabOAQAqjLMTwFA7kmpqzIV/tDV5Lh+bezYxQjsZP43/D7o/wCBVMm1otxNix6fJfMJ9XAbndHaA5jj9M/3m9zwO3rWl06UUUKKQJWCq93Y296iidMspykina6H1VhyKsUU2k1Zj3Obv4tTa9tbC5mhe2ZiUllU4mYcqrgYyRgnHAbHtitT+y5J/wDj/vricd44z5KfkvP5k1avLSO9tXgmztbowOCpHIYHsQeah0u5kuLPbc4+0wsYp8D+Id/oRhh7EU1UlG0PuMuRc2pLbWVrZKVtLeOEHrsUDP19anooptt6s0SS2CiiikMKKKKACiiigAooooAKKKKACiiigAooooARlV1KuoZWGCCMgis0Wd3p/wDyDHWa3/59Z3I2f7j4JA9jkehFadFS4piauZ41bZxdWF7Cw64hMo/NM5oOr7+LWwvZmPTMBiH5vjFaFFK0u4rPuZhs7zUMjUnWC3PW2gcnf/vvgcewx9TWkqqiBEUKqjAUDAApaKaikNKwUUUVQwooooAKKKKACiiigAooooAKKKKACiiigAooooAKKKKACiiigAooooAKKKKACiiigAooooAKKKKAI7iYW9tLMwyI0LkfQZqvpEJg0e2RjlzGHc+rN8zH8yaNYUtod8q/eNtIB9dpqxbsGtomT7pQEfTFR9sn7RJXMa3480zw9qF7Z6rb3kM0FstxagRq39o7mCbLfDZZw7IhVtpy6noc109cL4t8H654m13+0Ir21sv7HjWXQgGZ913nLyTjaMLgeWFUt8rM3XaBZQ3xte69o2hXfia31y4s3iSE2ehm1gZZZDt/cSth3d3YlcxuoGRjOCzd2pJQFhtJHIznFcBfaJ4yvvG0Ot3um6HfWtlCn9nWT6tNEltMV/eyt/ozeY+SVVvlwo+6CxrvYjIYUM6qkpUb1Rtyg9wCQMj3wPpQA+s+L9z4inQfduIFlx/tKdpP5FfyrQrPk58S22P4bSbd+Lx4/kaifRks0KKKKsoKKKKACiiigAooooAKKKKACiiigAooooAKKKKACiiigAooooAKKKKACiiigAooooAKKKKACiiigAooooAKKKKACiiigAooooAKKKKACiiigAooooAKKKKACiiigAooooAKKKKAGuiyRsjjKsCCPUVS0WRm0qKKQ5lt8wSZ65Q7c/iAD+NX6zLhv7M1I3Z4tbnak5/55uOFc+xGFP0X3qJaNSJejuadFFFWUFFFFABWdaf6RrV7cDlYVS2X6j5m/wDQgP8AgNS6jeNawqkCiS6mOyCM929T7DqTUljaLY2UcCsXKjLOersTlmPuSSfxqHrK3YndliiiirKCiiigAooooAKKKKACiiigAooooAKKKKACiiigAooooAKKKKACiiigAooooAKKKKACiiigAooooAKKKKACiiigAooooAKKKKACiiigAooooAKKKKACiiigAooooAKKKKACiiigApHRZI2SRQ6MMMrDII9KWigDLWO60kbYEa7sh0jBzLCPQZ+8vt1Hv0qxBq1jcMVjuUWQdY5PkcfVWwR+VXKintoLlQLmCOYDoJEDfzqOVr4SbNbCyXEMK7ppUjX1ZgKonV1uPk0mI3jn/loMrCvuXxg/Rcmpo9H0yFt0WnWiH1WBR/SrnTpR7z8g1KdnYGCRrm5k8+7kGGkxgKP7qjsv8+9XKKKpJJWQ0rBRRRTGFFFFABRRRQAUUUUAFFFFABRRRQAUUUUAFFFFABRRRQAUUUUAFFFFABRRRQAUUUUAFFFFABRRRQAUUUUAFFFFABRRRQAUUUUAFFFFABRRRQAUUUUAFFFFABRRRQAUUUUAFFFFABRRRQAUUUUAFFFFABRRRQAUUUUAFFFFABRRRQAUUUUAFFFFABRRRQAUUUUAFFFFABRRRQAUUUUAFFFFABRRRQAUUUUAFFFFABRRRQAUUUUAFFFFABRRRQAUUUUAFFFFABRRRQAUUUUAFFFFABRRRQAUUUUAf//Z)\n",
        "\n"
      ],
      "metadata": {
        "id": "xiq8T7AsVOBi"
      }
    },
    {
      "cell_type": "markdown",
      "source": [
        "### Separating feature values from labels"
      ],
      "metadata": {
        "id": "eDhseI6GbSVu"
      }
    },
    {
      "cell_type": "code",
      "execution_count": null,
      "metadata": {
        "id": "GFlEMtARUD78"
      },
      "outputs": [],
      "source": [
        "data_np = data.to_numpy()\n",
        "X = data_np[:,[1,2,3]]\n",
        "y = data_np[:,4]\n",
        "X = X.T\n",
        "y = y.reshape((1, len(y)))\n",
        "\n",
        "print(f'X:\\n {X}')\n",
        "print(f'y:\\n {y}')"
      ]
    },
    {
      "cell_type": "markdown",
      "source": [
        "### Weight Initialization\n",
        "At first, we will consider random weights. We will store the weights values for input layer and hidden layer in matrix `W1`. Weight values for hidden layer and output layer will be stored in matrix `W2`.<br>\n",
        "Since, there are 3 input units and 2 hidden units, the dimension of matrix `W1` will be 3 × 2. For the same reason, dimension of matrix `W2` will be 2 × 1."
      ],
      "metadata": {
        "id": "9IvSyAhobcjn"
      }
    },
    {
      "cell_type": "code",
      "source": [
        "number_of_neurons_in_input_layer = len(X)\n",
        "number_of_neurons_in_hidden_layer = 2\n",
        "number_of_neurons_in_output_layer = 1\n",
        "\n",
        "W1 = np.random.random((number_of_neurons_in_hidden_layer, number_of_neurons_in_input_layer))\n",
        "W2 = np.random.random((number_of_neurons_in_output_layer, number_of_neurons_in_hidden_layer))\n",
        "\n",
        "print(f'W1:\\n {W1}')\n",
        "print(f'W2:\\n {W2}')"
      ],
      "metadata": {
        "id": "1nhmu5s_aHUV"
      },
      "execution_count": null,
      "outputs": []
    },
    {
      "cell_type": "markdown",
      "source": [
        "## Forward Propagation\n",
        "At first, we will calculate the weighted sum by multiplying `X` with `W1`. Let this result be `Z1`.<br>\n",
        "$$z^{[1](i)} = \\sum_{j=1}^{n} x_j^{(i)}w_{j}^{[1]}$$"
      ],
      "metadata": {
        "id": "4PkeffiRdqZn"
      }
    },
    {
      "cell_type": "code",
      "source": [
        "Z1=np.dot(W1, X)\n",
        "print(f'Z1:\\n {Z1}')"
      ],
      "metadata": {
        "id": "HIfNY230bnFN"
      },
      "execution_count": null,
      "outputs": []
    },
    {
      "cell_type": "markdown",
      "source": [
        "$Z^{[1]}$ is the value of hidden layer. To keep this value between 0 and 1, we will pass it through a `sigmoid` function and calculate `A1`.<br>\n",
        "$$sigmoid = \\frac{1}{1+e^{-Z^{[1]}}}$$"
      ],
      "metadata": {
        "id": "hZ1ebmhkg-oD"
      }
    },
    {
      "cell_type": "code",
      "source": [
        "def sigmoid(x):\n",
        "    return (1/(1+np.exp(-x.astype(float))))"
      ],
      "metadata": {
        "id": "liZOIhKfbnH0"
      },
      "execution_count": null,
      "outputs": []
    },
    {
      "cell_type": "code",
      "source": [
        "A1 = sigmoid(Z1)\n",
        "print(f'A1:\\n {A1}')"
      ],
      "metadata": {
        "id": "zwCg2aR2bnKW"
      },
      "execution_count": null,
      "outputs": []
    },
    {
      "cell_type": "markdown",
      "source": [
        "Now we'll calculate the value of output layer by multiplying the value of hidden layer `A1` with `W2`. Then, we'll pass the resultant value through a sigmoid function which in turn will return us the final value `A2`.<br>\n",
        "$$z^{[2](i)} = \\sum_{j=1}^{n} a_{j}^{[1](i)}w_{j}^{[2]}$$<br>\n",
        "$$A^{[2]} = sigmoid(Z^{[2]})$$\n"
      ],
      "metadata": {
        "id": "QXlcVF1npemb"
      }
    },
    {
      "cell_type": "code",
      "source": [
        "Z2=np.dot(W2,A1)\n",
        "A2=sigmoid(Z2)\n",
        "print(f'A2:\\n {A2}')"
      ],
      "metadata": {
        "id": "XgYT7GbBtN03"
      },
      "execution_count": null,
      "outputs": []
    },
    {
      "cell_type": "markdown",
      "source": [
        "But, this is not our final output. We'll calculate the `error` from the difference between our ground truth `y` and `A2`.<br>\n",
        "$$error = L= \\frac{1}{2} (A^{[2]}-y)^2$$"
      ],
      "metadata": {
        "id": "4YXskI5Ptm8K"
      }
    },
    {
      "cell_type": "code",
      "source": [
        "L = (0.5*(np.power((A2-y),2)))\n",
        "print(f'error:\\n {L}')"
      ],
      "metadata": {
        "id": "FnXsQI2zva_s"
      },
      "execution_count": null,
      "outputs": []
    },
    {
      "cell_type": "markdown",
      "source": [
        "## Back Propagation"
      ],
      "metadata": {
        "id": "oXEm4xtpsTfX"
      }
    },
    {
      "cell_type": "markdown",
      "source": [
        "### Updating `W2`\n",
        "Back Propagation will start now. This means that in order to minimize the error that we have received, we will repeatedly update the weights of the `W1` and `W2` matrix back from the output layer and calculate the error. In this way we can reduce the error a lot at a time and predict the value which will be closer to the actual output.<br>\n",
        "\n",
        "So first we will find out how much change in the weights of `W2` will reduce our error. We will deduct the value of $\\frac {dL}{dW^{[2]}}$ from $W^{[2]}$.<br>\n",
        "$$W^{[2]} = W^{[2]} - learningRate×\\frac{dL}{dW^{[2]}}$$.<br>\n",
        "From the chain rule of calculus, we can calculate the value of $\\frac {dL}{dW^{[2]}}$ as follows,<br>\n",
        "\n",
        "$$\\frac {dL}{dW^{[2]}} = \\frac {dL}{dZ^{[2]}} × \\frac {dZ^{[2]}}{dW^{[2]}}$$<br>\n",
        "$$\\frac {dL}{dW^{[2]}} = \\frac {dL}{dA^{[2]}} × \\frac {dA^{[2]}}{dZ^{[2]}} × \\frac {dZ^{[2]}}{dW^{[2]}}$$<br>\n",
        "$$\\frac {dL}{dA^{[2]}} = \\frac{d}{dA^{[2]}}(\\frac{1}{2} (A^{[2]}-y)^2)=A^{[2]}-y$$<br>\n"
      ],
      "metadata": {
        "id": "bQQq5wTOvoZL"
      }
    },
    {
      "cell_type": "code",
      "source": [
        "dA2 = A2-y\n",
        "print(f'dA2:\\n {dA2}')"
      ],
      "metadata": {
        "id": "rYCaVqiU2iIF"
      },
      "execution_count": null,
      "outputs": []
    },
    {
      "cell_type": "markdown",
      "source": [
        "Now, the second therm which is needed to calculate $\\frac {dL}{dW^{[2]}}$ is basically the derivative of the `sigmoid` function.<br>\n",
        "$\\frac{dA^{[2]}}{dZ^{[2]}} = \\frac{d}{dZ^{[2]}}(\\frac{1}{1+e^{-Z^{[2]}}})$<br>\n",
        "$\\frac{dA^{[2]}}{dZ^{[2]}} = \\frac{d}{dZ^{[2]}}({1+e^{-Z^{[2]}}})^{-1}$<br>\n",
        "$\\frac{dA^{[2]}}{dZ^{[2]}} = (-1)({1+e^{-Z^{[2]}}})^{-2}(-e^{-Z^{[2]}})$<br>\n",
        "....<br>....<br>\n",
        "$\\frac{dA^{[2]}}{dZ^{[2]}} =\\frac{1}{1+e^{-Z^{[2]}}}×(1-\\frac{1}{1+e^{-Z^{[2]}}}) = sigmoid(Z^{[2]})×(1-sigmoid(Z^{[2]}))=A^{[2]}×(1-A^{[2]})$"
      ],
      "metadata": {
        "id": "KmvyjNvc4EpE"
      }
    },
    {
      "cell_type": "code",
      "source": [
        "def sigmoid_derivative(x):\n",
        "    return x*(1-x)\n",
        "dA2Z2 = sigmoid_derivative(A2)\n",
        "print(f'dA2Z2:\\n {dA2Z2}')"
      ],
      "metadata": {
        "id": "px92HzlCaa9W"
      },
      "execution_count": null,
      "outputs": []
    },
    {
      "cell_type": "markdown",
      "source": [
        "The last term,<br>\n",
        "$$\\frac{dZ^{[2]}}{dW^{[2]}} = \\frac{d}{dW^{[2]}}(A^{[1]}×W^{[2]}) = A^{[1]}$$<br>\n",
        "Now, we have all the necessary information to calculate $\\frac {dL}{dW^{[2]}}$"
      ],
      "metadata": {
        "id": "zx9kODXbb9en"
      }
    },
    {
      "cell_type": "code",
      "source": [
        "dW2 = np.dot((dA2*dA2Z2), A1.T)\n",
        "print(f'dW2:\\n {dW2}')"
      ],
      "metadata": {
        "id": "erfBf0zXc3b4"
      },
      "execution_count": null,
      "outputs": []
    },
    {
      "cell_type": "markdown",
      "source": [
        "Now, we'll update the weight values of `w2` by subtracting $\\frac{dEa_o}{dw_2}$ from `w2`. But, for faster convergence, we'll multiply $\\frac{dEa_o}{dw_2}$ by `learning_rate = 3`."
      ],
      "metadata": {
        "id": "NtI8tqmdg1AT"
      }
    },
    {
      "cell_type": "code",
      "source": [
        "learning_rate = 3\n",
        "W2 = W2 - learning_rate*dW2\n",
        "print(f'W2:\\n {W2}')"
      ],
      "metadata": {
        "id": "AmwBH3Y_hfGE"
      },
      "execution_count": null,
      "outputs": []
    },
    {
      "cell_type": "markdown",
      "source": [
        "### Updating `W1`\n",
        "Now we will go one more step backward. The updated value of `W1` will be, $$W^{[1]} = W^{[1]} - learningRate×\\frac{dL}{dW^{[1]}}$$<br>\n",
        "Now, using chain rule as before, we will calculate the value of $\\frac{dL}{dW^{[1]}}$.<br>\n"
      ],
      "metadata": {
        "id": "ilbzTThZiWhp"
      }
    },
    {
      "cell_type": "markdown",
      "source": [
        "$$\\frac{dL}{dW^{[1]}} = \\frac{dL}{dZ^{[1]}}×\\frac{dZ^{[1]}}{dW^{[1]}}$$\n",
        "$$\\frac{dL}{dW^{[1]}} = \\frac{dL}{dA^{[1]}}×\\frac{dA^{[1]}}{dZ^{[1]}}×\\frac{dZ^{[1]}}{dW^{[1]}}$$\n",
        "Since, there is no direct relationship between $dL$ and $dA^{[1]}$, we have to break them again using chain rule as follows.\n",
        "$$\\frac{dL}{dA^{[1]}} = \\frac{dL}{dZ^{[2]}}×\\frac{dZ^{[2]}}{dA^{[1]}} = \\frac{dL}{dA^{[2]}}×\\frac{dA^{[2]}}{dZ^{[2]}}×\\frac{dZ^{[2]}}{dA^{[1]}}$$\n",
        "But, we have already calculated the value of $\\frac{dL}{dA^{[2]}}×\\frac{dA^{[2]}}{dZ^{[2]}}$ while updating `W2`. So,\n",
        "$$\\frac{dZ^{[2]}}{dA^{[1]}} = \\frac{d}{dA^{[1]}}(A^{[1]}×W^{[2]}) = W^{[2]}$$"
      ],
      "metadata": {
        "id": "WBKUIrkujPxr"
      }
    },
    {
      "cell_type": "code",
      "source": [
        "dZ2 = dA2*dA2Z2\n",
        "dA1 = np.dot(W2.T, dZ2)\n",
        "print(f'dA1:\\n {dA1}')"
      ],
      "metadata": {
        "id": "ASx8-jW-mPkl"
      },
      "execution_count": null,
      "outputs": []
    },
    {
      "cell_type": "markdown",
      "source": [
        "We have successfully calculated the value of $\\frac{dL}{dA^{[1]}}$. As it is the derivative of sigmoid, $$\\frac{dA^{[1]}}{dZ^{[1]}} = A^{[1]}\\times(1-A^{[1]})$$"
      ],
      "metadata": {
        "id": "DKosFkQInCIp"
      }
    },
    {
      "cell_type": "code",
      "source": [
        "dA1Z1 = sigmoid_derivative(A1)\n",
        "print(f'dA1Z1:\\n {dA1Z1}')"
      ],
      "metadata": {
        "id": "tTSB98qynnzD"
      },
      "execution_count": null,
      "outputs": []
    },
    {
      "cell_type": "markdown",
      "source": [
        "Now, for the last term to calculate $\\frac{dL}{dW^{[1]}}$,$$\\frac{dZ^{[1]}}{dW^{[1]}} = \\frac{d}{dW^{[1]}}(X×W^{[1]}) = X$$"
      ],
      "metadata": {
        "id": "26bA2etbj7x-"
      }
    },
    {
      "cell_type": "code",
      "source": [
        "dW1 = np.dot(dA1*dA1Z1, X.T)\n",
        "print(f'dW1:\\n {dW1}')"
      ],
      "metadata": {
        "id": "Jn761PWHotVC"
      },
      "execution_count": null,
      "outputs": []
    },
    {
      "cell_type": "markdown",
      "source": [
        "Now, we'll update the weight values of `W1` by subtracting $\\frac{dL}{dW^{[1]}}$ from `W1`."
      ],
      "metadata": {
        "id": "OGdMLx2ppu1l"
      }
    },
    {
      "cell_type": "code",
      "source": [
        "W1 = W1-learning_rate*dW1\n",
        "print(f'W1:\\n {W1}')"
      ],
      "metadata": {
        "id": "tiX97IrUp3W6"
      },
      "execution_count": null,
      "outputs": []
    },
    {
      "cell_type": "markdown",
      "source": [
        "# Prediction"
      ],
      "metadata": {
        "id": "davy_VOCqR23"
      }
    },
    {
      "cell_type": "code",
      "source": [
        "def predict(X,W1,W2):\n",
        "  Z1 = np.dot(W1, X)\n",
        "  A1 = sigmoid(Z1)\n",
        "  Z2 = np.dot(W2, A1)\n",
        "  A2 = sigmoid(Z2)\n",
        "  return A2"
      ],
      "metadata": {
        "id": "a45S17lptzxm"
      },
      "execution_count": null,
      "outputs": []
    },
    {
      "cell_type": "code",
      "source": [
        "prediction = predict(X, W1, W2)\n",
        "\n",
        "print(f'prediction probabilities:\\n {prediction}')\n",
        "print(f'prediction:\\n {np.round(prediction)}')"
      ],
      "metadata": {
        "id": "qq38OHjbqXkw"
      },
      "execution_count": null,
      "outputs": []
    },
    {
      "cell_type": "markdown",
      "source": [
        "# Training\n",
        "Let's run for 500 epochs and check whether the loss decreases or not. In the mean time, the prediction should get better."
      ],
      "metadata": {
        "id": "nD8La09qqwd9"
      }
    },
    {
      "cell_type": "code",
      "source": [
        "data_np = data.to_numpy()\n",
        "X = data_np[:,[1,2,3]]\n",
        "y = data_np[:,4]\n",
        "X = X.T\n",
        "y = y.reshape((1, len(y)))\n",
        "\n",
        "W1 = np.random.random((2, 3))\n",
        "W2 = np.random.random((1, 2))\n",
        "\n",
        "epochs = 50\n",
        "learning_rate = 3\n",
        "\n",
        "for i in range(0, epochs):\n",
        "    Z1 = np.dot(W1, X)\n",
        "    A1 = sigmoid(Z1)\n",
        "    Z2 = np.dot(W2, A1)\n",
        "    A2 = sigmoid(Z2)\n",
        "    L = (0.5 * (np.power((A2 - y), 2)))\n",
        "    print(f'Error in epoch {i+1}: {np.sum(L)}')\n",
        "\n",
        "\n",
        "    dA2 = A2 - y\n",
        "    dA2Z2 = sigmoid_derivative(A2)\n",
        "    dW2 = np.dot((dA2 * dA2Z2), A1.T)\n",
        "    W2 = W2 - learning_rate * dW2\n",
        "\n",
        "    dZ2 = dA2 * dA2Z2\n",
        "    dA1 = np.dot(W2.T, dZ2)\n",
        "    dA1Z1 = sigmoid_derivative(A1)\n",
        "    dW1 = np.dot((dA1 * dA1Z1), X.T)\n",
        "    W1 = W1 - learning_rate * dW1\n",
        "\n",
        "prediction = predict(X, W1, W2)\n",
        "\n",
        "print(f'prediction probabilities:\\n {prediction}')\n",
        "print(f'prediction:\\n {np.round(prediction)}')"
      ],
      "metadata": {
        "id": "QUbD7hcxrFhI"
      },
      "execution_count": null,
      "outputs": []
    }
  ]
}