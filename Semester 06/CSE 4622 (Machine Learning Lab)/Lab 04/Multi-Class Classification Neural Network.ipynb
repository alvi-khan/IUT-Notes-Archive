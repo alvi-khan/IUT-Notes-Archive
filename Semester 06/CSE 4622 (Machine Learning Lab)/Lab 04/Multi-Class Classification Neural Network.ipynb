{
  "nbformat": 4,
  "nbformat_minor": 0,
  "metadata": {
    "colab": {
      "name": "Multi-Class Classification Neural Network",
      "provenance": [],
      "collapsed_sections": []
    },
    "kernelspec": {
      "name": "python3",
      "display_name": "Python 3"
    },
    "language_info": {
      "name": "python"
    }
  },
  "cells": [
    {
      "cell_type": "markdown",
      "source": [
        "# Pre-processing"
      ],
      "metadata": {
        "id": "gIemw3C1Izj6"
      }
    },
    {
      "cell_type": "code",
      "source": [
        "# importing libraries\n",
        "\n",
        "import numpy as np\n",
        "import pandas as pd\n",
        "import plotly.graph_objects as go"
      ],
      "metadata": {
        "id": "XEp-DKxmDukE"
      },
      "execution_count": null,
      "outputs": []
    },
    {
      "cell_type": "code",
      "source": [
        "# importing dataset\n",
        "\n",
        "!gdown --id -q 1N_iNvJ8zXfCiSb5t3IqjH1JMDcHUEYnj\n",
        "data = pd.read_csv(\"Iris.csv\")\n",
        "data.head()"
      ],
      "metadata": {
        "id": "GzPgwix1ENK5"
      },
      "execution_count": null,
      "outputs": []
    },
    {
      "cell_type": "code",
      "source": [
        "# checking for null values and 0 values\n",
        "\n",
        "print(data.isnull().sum())\n",
        "print(data[data == 0].count())"
      ],
      "metadata": {
        "id": "9e_FcbAIEWl9"
      },
      "execution_count": null,
      "outputs": []
    },
    {
      "cell_type": "code",
      "source": [
        "# convert output column\n",
        "\n",
        "data = pd.read_csv(\"Iris.csv\")\n",
        "dummies = pd.get_dummies(data[\"Species\"])\n",
        "data[\"Species\"] = dummies.values.tolist()\n",
        "print(data[\"Species\"])"
      ],
      "metadata": {
        "id": "k6tVOnLmRQQF"
      },
      "execution_count": null,
      "outputs": []
    },
    {
      "cell_type": "code",
      "source": [
        "# shuffling data\n",
        "\n",
        "shuffled_data = data.sample(frac=1, random_state=1).reset_index(drop=True)\n",
        "print(shuffled_data)"
      ],
      "metadata": {
        "id": "XAnOspAb47LH"
      },
      "execution_count": null,
      "outputs": []
    },
    {
      "cell_type": "code",
      "source": [
        "# splitting input and output\n",
        "\n",
        "X = shuffled_data.drop([\"Id\", \"Species\"], axis=1).values\n",
        "Y = np.vstack(shuffled_data[\"Species\"].tolist())"
      ],
      "metadata": {
        "id": "Ja09fiNR4-eM"
      },
      "execution_count": null,
      "outputs": []
    },
    {
      "cell_type": "code",
      "source": [
        "# normalizing input\n",
        "\n",
        "X = (X - X.min(axis = 0)) / (X.max(axis = 0) - X.min(axis = 0))"
      ],
      "metadata": {
        "id": "4fdzPxJU5Dv_"
      },
      "execution_count": null,
      "outputs": []
    },
    {
      "cell_type": "code",
      "source": [
        "# creating training, validation and test sets\n",
        "\n",
        "X_train = X[0:90].T\n",
        "Y_train = Y[0:90].T\n",
        "X_val = X[90:120].T\n",
        "Y_val = Y[90:120].T\n",
        "X_test = X[120:150].T\n",
        "Y_test = Y[120:150].T"
      ],
      "metadata": {
        "id": "jyBnUjrDEexN"
      },
      "execution_count": null,
      "outputs": []
    },
    {
      "cell_type": "markdown",
      "source": [
        "# Model"
      ],
      "metadata": {
        "id": "8kBc8IzOI58K"
      }
    },
    {
      "cell_type": "code",
      "source": [
        "def weight_init(X, Y):\n",
        "  W1 = np.random.randn(h1, X.shape[0]) * 0.01\n",
        "  W2 = np.random.randn(h2, h1) * 0.01\n",
        "  W3 = np.random.randn(Y.shape[0], h2) * 0.01\n",
        "  b1 = np.zeros((h1, 1))\n",
        "  b2 = np.zeros((h2, 1))\n",
        "  b3 = np.zeros((Y.shape[0], 1))\n",
        "  params = {\"W1\": W1, \"W2\": W2, \"W3\": W3, \"b1\": b1, \"b2\": b2, \"b3\": b3}\n",
        "  return params"
      ],
      "metadata": {
        "id": "ehFzfwoMGI0C"
      },
      "execution_count": null,
      "outputs": []
    },
    {
      "cell_type": "code",
      "source": [
        "def relu(X):\n",
        "  return np.maximum(0, X)"
      ],
      "metadata": {
        "id": "eMHsijfLq62w"
      },
      "execution_count": null,
      "outputs": []
    },
    {
      "cell_type": "code",
      "source": [
        "def relu_derivative(X):\n",
        "  X[X <= 0] = 0\n",
        "  X[X > 0] = 1\n",
        "  return X"
      ],
      "metadata": {
        "id": "8F7eNM2JrEi0"
      },
      "execution_count": null,
      "outputs": []
    },
    {
      "cell_type": "code",
      "source": [
        "def sigmoid(X):\n",
        "  exp = np.exp(-X.astype(float))\n",
        "  return (1 / (1 + exp))"
      ],
      "metadata": {
        "id": "l4JrJPhUI48P"
      },
      "execution_count": null,
      "outputs": []
    },
    {
      "cell_type": "code",
      "source": [
        "def sigmoid_derivative(X):\n",
        "  return X * (1 - X)"
      ],
      "metadata": {
        "id": "MCNLn_A6MK4v"
      },
      "execution_count": null,
      "outputs": []
    },
    {
      "cell_type": "code",
      "source": [
        "def forward_prop(X, params):\n",
        "  Z1 = np.dot(params[\"W1\"], X) + params[\"b1\"]\n",
        "  A1 = relu(Z1)\n",
        "  Z2 = np.dot(params[\"W2\"], A1) + params[\"b2\"]\n",
        "  A2 = relu(Z2)\n",
        "  Z3 = np.dot(params[\"W3\"], A2) + params[\"b3\"]\n",
        "  A3 = sigmoid(Z3)\n",
        "  cache = {\"Z1\": Z1, \"Z2\": Z2, \"Z3\": Z3, \"A1\": A1, \"A2\": A2, \"A3\": A3}\n",
        "  return cache"
      ],
      "metadata": {
        "id": "FfCFJbStIrzh"
      },
      "execution_count": null,
      "outputs": []
    },
    {
      "cell_type": "code",
      "source": [
        "def back_prop(X, Y, params, cache):\n",
        "  m = X.shape[1]\n",
        "  \n",
        "  dZ3 = cache[\"A3\"] - Y\n",
        "  dW3 = np.dot(dZ3, cache[\"A2\"].T) / m\n",
        "  db3 = np.sum(dZ3, axis=1, keepdims=True) / m\n",
        "\n",
        "  dZ2 = np.dot(params[\"W3\"].T, dZ3) * relu_derivative(cache[\"A2\"])\n",
        "  dW2 = np.dot(dZ2, cache[\"A1\"].T) / m\n",
        "  db2 = np.sum(dZ2, axis=1, keepdims=True) / m\n",
        "  \n",
        "  dZ1 = np.dot(params[\"W2\"].T, dZ2) * relu_derivative(cache[\"A1\"])\n",
        "  dW1 = np.dot(dZ1, X.T) / m\n",
        "  db1 = np.sum(dZ1, axis=1, keepdims=True) / m\n",
        "  \n",
        "  grads = {\"dW1\": dW1, \"dW2\": dW2, \"dW3\": dW3, \"db1\": db1, \"db2\": db2, \"db3\": db3}\n",
        "  return grads"
      ],
      "metadata": {
        "id": "7DhAGj0rJl4c"
      },
      "execution_count": null,
      "outputs": []
    },
    {
      "cell_type": "code",
      "source": [
        "def weight_update(params, grads):\n",
        "  W1 = params[\"W1\"] - learning_rate * grads[\"dW1\"]\n",
        "  W2 = params[\"W2\"] - learning_rate * grads[\"dW2\"]\n",
        "  W3 = params[\"W3\"] - learning_rate * grads[\"dW3\"]\n",
        "  b1 = params[\"b1\"] - learning_rate * grads[\"db1\"]\n",
        "  b2 = params[\"b2\"] - learning_rate * grads[\"db2\"]\n",
        "  b3 = params[\"b3\"] - learning_rate * grads[\"db3\"]\n",
        "  params = {\"W1\": W1, \"W2\": W2, \"W3\": W3, \"b1\": b1, \"b2\": b2, \"b3\": b3}\n",
        "  return params"
      ],
      "metadata": {
        "id": "DV6FbX8XXmYF"
      },
      "execution_count": null,
      "outputs": []
    },
    {
      "cell_type": "code",
      "source": [
        "def calculate_cost(Y_hat, Y):\n",
        "  L = -np.sum(np.multiply(Y, np.log(Y_hat)))\n",
        "  return L"
      ],
      "metadata": {
        "id": "Jun_yZxMbLzz"
      },
      "execution_count": null,
      "outputs": []
    },
    {
      "cell_type": "code",
      "source": [
        "def calculate_accuracy(params, X, Y):\n",
        "  cache = forward_prop(X, params)\n",
        "  \n",
        "  A3 = cache[\"A3\"].T\n",
        "  max_vals = A3.max(axis = 1).reshape(-1, 1)\n",
        "  A3 = np.where(A3 == max_vals, 1, 0).T\n",
        "  \n",
        "  errors = np.sum(np.abs(A3 - Y)) // 2\n",
        "  total = Y.shape[1]\n",
        "  accuracy = (total - errors) / total\n",
        "  return accuracy"
      ],
      "metadata": {
        "id": "fS1ga-wt9k6l"
      },
      "execution_count": null,
      "outputs": []
    },
    {
      "cell_type": "code",
      "source": [
        "def train_model(X_train, Y_train, X_val, Y_val, verbose=1):\n",
        "  train_err = []\n",
        "  train_acc = []\n",
        "  val_err = []\n",
        "  val_acc = []\n",
        "\n",
        "  params = weight_init(X_train, Y_train)\n",
        "  for i in range(epochs):\n",
        "    cache = forward_prop(X_train, params)\n",
        "    grads = back_prop(X_train, Y_train, params, cache)\n",
        "    params = weight_update(params, grads)\n",
        "    \n",
        "    preds = forward_prop(X_val, params)\n",
        "    train_err.append(calculate_cost(cache[\"A3\"], Y_train))\n",
        "    val_err.append(calculate_cost(preds[\"A3\"], Y_val))\n",
        "    train_acc.append(calculate_accuracy(params, X_train, Y_train))\n",
        "    val_acc.append(calculate_accuracy(params, X_val, Y_val))\n",
        "    \n",
        "    if (verbose and i == (i // 100) * 100):\n",
        "      print(f\"Epoch {i + 1}/{epochs}\")\n",
        "      print(f\"Training Loss: {round(train_err[i], 2)}, Training Accuracy: {round(train_acc[i], 2)}\")\n",
        "      print(f\"Validation Loss: {round(val_err[i], 2)}, Validation Accuracy: {round(val_acc[i], 2)}\")\n",
        "    \n",
        "    history = {\"train_err\": train_err, \"train_acc\": train_acc, \"val_err\": val_err, \"val_acc\": val_acc}\n",
        "\n",
        "  return history, params"
      ],
      "metadata": {
        "id": "MhluvPY-YEl4"
      },
      "execution_count": null,
      "outputs": []
    },
    {
      "cell_type": "markdown",
      "source": [
        "# Evaluation"
      ],
      "metadata": {
        "id": "-xsJDNCZI_WL"
      }
    },
    {
      "cell_type": "code",
      "source": [
        "# hyperparameters\n",
        "\n",
        "h1 = 100\n",
        "h2 = 100\n",
        "epochs = 1000\n",
        "learning_rate = 0.1"
      ],
      "metadata": {
        "id": "Xwyjgz1uGxon"
      },
      "execution_count": null,
      "outputs": []
    },
    {
      "cell_type": "code",
      "source": [
        "history, params = train_model(X_train, Y_train, X_val, Y_val, verbose=0)"
      ],
      "metadata": {
        "id": "payrT6I1YYEg"
      },
      "execution_count": null,
      "outputs": []
    },
    {
      "cell_type": "code",
      "source": [
        "acc = round(calculate_accuracy(params, X_train, Y_train), 2)\n",
        "print(f\"Training Accuracy: {acc}\")\n",
        "acc = round(calculate_accuracy(params, X_val, Y_val), 2)\n",
        "print(f\"Validation Accuracy: {acc}\")\n",
        "acc = round(calculate_accuracy(params, X_test, Y_test), 2)\n",
        "print(f\"Test Accuracy: {acc}\")"
      ],
      "metadata": {
        "id": "z4sY-9ayV6l1"
      },
      "execution_count": null,
      "outputs": []
    },
    {
      "cell_type": "code",
      "source": [
        "train_err = history[\"train_err\"]\n",
        "val_err = history[\"val_err\"]\n",
        "\n",
        "fig_err = go.Figure()\n",
        "fig_err.add_trace(go.Scatter(x=list(range(len(train_err))), y=train_err, name=\"Training Error\", mode='lines+markers'))\n",
        "fig_err.add_trace(go.Scatter(x=list(range(len(val_err))), y=val_err, name=\"Validation Error\", mode='lines+markers'))\n",
        "fig_err.update_layout(title = f'Error vs Iterations',title_x=0.5, xaxis_title= \"Iterations\", yaxis_title=\"Error\")\n",
        "\n",
        "fig_err.show(renderer=\"svg\")"
      ],
      "metadata": {
        "id": "HaS16upykrRu"
      },
      "execution_count": null,
      "outputs": []
    },
    {
      "cell_type": "code",
      "source": [
        "train_acc = history[\"train_acc\"]\n",
        "val_acc = history[\"val_acc\"]\n",
        "\n",
        "fig_acc = go.Figure()\n",
        "fig_acc.add_trace(go.Scatter(x=list(range(len(train_acc))), y=train_acc, name=\"Training Accuracy\", mode='lines+markers'))\n",
        "fig_acc.add_trace(go.Scatter(x=list(range(len(val_acc))), y=val_acc, name=\"Validation Accuracy\", mode='lines+markers'))\n",
        "fig_acc.update_layout(title = f'Accuracy vs Iterations',title_x=0.5, xaxis_title= \"Iterations\", yaxis_title=\"Accuracy\")\n",
        "\n",
        "fig_acc.show(renderer=\"svg\")"
      ],
      "metadata": {
        "id": "qWB979KJ1Z0w"
      },
      "execution_count": null,
      "outputs": []
    }
  ]
}