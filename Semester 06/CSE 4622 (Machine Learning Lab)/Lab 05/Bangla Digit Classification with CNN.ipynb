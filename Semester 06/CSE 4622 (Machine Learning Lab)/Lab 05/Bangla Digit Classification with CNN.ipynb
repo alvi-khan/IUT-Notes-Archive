{
 "nbformat": 4,
 "nbformat_minor": 0,
 "metadata": {
  "colab": {
   "name": "Bangla Digit Classification with CNN.ipynb",
   "provenance": [],
   "collapsed_sections": []
  },
  "kernelspec": {
   "name": "python3",
   "display_name": "Python 3"
  },
  "language_info": {
   "name": "python"
  },
  "accelerator": "GPU"
 },
 "cells": [
  {
   "cell_type": "markdown",
   "source": [
    "# Importing Libraries"
   ],
   "metadata": {
    "id": "3vILHQhKFHDv"
   }
  },
  {
   "cell_type": "code",
   "source": [
    "import gzip\n",
    "import pickle\n",
    "import numpy as np\n",
    "from tensorflow.keras.utils import to_categorical\n",
    "from tensorflow.keras import datasets, layers, models, losses, optimizers"
   ],
   "metadata": {
    "id": "hFAtJfbOFGjE"
   },
   "execution_count": null,
   "outputs": []
  },
  {
   "cell_type": "markdown",
   "source": [
    "# Preprocessing"
   ],
   "metadata": {
    "id": "aienep9HFPfO"
   }
  },
  {
   "cell_type": "markdown",
   "source": [
    "## Loading Data"
   ],
   "metadata": {
    "id": "cwfPfGbaA0Ml"
   }
  },
  {
   "cell_type": "code",
   "source": [
    "!wget https://github.com/SaadatChowdhury/BHaND/raw/master/Dataset/bhand.pkl.gz\n",
    "f = gzip.open('/content/bhand.pkl.gz','rb')\n",
    "trainSet,validSet,testSet = pickle.load(f, encoding = 'bytes')\n",
    "f.close()"
   ],
   "metadata": {
    "id": "ufEMUlhmBKcx"
   },
   "execution_count": null,
   "outputs": []
  },
  {
   "cell_type": "markdown",
   "source": [
    "## Splitting into Datasets"
   ],
   "metadata": {
    "id": "lMSflFI8FU5D"
   }
  },
  {
   "cell_type": "code",
   "source": [
    "X_train, y_train = trainSet\n",
    "X_val, y_val = validSet\n",
    "X_test, y_test = testSet\n",
    "\n",
    "X_train = np.asarray(X_train)\n",
    "y_train = np.asarray(y_train)\n",
    "\n",
    "X_val = np.asarray(X_val)\n",
    "y_val = np.asarray(y_val)\n",
    "\n",
    "X_test = np.asarray(X_test)\n",
    "y_test = np.asarray(y_test)"
   ],
   "metadata": {
    "id": "mlDRxpa_CMJr"
   },
   "execution_count": null,
   "outputs": []
  },
  {
   "cell_type": "markdown",
   "source": [
    "## Data Visualization"
   ],
   "metadata": {
    "id": "rCtFTfZDFm6G"
   }
  },
  {
   "cell_type": "code",
   "source": [
    "import matplotlib.pyplot as plt\n",
    "img = np.resize(X_train[0], (32,32))\n",
    "plt.imshow(img, cmap='gray')\n",
    "plt.show()"
   ],
   "metadata": {
    "id": "1ybTy3o9EpGE"
   },
   "execution_count": null,
   "outputs": []
  },
  {
   "cell_type": "markdown",
   "source": [
    "## Reshaping"
   ],
   "metadata": {
    "id": "2CV2lGz9FwV8"
   }
  },
  {
   "cell_type": "code",
   "source": [
    "X_train.shape, X_val.shape, X_test.shape"
   ],
   "metadata": {
    "id": "wLokUsD5F6zx"
   },
   "execution_count": null,
   "outputs": []
  },
  {
   "cell_type": "code",
   "source": [
    "# n images, 32 x 32 dimension, 1 channel\n",
    "\n",
    "X_train = X_train.reshape(-1, 32,32, 1)\n",
    "X_val = X_val.reshape(-1, 32,32, 1)\n",
    "X_test = X_test.reshape(-1, 32,32, 1)\n",
    "\n",
    "X_train.shape, X_val.shape, X_test.shape"
   ],
   "metadata": {
    "id": "-QmqSx6YGFSd"
   },
   "execution_count": null,
   "outputs": []
  },
  {
   "cell_type": "markdown",
   "source": [
    "## One-Hot Encoding"
   ],
   "metadata": {
    "id": "lbqDHiV2FuTZ"
   }
  },
  {
   "cell_type": "code",
   "source": [
    "y_train.shape, y_val.shape, y_test.shape"
   ],
   "metadata": {
    "id": "LlowmmcaGGLR"
   },
   "execution_count": null,
   "outputs": []
  },
  {
   "cell_type": "code",
   "source": [
    "# 10 classes\n",
    "\n",
    "y_train_oh = to_categorical(y_train)\n",
    "y_val_oh = to_categorical(y_val)\n",
    "y_test_oh = to_categorical(y_test)\n",
    "\n",
    "y_train_oh.shape, y_val_oh.shape, y_test_oh.shape"
   ],
   "metadata": {
    "id": "pQYtUZrIGLJf"
   },
   "execution_count": null,
   "outputs": []
  },
  {
   "cell_type": "markdown",
   "source": [
    "# Model"
   ],
   "metadata": {
    "id": "tHGa0hkBF3Gi"
   }
  },
  {
   "cell_type": "markdown",
   "source": [
    "## Setup"
   ],
   "metadata": {
    "id": "kR_sqXjoF59i"
   }
  },
  {
   "cell_type": "code",
   "source": [
    "model = models.Sequential()\n",
    "\n",
    "model.add(layers.Conv2D(32, (3, 3), activation='relu', input_shape=(32, 32, 1)))\n",
    "model.add(layers.Conv2D(32, (3, 3), activation='relu'))\n",
    "model.add(layers.MaxPooling2D((2, 2)))\n",
    "model.add(layers.Dropout(0.25))\n",
    "\n",
    "model.add(layers.Conv2D(64, (3, 3), activation='relu'))\n",
    "model.add(layers.Conv2D(64, (3, 3), activation='relu'))\n",
    "model.add(layers.MaxPooling2D((2, 2)))\n",
    "model.add(layers.Dropout(0.25))\n",
    "\n",
    "model.add(layers.Flatten())\n",
    "model.add(layers.Dense(64, activation='relu'))\n",
    "model.add(layers.Dropout(0.25))\n",
    "model.add(layers.Dense(10, activation = 'softmax'))\n",
    "\n",
    "model.summary()"
   ],
   "metadata": {
    "id": "7iW6FAaVGv9l"
   },
   "execution_count": null,
   "outputs": []
  },
  {
   "cell_type": "markdown",
   "source": [
    "## Training"
   ],
   "metadata": {
    "id": "XuwCdXYrGAMD"
   }
  },
  {
   "cell_type": "code",
   "source": [
    "batch_size = 64\n",
    "epochs = 10\n",
    "num_classes = 10"
   ],
   "metadata": {
    "id": "Z1Dph5onHs03"
   },
   "execution_count": null,
   "outputs": []
  },
  {
   "cell_type": "code",
   "source": [
    "model.compile(loss=losses.categorical_crossentropy, optimizer=optimizers.Adam(),metrics=['accuracy'])\n",
    "\n",
    "training_history = model.fit(X_train, y_train_oh,\n",
    "                             batch_size=batch_size,\n",
    "                             epochs=epochs,\n",
    "                             verbose=1,\n",
    "                             validation_data=(X_val, y_val_oh))"
   ],
   "metadata": {
    "id": "Xy7N7ZvoH3p-"
   },
   "execution_count": null,
   "outputs": []
  },
  {
   "cell_type": "markdown",
   "source": [
    "## Evaluation"
   ],
   "metadata": {
    "id": "v0X4oQGzGDgx"
   }
  },
  {
   "cell_type": "code",
   "source": [
    "test_eval = model.evaluate(X_test, y_test_oh, verbose=0)\n",
    "print('Test loss:', test_eval[0])\n",
    "print('Test accuracy:', test_eval[1])"
   ],
   "metadata": {
    "id": "fwBUm_FyIFVR"
   },
   "execution_count": null,
   "outputs": []
  },
  {
   "cell_type": "code",
   "source": [
    "accuracy = training_history.history['accuracy']\n",
    "val_accuracy = training_history.history['val_accuracy']\n",
    "loss = training_history.history['loss']\n",
    "val_loss = training_history.history['val_loss']\n",
    "epoch = range(len(accuracy))\n",
    "plt.plot(epoch, accuracy, label='Training accuracy')\n",
    "plt.plot(epoch, val_accuracy, label='Validation accuracy')\n",
    "plt.title('Training and validation accuracy')\n",
    "plt.legend()\n",
    "plt.figure()\n",
    "plt.plot(epoch, loss, label='Training loss')\n",
    "plt.plot(epoch, val_loss, label='Validation loss')\n",
    "plt.title('Training and validation loss')\n",
    "plt.legend()\n",
    "plt.show()"
   ],
   "metadata": {
    "id": "Zk2FV5-jKGq8"
   },
   "execution_count": null,
   "outputs": []
  },
  {
   "cell_type": "markdown",
   "source": [
    "# Result Visualization"
   ],
   "metadata": {
    "id": "2uBFIi2eGGuO"
   }
  },
  {
   "cell_type": "markdown",
   "source": [
    "## Correct Classifications"
   ],
   "metadata": {
    "id": "FgHSAxUMGMXl"
   }
  },
  {
   "cell_type": "code",
   "source": [
    "predicted_classes = model.predict(X_test)\n",
    "predicted_classes = np.argmax(np.round(predicted_classes),axis=1)\n",
    "correct = np.where(predicted_classes==y_test)[0]"
   ],
   "metadata": {
    "id": "3p8wh1xxQe2q"
   },
   "execution_count": null,
   "outputs": []
  },
  {
   "cell_type": "code",
   "source": [
    "print(f'correct labels - {len(correct)}')\n",
    "for i, correct in enumerate(correct[:9]):\n",
    "    plt.subplot(3,3,i+1)\n",
    "    plt.imshow(X_test[correct].reshape(32,32), cmap='gray', interpolation='none')\n",
    "    plt.title(\"Predicted {}, Class {}\".format(predicted_classes[correct], y_test[correct]))\n",
    "    plt.tight_layout()"
   ],
   "metadata": {
    "id": "jKWTc_qEQpmN"
   },
   "execution_count": null,
   "outputs": []
  },
  {
   "cell_type": "markdown",
   "source": [
    "## Incorrect Classifications"
   ],
   "metadata": {
    "id": "SVp28Et5GYgZ"
   }
  },
  {
   "cell_type": "code",
   "source": [
    "correct = np.where(predicted_classes==y_test)[0]\n",
    "print(f'Misclassified labels - {(y_test.shape[0]) - len(correct)}')\n",
    "cnt = 0\n",
    "for i in range (0,len(y_test)):\n",
    "  if(predicted_classes[i]!=y_test[i]):\n",
    "    \n",
    "    plt.subplot(3,3,cnt+1)\n",
    "    plt.imshow(X_test[i].reshape(32,32), cmap='gray', interpolation='none')\n",
    "    plt.title(\"Predicted {}, Class {}\".format(predicted_classes[i], y_test[i]))\n",
    "    plt.tight_layout()\n",
    "    cnt+=1\n",
    "    if(cnt==9):\n",
    "      break"
   ],
   "metadata": {
    "id": "fRvaiC-hQwPX"
   },
   "execution_count": null,
   "outputs": []
  }
 ]
}