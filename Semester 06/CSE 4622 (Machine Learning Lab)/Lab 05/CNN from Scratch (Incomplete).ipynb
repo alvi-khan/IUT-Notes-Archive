{
  "nbformat": 4,
  "nbformat_minor": 0,
  "metadata": {
    "colab": {
      "name": "CNN from Scratch [INCOMPLETE].ipynb",
      "provenance": [],
      "collapsed_sections": []
    },
    "kernelspec": {
      "name": "python3",
      "display_name": "Python 3"
    },
    "language_info": {
      "name": "python"
    }
  },
  "cells": [
    {
      "cell_type": "markdown",
      "source": [
        "## Pre-process Image\n",
        "In order to get the best results with a 2D convolution, it is generally recommended that you process the image in grayscale. This is what is done here in the function `load_image_as_grayscale()` "
      ],
      "metadata": {
        "id": "9Sr65SulbsjB"
      }
    },
    {
      "cell_type": "code",
      "source": [
        "!gdown --id 1-hPY4VMCJmb0U5plVtIoaOVgvHiCzrIS"
      ],
      "metadata": {
        "id": "izpavKsQeez9"
      },
      "execution_count": null,
      "outputs": []
    },
    {
      "cell_type": "code",
      "source": [
        "from PIL import Image\n",
        "import numpy as np\n",
        "import matplotlib.pyplot as plt\n",
        "\n",
        "\n",
        "def rgb2gray(rgb):\n",
        "    r, g, b = rgb[:,:,0], rgb[:,:,1], rgb[:,:,2]\n",
        "    gray = 0.2989 * r + 0.5870 * g + 0.1140 * b\n",
        "    return gray\n",
        "\n",
        "def load_image_as_grayscale(path):\n",
        "    img = Image.open(path) #read the image\n",
        "    img = img.resize((512,512)) #resize the image\n",
        "    img = np.array(img) #convert image to numpy array\n",
        "    return rgb2gray(img) # convert RGB to grayscale and return"
      ],
      "metadata": {
        "id": "Z6XYmG-vl0Bg"
      },
      "execution_count": null,
      "outputs": []
    },
    {
      "cell_type": "code",
      "source": [
        "img = load_image_as_grayscale('/content/city1.jpeg')\n",
        "print(img.shape)\n",
        "plt.imshow(img, cmap='gray') # convert the RGB to GRAY"
      ],
      "metadata": {
        "id": "GcoNm6JfbyCk"
      },
      "execution_count": null,
      "outputs": []
    },
    {
      "cell_type": "code",
      "source": [
        "#kernel for vertical lines\n",
        "kernel = np.array([[1, 0, -1],\n",
        "                   [1, 0, -1],\n",
        "                   [1, 0, -1]])"
      ],
      "metadata": {
        "id": "DmCDa12Pb6tp"
      },
      "execution_count": null,
      "outputs": []
    },
    {
      "cell_type": "markdown",
      "source": [
        "# 2D Convolution - Forward Propagation\n",
        "To start the 2D Convolution method, we will have the following method header:<br>\n",
        "```def convolve2D(image, kernel, padding=0, strides=1:``` <br>\n",
        "Such that the image and kernel are specified by the user and the default padding around the image is 0 and default stride is 1.\n",
        "\n",
        "The next thing that we must do is apply cross correlation to our kernel and this can be done using NumPy very easily through just flipping the matrix horizontally then vertically. This looks like:<br>\n",
        "`kernel = np.flipud(np.fliplr(kernel))`<br>\n",
        "We then need to compute the matrix size of our outputted image. This can very simply be done through the formula:\n",
        "\n",
        "<img src='https://github.com/redwankarimsony/CNN-Explainer-for-Beginners/blob/main/dim.png?raw=1'>\n",
        "\n",
        "This must be implemented in each dimension (x, y). To start, we must gather the x and y size of the image and kernel. This can be done through:\n",
        "```\n",
        "xKernShape = kernel.shape[0] \n",
        "yKernShape = kernel.shape[1] \n",
        "xImgShape = image.shape[0] \n",
        "yImgShape = image.shape[0]\n",
        "```"
      ],
      "metadata": {
        "id": "5BZbqisgb7XU"
      }
    },
    {
      "cell_type": "code",
      "source": [
        "def Custom_Convolve2D(image, kernel, padding=0, strides=1):\n",
        "  m, n = kernel.shape\n",
        "  x, y = image.shape\n",
        "  x = np.floor((x + 2 * padding - m) / strides) + 1\n",
        "  y = np.floor((y + 2 * padding - n) / strides) + 1\n",
        "  x = x.astype(np.int64)\n",
        "  y = y.astype(np.int64)\n",
        "  new_image = np.zeros((x, y))\n",
        "  \n",
        "  for i in range(x):\n",
        "      for j in range(y):\n",
        "        new_image[i][j] = np.sum(image[i : i + m, j : j + n] * kernel)\n",
        "        j = j + strides - 1\n",
        "      i = i + strides - 1\n",
        "  return new_image\n",
        "  # Your Code Goes Here"
      ],
      "metadata": {
        "id": "fx4J4JPkcvQV"
      },
      "execution_count": null,
      "outputs": []
    },
    {
      "cell_type": "markdown",
      "source": [
        "##Testing the implementation"
      ],
      "metadata": {
        "id": "a_Kff0Klc249"
      }
    },
    {
      "cell_type": "code",
      "source": [
        "img = load_image_as_grayscale('/content/city1.jpeg')\n",
        "output = Custom_Convolve2D(image=img, kernel= kernel.T)\n",
        "result = (output-output.min())/(output.max() - output.min())\n",
        "\n",
        "f, axarr = plt.subplots(1,2, figsize = (20,10))\n",
        "axarr[0].imshow(img, cmap = 'gray')\n",
        "axarr[0].set_title('Original')\n",
        "\n",
        "axarr[1].imshow((result>0.6)*1., cmap = 'gray')"
      ],
      "metadata": {
        "id": "YjpF5wMHcz32"
      },
      "execution_count": null,
      "outputs": []
    },
    {
      "cell_type": "markdown",
      "source": [
        "## What To Do:\n",
        "Implement the following in the following fashion. Add custom dummy weights in the `Custom_Dense()` layer to a valid 10 class output in the last softrax layers. \n",
        "1. `Custom_Convolve2D()`\n",
        "2. `Custom_MaxPlolling()`\n",
        "3. `Custom_Flatten()`\n",
        "4. `Custom_Dense()`\n",
        "4. `Custom_Softmax()`\n",
        "\n",
        "Make sure that, the follwong segment of code works. "
      ],
      "metadata": {
        "id": "N4PUkKX3dIfg"
      }
    },
    {
      "cell_type": "code",
      "source": [
        "# x = convolve2D(img, kernel)\n",
        "# x = maxPlooling(x)\n",
        "# x = Custom_Flatten(x)\n",
        "# x = Custom_Dense(x, 10)\n",
        "# output = Custom_softmax(x)"
      ],
      "metadata": {
        "id": "cX5MnD5ddL3Q"
      },
      "execution_count": null,
      "outputs": []
    },
    {
      "cell_type": "code",
      "source": [
        "def Custom_MaxPooling(image, kernel, strides):\n",
        "  m, n = kernel.shape\n",
        "  x, y = image.shape\n",
        "  new_image = np.zeros((m, n))\n",
        "  for i in range(x):\n",
        "    for j in range(y):\n",
        "      new_image[i][j] = np.sum(image[i : i + m, j : j + n] * kernel)\n",
        "      j = j + strides - 1\n",
        "    i = i + strides - 1\n",
        "  # Your Code Goes Here"
      ],
      "metadata": {
        "id": "_9N26kDsdV0L"
      },
      "execution_count": null,
      "outputs": []
    },
    {
      "cell_type": "code",
      "source": [
        "def Custom_Dense(x, output_size):\n",
        "  # Your Code Goes Here"
      ],
      "metadata": {
        "id": "SvgvpyAZdalE"
      },
      "execution_count": null,
      "outputs": []
    },
    {
      "cell_type": "code",
      "source": [
        "def Custom_Flatten(image):\n",
        "  # Your Code Goes Here"
      ],
      "metadata": {
        "id": "65_IPWzkdbf8"
      },
      "execution_count": null,
      "outputs": []
    },
    {
      "cell_type": "code",
      "source": [
        "def Custom_Softmax(x):\n",
        "  # Your Code Goes Here"
      ],
      "metadata": {
        "id": "Q45e1UesdeWn"
      },
      "execution_count": null,
      "outputs": []
    },
    {
      "cell_type": "code",
      "source": [
        "print(np.asarray(img).shape, np.asarray(kernel).shape)"
      ],
      "metadata": {
        "id": "rMJtRZMbQil9"
      },
      "execution_count": null,
      "outputs": []
    },
    {
      "cell_type": "code",
      "source": [
        "x = Custom_Convolve2D(img, kernel)\n",
        "print(np.asarray(x).shape)\n",
        "x = Custom_MaxPooling(x, kernel, strides = 1)\n",
        "x = Custom_Flatten(x)\n",
        "x = Custom_Dense(x, 10)\n",
        "output = Custom_Softmax(x)\n",
        "print(output)"
      ],
      "metadata": {
        "id": "q66fhW61djWp"
      },
      "execution_count": null,
      "outputs": []
    }
  ]
}