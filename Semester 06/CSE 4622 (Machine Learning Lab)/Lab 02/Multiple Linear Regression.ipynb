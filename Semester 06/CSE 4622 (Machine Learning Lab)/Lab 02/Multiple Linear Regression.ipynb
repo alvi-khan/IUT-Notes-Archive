{
 "cells": [
  {
   "cell_type": "code",
   "execution_count": null,
   "metadata": {
    "id": "1ReBcZWp8n96"
   },
   "outputs": [],
   "source": [
    "# importing libraries\n",
    "import pandas as pd\n",
    "import numpy as np\n",
    "import math\n",
    "import matplotlib.pyplot as plt\n",
    "import plotly.express as px\n",
    "import plotly.graph_objects as go\n",
    "from sklearn.model_selection import train_test_split\n",
    "from sklearn.metrics import mean_squared_error\n",
    "from sklearn.preprocessing import MinMaxScaler"
   ]
  },
  {
   "cell_type": "markdown",
   "metadata": {
    "id": "NO6sd9yZacDU"
   },
   "source": [
    "## **Task 01**"
   ]
  },
  {
   "cell_type": "code",
   "execution_count": null,
   "metadata": {
    "id": "AcQxKo-W8AOQ"
   },
   "outputs": [],
   "source": [
    "# Download dataset\n",
    "!gdown --id 1bTtIDHMP6a5dQ3a2Aw9AAR8Flprjb3Ei"
   ]
  },
  {
   "cell_type": "code",
   "execution_count": null,
   "metadata": {
    "id": "wRrHj3hV8fne"
   },
   "outputs": [],
   "source": [
    "# Reading data\n",
    "data = pd.read_csv('/content/data.csv')"
   ]
  },
  {
   "cell_type": "code",
   "execution_count": null,
   "metadata": {
    "id": "0tdGOzFx8xOz"
   },
   "outputs": [],
   "source": [
    "# Printing total number of samples, column names, null values in each column and data types of then columns\n",
    "data.replace(0, pd.np.nan, inplace = True)\n",
    "data.info()"
   ]
  },
  {
   "cell_type": "code",
   "execution_count": null,
   "metadata": {
    "id": "AnHCNSTk9fqK"
   },
   "outputs": [],
   "source": [
    "# Dropping columns with too many null values or non-numeric data type\n",
    "data.drop(['date', 'waterfront', 'view', 'sqft_basement', 'yr_renovated', 'street', 'city', 'statezip', 'country'], inplace = True, axis=1)\n",
    "# dropping samples with null values\n",
    "data.dropna(inplace = True)\n",
    "data.info()"
   ]
  },
  {
   "cell_type": "markdown",
   "metadata": {
    "id": "NVw8tMnnZeuI"
   },
   "source": [
    "## **Task 02**\n",
    "**Feature columns**:\n",
    "\n",
    "bedrooms, bathrooms, sqft_living, sqft_lot, floors, condition, sqft_above, yr_built\n",
    "\n",
    "**Value to be predicted**:\n",
    "\n",
    "price"
   ]
  },
  {
   "cell_type": "markdown",
   "metadata": {
    "id": "f7KjgFDtbv-Y"
   },
   "source": [
    "## **Task 03**"
   ]
  },
  {
   "cell_type": "code",
   "execution_count": null,
   "metadata": {
    "id": "3S7LEUokCf6o"
   },
   "outputs": [],
   "source": [
    "X = data.drop(['price'], axis=1).values # removing output column\n",
    "X = (X - X.min(axis = 0)) / (X.max(axis = 0) - X.min(axis = 0)) # feature scaling\n",
    "X = np.insert(X, 0, np.ones(len(X)), axis = 1)  # adding column of 1s\n",
    "Y = data['price'].values  # output column\n",
    "# Splitting dataset\n",
    "X_train, X_test, Y_train, Y_test = train_test_split(X, Y, test_size=0.2, shuffle=True, random_state = 101)"
   ]
  },
  {
   "cell_type": "markdown",
   "metadata": {
    "id": "Mh3KNFKAizCK"
   },
   "source": [
    "##**Task 04**"
   ]
  },
  {
   "cell_type": "code",
   "execution_count": null,
   "metadata": {
    "id": "Sf96xjpaCp4w"
   },
   "outputs": [],
   "source": [
    "def gradient_descent(X, Y, lr=0.01, epoch=12):\n",
    "  logs, mse = [], []\n",
    "  samples = len(X)\n",
    "  features = len(X[0])\n",
    "\n",
    "  X = X.reshape(samples, features)\n",
    "  Y = Y.reshape(samples, 1)\n",
    "  params = np.zeros((features, 1))\n",
    "\n",
    "  for i in range(epoch):\n",
    "    hypothesis = np.dot(X, params)\n",
    "    loss = hypothesis - Y\n",
    "    params -= (lr / samples) * np.dot(X.transpose(), loss)\n",
    "    \n",
    "    logs.append(params)\n",
    "    mse.append(mean_squared_error(Y, hypothesis))\n",
    "    \n",
    "    # Task 04.a\n",
    "    \n",
    "    if (i != 0 and abs(mse[i] - mse[i - 1]) <= 0.5):\n",
    "      break\n",
    "  return params, logs, mse"
   ]
  },
  {
   "cell_type": "code",
   "execution_count": null,
   "metadata": {
    "id": "dbPWYmZkI49A"
   },
   "outputs": [],
   "source": [
    "params, logs, mse = gradient_descent(X_train, Y_train, epoch = 200)"
   ]
  },
  {
   "cell_type": "markdown",
   "metadata": {
    "id": "tHJD3b-Wjsbd"
   },
   "source": [
    "### **Task 04.b**"
   ]
  },
  {
   "cell_type": "code",
   "execution_count": null,
   "metadata": {
    "id": "SYm_nSn2JCsG"
   },
   "outputs": [],
   "source": [
    "def plot_mse(mse_values, labels):\n",
    "  error_fig = go.Figure()\n",
    "  for mse, label in zip(mse_values, labels):\n",
    "    error_fig.add_trace(go.Scatter(x=list(range(len(mse))), y=mse, name=label, mode='lines+markers', marker_color='rgba(0, 152, 0, .8)'))\n",
    "  \n",
    "  error_fig.update_layout(title = f'MSE vs Iterations',title_x=0.5, xaxis_title= \"Iterations\", yaxis_title=\"MSE\")\n",
    "  error_fig.update_xaxes(showline=True, linewidth=2, linecolor='black', mirror=True)\n",
    "  error_fig.update_yaxes(showline=True, linewidth=2, linecolor='black', mirror=True)\n",
    "\n",
    "  error_fig.show()"
   ]
  },
  {
   "cell_type": "code",
   "execution_count": null,
   "metadata": {
    "id": "tPimKoCij0BX"
   },
   "outputs": [],
   "source": [
    "plot_mse([mse], ['MSE'])"
   ]
  },
  {
   "cell_type": "markdown",
   "metadata": {
    "id": "lMUNfJJ9lIFd"
   },
   "source": [
    "### **Task 04.c**"
   ]
  },
  {
   "cell_type": "code",
   "execution_count": null,
   "metadata": {
    "id": "cZ00FPi-QM_g"
   },
   "outputs": [],
   "source": [
    "i = 0.001\n",
    "while i <= 0.1:\n",
    "  params, logs, mse = gradient_descent(X_train, Y_train, lr=i, epoch = 20)\n",
    "  print(\"Step Size: \" + str(i))\n",
    "  print(\"Training Error: \" + str(mean_squared_error(Y_train, np.dot(X_train, params))))\n",
    "  print(\"Testing Error: \" + str(mean_squared_error(Y_test, np.dot(X_test, params))))\n",
    "  i = i * 10"
   ]
  },
  {
   "cell_type": "markdown",
   "metadata": {
    "id": "bIL6qC1BXuDP"
   },
   "source": [
    "### **Task 05.a**"
   ]
  },
  {
   "cell_type": "code",
   "execution_count": null,
   "metadata": {
    "id": "n3VFpX10GzUD"
   },
   "outputs": [],
   "source": [
    "from sklearn.linear_model import LinearRegression\n",
    "regressor = LinearRegression()\n",
    "data = pd.read_csv('/content/data.csv')\n",
    "X = data.drop(['date', 'price', 'street', 'city', 'statezip', 'country'], axis=1)\n",
    "Y = data['price']\n",
    "X_train, X_test, Y_train, Y_test = train_test_split(X, Y, test_size=0.2, shuffle=True, random_state = 101)\n",
    "regressor.fit(X_train, Y_train)"
   ]
  },
  {
   "cell_type": "code",
   "execution_count": null,
   "metadata": {
    "id": "YsB4tQwNG5jC"
   },
   "outputs": [],
   "source": [
    "# Coefficients\n",
    "print(regressor.coef_)"
   ]
  },
  {
   "cell_type": "code",
   "execution_count": null,
   "metadata": {
    "id": "-3C_wQp3HSis"
   },
   "outputs": [],
   "source": [
    "# Mean Squared Error\n",
    "Y_pred = regressor.predict(X_test)\n",
    "mean_squared_error(Y_test, Y_pred)"
   ]
  },
  {
   "cell_type": "markdown",
   "metadata": {
    "id": "ltOanlGQ_l4g"
   },
   "source": [
    "### **Task 05.b**"
   ]
  },
  {
   "cell_type": "code",
   "execution_count": null,
   "metadata": {
    "id": "kRqJJ9L0_E5Z"
   },
   "outputs": [],
   "source": [
    "# Creating training set\n",
    "training_set = X_train\n",
    "training_set['price'] = Y_train"
   ]
  },
  {
   "cell_type": "code",
   "execution_count": null,
   "metadata": {
    "id": "JzUWst7pIPo1"
   },
   "outputs": [],
   "source": [
    "# Pearson Correlation Matrix\n",
    "training_set.corr()"
   ]
  },
  {
   "cell_type": "code",
   "execution_count": null,
   "metadata": {
    "id": "NWSJFl53AXuv"
   },
   "outputs": [],
   "source": [
    "# Hand-picking features\n",
    "X_train = training_set.drop([\"bathrooms\", \"sqft_living\", \"sqft_lot\", \"waterfront\", \"sqft_above\", \"sqft_basement\", \"yr_built\", \"price\"], axis = 1)\n",
    "X_test = X_test.drop([\"bathrooms\", \"sqft_living\", \"sqft_lot\", \"waterfront\", \"sqft_above\", \"sqft_basement\", \"yr_built\"], axis = 1)"
   ]
  },
  {
   "cell_type": "code",
   "execution_count": null,
   "metadata": {
    "id": "5JskOeNW3iEp"
   },
   "outputs": [],
   "source": [
    "# Re-running Linear Regression\n",
    "regressor.fit(X_train, Y_train)\n",
    "Y_pred = regressor.predict(X_test)\n",
    "mean_squared_error(Y_test, Y_pred)"
   ]
  }
 ],
 "metadata": {
  "colab": {
   "collapsed_sections": [],
   "name": "Multiple Linear Regression.ipynb",
   "provenance": []
  },
  "kernelspec": {
   "display_name": "Python 3 (ipykernel)",
   "language": "python",
   "name": "python3"
  },
  "language_info": {
   "codemirror_mode": {
    "name": "ipython",
    "version": 3
   },
   "file_extension": ".py",
   "mimetype": "text/x-python",
   "name": "python",
   "nbconvert_exporter": "python",
   "pygments_lexer": "ipython3",
   "version": "3.9.0"
  }
 },
 "nbformat": 4,
 "nbformat_minor": 0
}