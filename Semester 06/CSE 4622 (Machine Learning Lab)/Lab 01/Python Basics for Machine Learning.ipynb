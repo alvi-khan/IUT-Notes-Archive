{
 "nbformat": 4,
 "nbformat_minor": 0,
 "metadata": {
  "colab": {
   "name": "01. Python Basics for Machine Learning.ipynb",
   "provenance": [],
   "collapsed_sections": [
    "pSQWRosFv43a",
    "2Pny3qr5u_Ta",
    "8bqgWn0swOfY",
    "-f8g_0E6xx7y",
    "_TX_CjIizZcb",
    "zGghrjt98Xwe",
    "hIQ0Vf2E-GE9",
    "IAIwibZW_GGz",
    "yVTYWKsLBiJ0",
    "sZk0mYJsJ7ZW",
    "jj3Df4ynQbJS",
    "Kc-Bksh4ScNT",
    "GAyZFSe1RYyb",
    "F-AkIF0GSxmL",
    "KZKx9Fj7TNQU",
    "Ut3UyxqxTtDJ",
    "4MOaeIpdVpZy",
    "oJTOaNC_94Ig",
    "6_vbIrFm-VHw",
    "0TtmUAu2-wwK",
    "a5TsLap3CFLh",
    "ykc25CmTISku",
    "hTn2eg_MN6mC",
    "74dPUTLJtbio",
    "7gT_nuv6pV9W"
   ]
  },
  "kernelspec": {
   "name": "python3",
   "display_name": "Python 3"
  },
  "language_info": {
   "name": "python"
  }
 },
 "cells": [
  {
   "cell_type": "markdown",
   "metadata": {
    "id": "pSQWRosFv43a"
   },
   "source": [
    "# <font color = 'skyblue'>**Basic Python Syntax**</font>\n"
   ]
  },
  {
   "cell_type": "markdown",
   "metadata": {
    "id": "2Pny3qr5u_Ta"
   },
   "source": [
    "## <font color = 'lightgreen'>*Commonly used data types*</font><br>"
   ]
  },
  {
   "cell_type": "markdown",
   "metadata": {
    "id": "_CthCcnn-agt"
   },
   "source": [
    "*Text*:\tstr <br>\n",
    "*Numeric*:\tint, float, complex <br>\n",
    "*Sequential*:\tlist, tuple, range <br>\n",
    "*Map*:\tdict <br>\n",
    "*Set*:\tset, frozenSet <br>\n",
    "*Boolean*:\tbool <br>\n",
    "*Binary*:\tbytes, byteArray, memoryView"
   ]
  },
  {
   "cell_type": "code",
   "metadata": {
    "id": "ynQdZ7yju-fy"
   },
   "source": [
    "x = 5 # variable declaration, A variable is created the moment you first assign a value to it.\n",
    "x = \"Hello\"\n",
    "print(x)\n",
    "y = 'Hello' # x and y is same\n",
    "\n"
   ],
   "execution_count": null,
   "outputs": []
  },
  {
   "cell_type": "code",
   "metadata": {
    "id": "EHfB8zYKdDHi"
   },
   "source": [
    "#Python allows you to assign values to multiple variables in one line:\n",
    "a, b, c = \"vaiarble1\", \"variable2\", \"varaibel3\"\n",
    "print(a,b,c)\n",
    "\n",
    "#Concatenation:\n",
    "print(\"I am \" + y)\n",
    "print(x + y)"
   ],
   "execution_count": null,
   "outputs": []
  },
  {
   "cell_type": "markdown",
   "metadata": {
    "id": "8bqgWn0swOfY"
   },
   "source": [
    "## <font color = 'lightpink'>*Data types and type casting*</font>"
   ]
  },
  {
   "cell_type": "code",
   "metadata": {
    "id": "7UVJcuCLxGAa"
   },
   "source": [
    "print(type(x))\n",
    "\n",
    "x = 1 # int\n",
    "y = 2.8 # float\n",
    "z = 1j # complex\n",
    "\n",
    "#convert from int to float:\n",
    "a = float(x)\n",
    "\n",
    "#convert from float to int:\n",
    "b = int(y)\n",
    "\n",
    "#convert from int to complex:\n",
    "c = complex(x)\n",
    "\n",
    "print(type(a))\n",
    "\n"
   ],
   "execution_count": null,
   "outputs": []
  },
  {
   "cell_type": "code",
   "metadata": {
    "id": "DSA4FWu7dGNo"
   },
   "source": [
    "#casting in python\n",
    "\n",
    "x= int(\"5\")\n",
    "y = str(\"5.0\")\n",
    "print(x,y)"
   ],
   "execution_count": null,
   "outputs": []
  },
  {
   "cell_type": "markdown",
   "metadata": {
    "id": "-f8g_0E6xx7y"
   },
   "source": [
    "\n",
    "## <font color = 'lightgreen'>*Random number generation*</font>\n",
    "## <font color = 'lightgreen'>*Importing library*</font>\n",
    "\n"
   ]
  },
  {
   "cell_type": "code",
   "metadata": {
    "id": "T9cxpOiSx7Bp"
   },
   "source": [
    "import random\n",
    "\n",
    "num = random.random() # Generates a random floating-point number in the interval [0,1)\n",
    "print(num)\n",
    "\n",
    "num = random.randint(10, 20) # Generates a random integer from x to y, including the x and y\n",
    "print(num)"
   ],
   "execution_count": null,
   "outputs": []
  },
  {
   "cell_type": "markdown",
   "metadata": {
    "id": "_TX_CjIizZcb"
   },
   "source": [
    "## <font color='lightpink'>*Basic string operations*</font>"
   ]
  },
  {
   "cell_type": "code",
   "metadata": {
    "id": "kfcJI4U1z0ub"
   },
   "source": [
    "# Python strings are zero-indexed\n",
    "\n",
    "str1 = \" Single line string\" # single line\n",
    "str2 = \"\"\" multiline \n",
    " string \"\"\" # multi-line string\n",
    "print(str1)\n",
    "print(str1.strip()) # The strip() method removes any whitespace from the beginning or the end\n",
    "\n",
    "print(str1)\n",
    "print(str2)"
   ],
   "execution_count": null,
   "outputs": []
  },
  {
   "cell_type": "code",
   "metadata": {
    "id": "zwQ2ZRbZdNQx"
   },
   "source": [
    "sayHi = 'Say HI to Jack\\'s friend.' # 'Say HI to Jack's friend' won't work. But, \"say HI to Jack's friend\" is okay.\n",
    "                                    # '\\' in python is an escape character.\n",
    "print(sayHi)\n",
    "\n",
    "dummy = \"Nationality\"\n",
    "# Like many other popular programming languages, strings in Python are arrays of bytes representing unicode characters.\n",
    "print(dummy[1])\n",
    "\n",
    "# Slicing: You can return a range of characters by using the slice syntax.\n",
    "print(dummy[2:6]) # let 2 is the 1st argument and 6 is the 2nd argument. \n",
    "                 # It will print characters ranging from the 1st argument upto (2nd argument - 1).\n",
    "\n",
    "# Negative Indexing: Use negative indexes to start the slice from the end of the string:\n",
    "print(dummy[-3:-1])"
   ],
   "execution_count": null,
   "outputs": []
  },
  {
   "cell_type": "code",
   "metadata": {
    "id": "7mbTYtjzdRa5"
   },
   "source": [
    "print(len(str1))  #The len() function returns the length of a string:\n",
    " \n",
    "print(str1.lower())\n",
    "print(str1.upper())"
   ],
   "execution_count": null,
   "outputs": []
  },
  {
   "cell_type": "markdown",
   "metadata": {
    "id": "zGghrjt98Xwe"
   },
   "source": [
    "## <font color = 'orange'>*Operators*</font>"
   ]
  },
  {
   "cell_type": "code",
   "metadata": {
    "id": "3pa4Bbdv8sgT"
   },
   "source": [
    "a = 5**3 # exponential\n",
    "print(a)\n",
    "a = 5/3\n",
    "print(a)\n",
    "a = 5//3\n",
    "print(a) # the floor division // rounds the result down to the nearest Integer"
   ],
   "execution_count": null,
   "outputs": []
  },
  {
   "cell_type": "code",
   "metadata": {
    "id": "ANCrpbXndVhx"
   },
   "source": [
    "#identity operators\n",
    "\n",
    "x = [\"apple\", \"banana\"]\n",
    "y = [\"apple\", \"banana\"]\n",
    "z = x\n",
    "\n",
    "print(x is z) # returns True because z is the same object as x\n",
    "\n",
    "print(x is y) # returns False because x is not the same object as y, even if they have the same content\n",
    "\n",
    "print(x == y) # to demonstrate the difference betweeen \"is\" and \"==\": this comparison returns True because x is equal to y\n",
    "\n",
    "print(x is not z) # returns False because z is the same object as x\n",
    "\n",
    "print(x is not y) # returns True because x is not the same object as y, even if they have the same content\n",
    "\n",
    "print(x != y) \n",
    "# to demonstrate the difference betweeen \"is not\" and \"!=\": this comparison returns False because x is equal to y"
   ],
   "execution_count": null,
   "outputs": []
  },
  {
   "cell_type": "code",
   "metadata": {
    "id": "Qmt-mqARdZ_A"
   },
   "source": [
    "## membership operator\n",
    "\n",
    "x = [\"apple\", \"banana\"]\n",
    "\n",
    "print(\"pineapple\" not in x)\n",
    "print(\"banana\" in y)\n",
    "\n",
    "# returns True because a sequence with the value \"pineapple\" is not in the list"
   ],
   "execution_count": null,
   "outputs": []
  },
  {
   "cell_type": "markdown",
   "metadata": {
    "id": "hIQ0Vf2E-GE9"
   },
   "source": [
    "## <font color = orange>*Collections - Arrays*<br></font>\n"
   ]
  },
  {
   "cell_type": "markdown",
   "metadata": {
    "id": "ob-RdvwJ-gwt"
   },
   "source": [
    "There are four collection data types in the Python programming language. <br>\n",
    "\n",
    "\n",
    "1.   **List**: A collection which is ordered and changeable. Allows duplicate members. Python lists are written with square brackets.\n",
    "2.   **Tuple**: A collection which is ordered and unchangeable. Allows duplicate members. Tuples are written with round brackets.\n",
    "3.   **Set**: A collection which is unordered and unindexed. No duplicate members.\n",
    "4.   **Dictionary**: A collection which is unordered, changeable and indexed. No duplicate members."
   ]
  },
  {
   "cell_type": "markdown",
   "metadata": {
    "id": "IAIwibZW_GGz"
   },
   "source": [
    "### *List*"
   ]
  },
  {
   "cell_type": "code",
   "metadata": {
    "id": "JmPQXGkv_CPu"
   },
   "source": [
    "thislist = [\"apple\", \"banana\", \"cherry\", \"orange\", \"kiwi\", \"melon\", \"mango\"] # Initializing a list\n",
    "thislist = list((\"apple\", \"banana\", \"cherry\", \"orange\", \"kiwi\", \"melon\", \"mango\")) # Creating list using list constructor\n",
    "print(thislist)\n",
    "print(thislist[2]) # Postive indexing\n",
    "print(thislist[-1]) # Negative indexing\n",
    "print(thislist[1:5]) # The search will start at index 1 (included) and end at index 5 (not included).\n",
    "print(thislist[:5])\n",
    "print(thislist[-4:-1])\n",
    "print(len(thislist)) #length of the list"
   ],
   "execution_count": null,
   "outputs": []
  },
  {
   "cell_type": "code",
   "metadata": {
    "id": "1JRuqiZ6dgEY"
   },
   "source": [
    "thislist.sort() # Sorting the list\n",
    "print(thislist)\n",
    "thislist.reverse() # Reversing the order of the list\n",
    "print(thislist)"
   ],
   "execution_count": null,
   "outputs": []
  },
  {
   "cell_type": "code",
   "metadata": {
    "id": "QClbXpz1dlQA"
   },
   "source": [
    "cherryIndex= thislist.index(\"cherry\") # The index() method returns the position at the first occurrence of the specified value.\n",
    "cherryCount = thislist.count(\"cherry\") # Returns the number of elements with the specified value.\n",
    "print(cherryIndex, cherryCount)"
   ],
   "execution_count": null,
   "outputs": []
  },
  {
   "cell_type": "code",
   "metadata": {
    "id": "cRvmRxuvdqCI"
   },
   "source": [
    "thislist[1]= \"jackfruit\" # Replacing item\n",
    "print(thislist)\n",
    "\n",
    "thislist.insert(1, \"pomegranate\")  # Inserting at a specified position\n",
    "print(f'After inserting at 1 - {thislist}')\n",
    "\n",
    "thislist.append(\"jackfruit\") #insert at the end\n",
    "print(thislist)"
   ],
   "execution_count": null,
   "outputs": []
  },
  {
   "cell_type": "code",
   "metadata": {
    "id": "cWZMxlPEdt9a"
   },
   "source": [
    "thislist1 = list(thislist) # Making a copy of the list\n",
    "thislist2 = thislist.copy() #Making a copy of the list\n",
    "\n",
    "thislist.remove(\"jackfruit\") # The remove() method removes the first matching element from the list.\n",
    "print(thislist)\n",
    "thislist.pop(2) # Removing item from specified index\n",
    "print(thislist)\n",
    "thislist.clear() # Empties the item of the list\n",
    "print(thislist)\n",
    "\n",
    "del thislist # Deletes the list"
   ],
   "execution_count": null,
   "outputs": []
  },
  {
   "cell_type": "code",
   "metadata": {
    "id": "rmT5T2Asdy5B"
   },
   "source": [
    "thislist3 = thislist1+ thislist2 # Joining two list\n",
    "print(thislist3)\n",
    "\n",
    "thislist1.extend(thislist2)\n",
    "print(thislist1)"
   ],
   "execution_count": null,
   "outputs": []
  },
  {
   "cell_type": "code",
   "metadata": {
    "id": "lIt-LVt-d1dw"
   },
   "source": [
    "#Looping Through a List\n",
    "\n",
    "for item in thislist1:\n",
    "  print(item)\n",
    "\n",
    "print('\\n')\n",
    "\n",
    "for i in range (0, len(thislist1)):\n",
    "  print(thislist1[i])\n",
    "\n",
    "# Determining if a specified item is present in a list use the in keyword:\n",
    "if \"apple\" in thislist1:\n",
    "  print(\"yes\")"
   ],
   "execution_count": null,
   "outputs": []
  },
  {
   "cell_type": "markdown",
   "metadata": {
    "id": "yVTYWKsLBiJ0"
   },
   "source": [
    "### *Tuple*"
   ]
  },
  {
   "cell_type": "code",
   "metadata": {
    "id": "ax-jHo2uBkyr"
   },
   "source": [
    "# Init tuple\n",
    "thistuple = (\"apple\", \"banana\", \"cherry\") \n",
    "thistuple= tuple((\"apple\", \"banana\", \"cherry\"))\n",
    "\n",
    "# Once a tuple is created, you cannot change its values. Tuples are unchangeable, or immutable as it also is called.\n",
    "# But there is a workaround. You can convert the tuple into a list, change the list, and convert the list back into a tuple.\n",
    "\n",
    "y = list(thistuple)\n",
    "y[1]=\"mango\"\n",
    "thistuple = tuple(y)\n",
    "print(thistuple)"
   ],
   "execution_count": null,
   "outputs": []
  },
  {
   "cell_type": "code",
   "metadata": {
    "id": "HRe5RxPLd92J"
   },
   "source": [
    "# Once a tuple is created, you cannot add or remove items.\n",
    "# To create a tuple with only one item, you have add a comma after the item, \n",
    "# unless Python will not recognize the variable as a tuple.\n",
    "\n",
    "one_item_tuple = (\"mango\",)\n",
    "print(one_item_tuple)\n",
    "\n",
    "thistuple1 = (\"apple\")\n",
    "print(type(thistuple1))"
   ],
   "execution_count": null,
   "outputs": []
  },
  {
   "cell_type": "code",
   "metadata": {
    "id": "_H2yfV9meAmJ"
   },
   "source": [
    "# Concatenating tuple\n",
    "tuple1 = thistuple + one_item_tuple\n",
    "print(tuple1)"
   ],
   "execution_count": null,
   "outputs": []
  },
  {
   "cell_type": "markdown",
   "metadata": {
    "id": "sZk0mYJsJ7ZW"
   },
   "source": [
    "### *Set*"
   ]
  },
  {
   "cell_type": "code",
   "metadata": {
    "id": "57T70nZWKApt"
   },
   "source": [
    "# A set is a collection which is unordered and unindexed. In Python sets are written with curly brackets.\n",
    "thisset = {\"apple\",\"orange\",\"melon\"}\n",
    "thiset = set((\"apple\",\"orange\",\"melon\"))\n",
    "print(thisset)"
   ],
   "execution_count": null,
   "outputs": []
  },
  {
   "cell_type": "code",
   "metadata": {
    "id": "mrVqwHDnfajS"
   },
   "source": [
    "\n",
    "# You cannot access items in a set by referring to an index, since sets are unordered the items has no index. \n",
    "# But you can loop through the set items using a for loop, or ask if a specified value is present in a set,\n",
    "# by using the in keyword.\n",
    "\n",
    "for x in  thisset:\n",
    "  print(x)\n",
    "\n",
    "# Once a set is created, you cannot change its items, but you can add new items.\n",
    "\n",
    "thisset.add(\"banana\") #insert single items\n",
    "print(thisset)\n",
    "thisset.update([\"jackfruit\",\"cherry\"])\n",
    "print(thisset)"
   ],
   "execution_count": null,
   "outputs": []
  },
  {
   "cell_type": "code",
   "metadata": {
    "id": "dZgJMVbnfeoS"
   },
   "source": [
    "# To remove an item in a set, use the remove(), or the discard() method.\n",
    "thisset.remove(\"orange\")\n",
    "thisset.discard(\"cherry\")\n",
    "print(thisset)\n",
    "\n"
   ],
   "execution_count": null,
   "outputs": []
  },
  {
   "cell_type": "code",
   "metadata": {
    "id": "iygVTuaufhzB"
   },
   "source": [
    "# Concatenating two set (union or update)\n",
    "\n",
    "set1 = {\"a\", \"b\" , \"2\"}\n",
    "set2 = {\"1\",\"2\", \"3\"}\n",
    "set3 = set1.union(set2)\n",
    "print(set3)"
   ],
   "execution_count": null,
   "outputs": []
  },
  {
   "cell_type": "code",
   "metadata": {
    "id": "hx4dG9NzfkSp"
   },
   "source": [
    "set1.update(set2) # update() function in set adds elements from a set (passed as an argument) to the set\n",
    "# Update() method takes only a single argument. The single argument can be a set, list, tuples or a dictionary.\n",
    "# It automatically converts into a set and adds to the set. \n",
    "print(set1)\n",
    "\n",
    "# Set difference() Method Return a set that contains the items that only exist in set1, and not in set2\n",
    "z = set1.difference(set2)\n",
    "print(z)\n",
    "\n",
    "# Return a set that contains the items that exist in both set1, and set2:\n",
    "z1 = set1.intersection(set2)\n",
    "print(z1)"
   ],
   "execution_count": null,
   "outputs": []
  },
  {
   "cell_type": "markdown",
   "metadata": {
    "id": "jj3Df4ynQbJS"
   },
   "source": [
    "### *Dictionary*"
   ]
  },
  {
   "cell_type": "code",
   "metadata": {
    "id": "_yemTlIEQf3Z"
   },
   "source": [
    "# A dictionary is a collection which is unordered, changeable and indexed. \n",
    "# In Python, dictionaries are written with curly brackets, and they have keys and values.\n",
    "\n",
    "thisdict= {\n",
    "    \"brand\": \"Ford\",\n",
    "  \"model\": \"Mustang\",\n",
    "  \"year\": 1964\n",
    "}\n",
    "print(thisdict)"
   ],
   "execution_count": null,
   "outputs": []
  },
  {
   "cell_type": "code",
   "metadata": {
    "id": "x7MWQkY4fpDi"
   },
   "source": [
    "# Accessing items of dictionary\n",
    "x = thisdict[\"brand\"]\n",
    "y = thisdict[\"model\"]\n",
    "print(x,y)\n",
    "\n",
    "# printing the keys\n",
    "for x in thisdict:\n",
    "  print(x)"
   ],
   "execution_count": null,
   "outputs": []
  },
  {
   "cell_type": "code",
   "metadata": {
    "id": "YGU76XkZfrSJ"
   },
   "source": [
    "# printing the values\n",
    "for x in thisdict:\n",
    "  print(thisdict[x])\n",
    "\n",
    "# Change a value\n",
    "thisdict[\"year\"]= 1995\n",
    "\n",
    "print(thisdict)\n",
    "\n",
    "# How can you change the key in a dictionary?"
   ],
   "execution_count": null,
   "outputs": []
  },
  {
   "cell_type": "markdown",
   "metadata": {
    "id": "Kc-Bksh4ScNT"
   },
   "source": [
    "## <font color = 'orange'>*Conditional statements*</font>"
   ]
  },
  {
   "cell_type": "code",
   "metadata": {
    "id": "Q7b2xbGrSjIy"
   },
   "source": [
    "a=0\n",
    "if a<0:\n",
    "  print('a is negative')\n",
    "elif a>0:\n",
    "  print('a is positive')\n",
    "else:\n",
    "  print('a is zero')"
   ],
   "execution_count": null,
   "outputs": []
  },
  {
   "cell_type": "markdown",
   "metadata": {
    "id": "GAyZFSe1RYyb"
   },
   "source": [
    "## <font color = 'lightgreen'>*Functions and Scopes*</font>"
   ]
  },
  {
   "cell_type": "code",
   "metadata": {
    "id": "_U3PkdBkRnk5"
   },
   "source": [
    "# defining a function and a global variable\n",
    "\n",
    "def add(a, b):\n",
    "  global sayHI\n",
    "  sayHI = 'Hello There!'\n",
    "  sayNO = 'NOOOOOOOOOO!'\n",
    "  return a+b\n",
    "\n",
    "print(add(5,2))\n",
    "print(sayHI)\n"
   ],
   "execution_count": null,
   "outputs": []
  },
  {
   "cell_type": "markdown",
   "metadata": {
    "id": "F-AkIF0GSxmL"
   },
   "source": [
    "# <font color = 'violet'>**Instaling third party libraries**</font>\n",
    "\n"
   ]
  },
  {
   "cell_type": "markdown",
   "metadata": {
    "id": "xthbTkAG-pfc"
   },
   "source": [
    "*   NumPy\n",
    "*   Pandas\n",
    "*   Matplotlib\n",
    "*   Seaborn"
   ]
  },
  {
   "cell_type": "markdown",
   "metadata": {
    "id": "KZKx9Fj7TNQU"
   },
   "source": [
    "## *Installing directly from terminal*"
   ]
  },
  {
   "cell_type": "markdown",
   "metadata": {
    "id": "sDeEQFZbTfj5"
   },
   "source": [
    " **pip** is the standard package manager for Python. It allows you to install and manage additional packages that are not part of the Python standard library."
   ]
  },
  {
   "cell_type": "code",
   "metadata": {
    "id": "MLFttT-9TVsa"
   },
   "source": [
    "!pip install numpy pandas matplotlib seaborn"
   ],
   "execution_count": null,
   "outputs": []
  },
  {
   "cell_type": "markdown",
   "metadata": {
    "id": "Ut3UyxqxTtDJ"
   },
   "source": [
    "## *Installing from text file*"
   ]
  },
  {
   "cell_type": "markdown",
   "metadata": {
    "id": "FP5VRjOmU2lL"
   },
   "source": [
    "### Creating a text file in python"
   ]
  },
  {
   "cell_type": "code",
   "metadata": {
    "id": "JfrqTOmlUUrT"
   },
   "source": [
    "requirementsFile = open(\"requirements.txt\",\"w+\")"
   ],
   "execution_count": null,
   "outputs": []
  },
  {
   "cell_type": "code",
   "metadata": {
    "id": "sfJ1yZ8FU1zC"
   },
   "source": [
    "pip install -r /content/requirements.txt"
   ],
   "execution_count": null,
   "outputs": []
  },
  {
   "cell_type": "markdown",
   "metadata": {
    "id": "XOzffMAwVk5K"
   },
   "source": [
    "### List of Installed packages"
   ]
  },
  {
   "cell_type": "code",
   "metadata": {
    "id": "jaH5a3fhVgU6"
   },
   "source": [
    "!pip list"
   ],
   "execution_count": null,
   "outputs": []
  },
  {
   "cell_type": "markdown",
   "metadata": {
    "id": "4MOaeIpdVpZy"
   },
   "source": [
    "# <font color = orange> NumPy </font> <br>"
   ]
  },
  {
   "cell_type": "markdown",
   "metadata": {
    "id": "tVh4IpLo-vas"
   },
   "source": [
    "The best source to know about any third party library is it's dcumentation.\n",
    "\n",
    "[Numpy Documentation](https://numpy.org/doc/)"
   ]
  },
  {
   "cell_type": "markdown",
   "metadata": {
    "id": "cDLsTEgVWG26"
   },
   "source": [
    "NumPy is a Python library used for working with arrays. NumPy is short for \"Numerical Python\".\n",
    "NumPy aims to provide an array object that is up to 30x faster than traditional Python lists. It is mainly used for large multi-dimensional array and matrix processing."
   ]
  },
  {
   "cell_type": "code",
   "metadata": {
    "id": "8etVSZ3pX9N6"
   },
   "source": [
    "import numpy as np # importing libraries\n",
    "\n",
    "arr0 = np.array(23)\n",
    "print(arr0)\n",
    "arr1 = np.array([1, 2, 3, 4, 5])\n",
    "print(arr1)\n",
    "arr2 = np.array([[1, 2, 3,5],[4, 5, 6, 8]])\n",
    "print(arr2)"
   ],
   "execution_count": null,
   "outputs": []
  },
  {
   "cell_type": "code",
   "metadata": {
    "id": "Wxj2xAAlfzti"
   },
   "source": [
    "print(arr2.ndim) # no of dimensions\n",
    "print(arr2[1,0])\n",
    "print(arr2[1,-1])\n"
   ],
   "execution_count": null,
   "outputs": []
  },
  {
   "cell_type": "code",
   "metadata": {
    "id": "asOsMmNFf29d"
   },
   "source": [
    "#[start:end:step].\n",
    "print(arr2[1,0:2])\n",
    "print(arr2[1,::3])\n",
    "\n",
    "print(arr2.dtype) # data type"
   ],
   "execution_count": null,
   "outputs": []
  },
  {
   "cell_type": "markdown",
   "metadata": {
    "id": "oJTOaNC_94Ig"
   },
   "source": [
    "## *Numpy array shapes*"
   ]
  },
  {
   "cell_type": "code",
   "metadata": {
    "id": "RjjDFKqx5SIv"
   },
   "source": [
    "# NumPy arrays have an attribute called shape that returns a tuple with each index having the number of corresponding elements.\n",
    "\n",
    "print(arr2.shape)\n",
    "print(type(arr2.shape))"
   ],
   "execution_count": null,
   "outputs": []
  },
  {
   "cell_type": "code",
   "metadata": {
    "id": "MkMVTd2Nf_7E"
   },
   "source": [
    "#Reshaping means changing the shape of an array.\n",
    "#The shape of an array is the number of elements in each dimension.\n",
    "#By reshaping we can add or remove dimensions or change number of elements in each dimension.\n",
    "\n",
    "arr = np.array([1, 2, 3, 4, 5, 6, 7, 8, 9, 10, 11, 12])\n",
    "\n",
    "newarr = arr.reshape(4, 3)\n",
    "print(newarr)\n",
    "newarr1 = arr.reshape(2, 3, 2)\n",
    "print(newarr1)"
   ],
   "execution_count": null,
   "outputs": []
  },
  {
   "cell_type": "code",
   "metadata": {
    "id": "d5JvFsJPgCzp"
   },
   "source": [
    "# Flattening the arrays\n",
    "# Flattening array means converting a multidimensional array into a 1D array.\n",
    "# We can use reshape(-1) to do this.\n",
    "newarr3 = newarr1.reshape(-1)\n",
    "print(newarr3)"
   ],
   "execution_count": null,
   "outputs": []
  },
  {
   "cell_type": "markdown",
   "metadata": {
    "id": "6_vbIrFm-VHw"
   },
   "source": [
    "## *Numpy array of Ones and Zeros*"
   ]
  },
  {
   "cell_type": "code",
   "metadata": {
    "id": "ctuRPlks-ZAH"
   },
   "source": [
    "# The numpy.zeros() function returns a new array of given shape and type, with zeros.\n",
    "rows, cols = 3,4\n",
    "arrayZero = np.zeros([3,3])\n",
    "print(arrayZero)\n",
    "arrayZero2 = np.zeros([rows,cols])\n",
    "print(arrayZero2)\n",
    "\n",
    "arrayOne = np.ones([rows,cols])\n",
    "print(arrayOne)"
   ],
   "execution_count": null,
   "outputs": []
  },
  {
   "cell_type": "markdown",
   "metadata": {
    "id": "0TtmUAu2-wwK"
   },
   "source": [
    "## *Random numbers with Numpy*"
   ]
  },
  {
   "cell_type": "code",
   "metadata": {
    "id": "HIo15ytR-26g"
   },
   "source": [
    "x = np.random.rand(2,5) # Random numbers between 0 and 1 (Not-Included)\n",
    "print(x)\n",
    "\n",
    "y = np.random.randint(1,20, size = (3,3)) # Random integers within pecified range\n",
    "print(y)\n",
    "\n",
    "z = np.random.randn(2,5)\n",
    "print(z)"
   ],
   "execution_count": null,
   "outputs": []
  },
  {
   "cell_type": "code",
   "metadata": {
    "id": "LmK1da5_gJXz"
   },
   "source": [
    "a = np.eye(5) # Identity\n",
    "print(a)\n",
    "a1 = np.eye(2, 3)\n",
    "print(a1)"
   ],
   "execution_count": null,
   "outputs": []
  },
  {
   "cell_type": "code",
   "metadata": {
    "id": "Y40p3Dq6gLbB"
   },
   "source": [
    "c = np.transpose(a1)\n",
    "print(c)\n",
    "\n",
    "print(np.matmul(c, np.transpose(c))) # Matrix Mutiplication"
   ],
   "execution_count": null,
   "outputs": []
  },
  {
   "cell_type": "markdown",
   "metadata": {
    "id": "a5TsLap3CFLh"
   },
   "source": [
    "# <font color = 'orange'>**Pandas**</font><br>"
   ]
  },
  {
   "cell_type": "markdown",
   "metadata": {
    "id": "yJd4p6IU-3Xc"
   },
   "source": [
    "*pandas* is a Python package providing fast, flexible, and expressive data structures designed to work with relational or labeled data both. It is a fundamental high-level building block for doing practical, real world data analysis in Python.<br>\n",
    "*pandas* is well suited for tabular data with heterogeneously-typed columns, as in an SQL table or Excel spreadsheet."
   ]
  },
  {
   "cell_type": "code",
   "metadata": {
    "id": "PlAX9jQ_IEOf"
   },
   "source": [
    "import pandas as pd # Importing library"
   ],
   "execution_count": null,
   "outputs": []
  },
  {
   "cell_type": "markdown",
   "metadata": {
    "id": "ykc25CmTISku"
   },
   "source": [
    "## **DataFrame**<br>\n",
    "A DataFrame is a tabular data structure, encapsulating multiple series like columns in a spreadsheet. Data are stored internally as a 2-dimensional object, but the DataFrame allows us to represent and manipulate higher-dimensional data."
   ]
  },
  {
   "cell_type": "code",
   "metadata": {
    "id": "D8Wwi9aJIVJ9"
   },
   "source": [
    "# Initializing a DataFrame\n",
    "\n",
    "data = pd.DataFrame({'value':[632, 1638, 569, 115, 433, 1130, 754, 555],\n",
    "                     'patient':[1, 1, 1, 1, 2, 2, 2, 2],\n",
    "                     'phylum':['Firmicutes', 'Proteobacteria', 'Actinobacteria', \n",
    "    'Bacteroidetes', 'Firmicutes', 'Proteobacteria', 'Actinobacteria', 'Bacteroidetes']})\n",
    "data\n"
   ],
   "execution_count": null,
   "outputs": []
  },
  {
   "cell_type": "code",
   "metadata": {
    "id": "iQD0blSTI9K-"
   },
   "source": [
    "# We can change the order by indexing them in the order we desire.\n",
    "data = data[['phylum','value','patient']]\n",
    "data"
   ],
   "execution_count": null,
   "outputs": []
  },
  {
   "cell_type": "code",
   "metadata": {
    "id": "ZvPUpzNoIVQG"
   },
   "source": [
    "print(data.columns) # Printing column names\n",
    "print(data.dtypes) # Printing column types\n",
    "print(data['patient']) # Printing single column"
   ],
   "execution_count": null,
   "outputs": []
  },
  {
   "cell_type": "code",
   "metadata": {
    "id": "l4tGUUPIJPum"
   },
   "source": [
    "print(data.iloc[0]) # Printing single row\n",
    "print(len(data)) # Total number of rows"
   ],
   "execution_count": null,
   "outputs": []
  },
  {
   "cell_type": "code",
   "metadata": {
    "id": "2y0XXk07KEf_"
   },
   "source": [
    "# Iterating DataFrame\n",
    "for i in range(0, len(data)):\n",
    "  print(data.iloc[i])"
   ],
   "execution_count": null,
   "outputs": []
  },
  {
   "cell_type": "code",
   "metadata": {
    "id": "BgL5Z3vsKU_P"
   },
   "source": [
    "# An alternative way of initializing a DataFrame is with a list of dictionaries.\n",
    "\n",
    "data = pd.DataFrame([{'patient': 1, 'phylum': 'Firmicutes', 'value': 632},\n",
    "                    {'patient': 1, 'phylum': 'Proteobacteria', 'value': 1638},\n",
    "                    {'patient': 1, 'phylum': 'Actinobacteria', 'value': 569},\n",
    "                    {'patient': 1, 'phylum': 'Bacteroidetes', 'value': 115},\n",
    "                    {'patient': 2, 'phylum': 'Firmicutes', 'value': 433},\n",
    "                    {'patient': 2, 'phylum': 'Proteobacteria', 'value': 1130},\n",
    "                    {'patient': 2, 'phylum': 'Actinobacteria', 'value': 754},\n",
    "                    {'patient': 2, 'phylum': 'Bacteroidetes', 'value': 555}])\n",
    "\n",
    "data"
   ],
   "execution_count": null,
   "outputs": []
  },
  {
   "cell_type": "code",
   "metadata": {
    "id": "tkmm1W_2Knwe"
   },
   "source": [
    "# Each row in a DataFrame is an object. We can change the row data as following.\n",
    "data.patient[0] = 500\n",
    "data"
   ],
   "execution_count": null,
   "outputs": []
  },
  {
   "cell_type": "code",
   "metadata": {
    "id": "6q0FR_n0LWXw"
   },
   "source": [
    "# Copy and Modify\n",
    "\n",
    "patients = data.patient.copy()\n",
    "patients[1] = 200\n",
    "print(data)\n",
    "print(\"---------\")\n",
    "print(patients)"
   ],
   "execution_count": null,
   "outputs": []
  },
  {
   "cell_type": "code",
   "metadata": {
    "id": "e1SAqR2_Lvz4"
   },
   "source": [
    "# Adding a column\n",
    "data['year'] = 2021\n",
    "data"
   ],
   "execution_count": null,
   "outputs": []
  },
  {
   "cell_type": "markdown",
   "metadata": {
    "id": "hTn2eg_MN6mC"
   },
   "source": [
    "## **Downloading Dataset**"
   ]
  },
  {
   "cell_type": "code",
   "metadata": {
    "id": "zUdaSg6cNpHD"
   },
   "source": [
    "!gdown --id 1yniDu31JGo7-Df7Zt9N_9n89i90Ot74W"
   ],
   "execution_count": null,
   "outputs": []
  },
  {
   "cell_type": "markdown",
   "metadata": {
    "id": "74dPUTLJtbio"
   },
   "source": [
    "## **Decompressing files**"
   ]
  },
  {
   "cell_type": "code",
   "metadata": {
    "id": "PB9p7rFwtayR"
   },
   "source": [
    "!unzip /content/Titanic-ML_from_Disaster.zip"
   ],
   "execution_count": null,
   "outputs": []
  },
  {
   "cell_type": "markdown",
   "metadata": {
    "id": "7gT_nuv6pV9W"
   },
   "source": [
    "## Reading from CSV using Pandas"
   ]
  },
  {
   "cell_type": "code",
   "metadata": {
    "id": "vP1v1Olypagu"
   },
   "source": [
    "train = pd.read_csv('/content/train.csv')"
   ],
   "execution_count": null,
   "outputs": []
  },
  {
   "cell_type": "code",
   "metadata": {
    "id": "xCQOgDLopjfc"
   },
   "source": [
    "# Information about first six rows - Including header\n",
    "train.head()"
   ],
   "execution_count": null,
   "outputs": []
  },
  {
   "cell_type": "code",
   "metadata": {
    "id": "E9m1LpNQprH9"
   },
   "source": [
    "# Condition on column values\n",
    "new_train = train[(train.Age>30) & (train.Survived==1)]\n",
    "new_train"
   ],
   "execution_count": null,
   "outputs": []
  },
  {
   "cell_type": "code",
   "metadata": {
    "id": "vCi6oh-GqCEr"
   },
   "source": [
    "# Adding a new Column\n",
    "randomCol = []\n",
    "for i in range(0, len(new_train)):\n",
    "  randomCol.append(random.randint(0,100))\n",
    "  \n",
    "new_train['Randomness'] = randomCol\n",
    "new_train"
   ],
   "execution_count": null,
   "outputs": []
  },
  {
   "cell_type": "code",
   "metadata": {
    "id": "c6GwjBbWqk2d"
   },
   "source": [
    "# Dropping a column\n",
    "new_train.drop(labels=['Randomness'], inplace=True, axis = 1)\n",
    "new_train"
   ],
   "execution_count": null,
   "outputs": []
  },
  {
   "cell_type": "code",
   "metadata": {
    "id": "FyEE7rBHsbqf"
   },
   "source": [
    "# Dropping a row\n",
    "new_train.drop(labels=[1,3], inplace=True, axis=0)\n",
    "new_train"
   ],
   "execution_count": null,
   "outputs": []
  }
 ]
}